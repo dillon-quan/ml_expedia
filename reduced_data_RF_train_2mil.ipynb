{
 "cells": [
  {
   "cell_type": "code",
   "execution_count": 1,
   "metadata": {
    "ExecuteTime": {
     "end_time": "2019-12-01T08:28:19.377330Z",
     "start_time": "2019-12-01T08:28:11.507114Z"
    }
   },
   "outputs": [],
   "source": [
    "# import the necessary libraries\n",
    "import matplotlib.pyplot as plt\n",
    "import warnings\n",
    "from sklearn.metrics import confusion_matrix, classification_report\n",
    "from sklearn.metrics import f1_score, accuracy_score\n",
    "from sklearn.model_selection import RandomizedSearchCV\n",
    "from sklearn.model_selection import StratifiedShuffleSplit\n",
    "from sklearn.ensemble import RandomForestClassifier\n",
    "from sklearn.linear_model import LogisticRegression\n",
    "from sklearn.tree import DecisionTreeClassifier\n",
    "from sklearn.model_selection import train_test_split\n",
    "from sklearn.pipeline import Pipeline\n",
    "from sklearn.compose import ColumnTransformer\n",
    "from sklearn.impute import SimpleImputer\n",
    "from tqdm import tqdm\n",
    "import numpy as np\n",
    "import pandas as pd\n",
    "pd.options.display.max_columns = None\n",
    "warnings.filterwarnings('ignore')"
   ]
  },
  {
   "cell_type": "markdown",
   "metadata": {},
   "source": [
    "## 2 Million Samples"
   ]
  },
  {
   "cell_type": "markdown",
   "metadata": {},
   "source": [
    "## Load Data"
   ]
  },
  {
   "cell_type": "code",
   "execution_count": 2,
   "metadata": {
    "ExecuteTime": {
     "end_time": "2019-12-01T08:31:01.143389Z",
     "start_time": "2019-12-01T08:30:43.266855Z"
    },
    "scrolled": false
   },
   "outputs": [],
   "source": [
    "#reading in the file into pandas dataframe\n",
    "df = pd.read_csv('train_reduce.csv')"
   ]
  },
  {
   "cell_type": "code",
   "execution_count": 3,
   "metadata": {
    "ExecuteTime": {
     "end_time": "2019-12-01T08:31:08.406425Z",
     "start_time": "2019-12-01T08:31:08.393262Z"
    }
   },
   "outputs": [
    {
     "name": "stdout",
     "output_type": "stream",
     "text": [
      "<class 'pandas.core.frame.DataFrame'>\n",
      "RangeIndex: 3920622 entries, 0 to 3920621\n",
      "Data columns (total 24 columns):\n",
      "date_time                    object\n",
      "site_name                    int64\n",
      "posa_continent               int64\n",
      "user_location_country        int64\n",
      "user_location_region         int64\n",
      "user_location_city           int64\n",
      "orig_destination_distance    float64\n",
      "user_id                      int64\n",
      "is_mobile                    int64\n",
      "is_package                   int64\n",
      "channel                      int64\n",
      "srch_ci                      object\n",
      "srch_co                      object\n",
      "srch_adults_cnt              int64\n",
      "srch_children_cnt            int64\n",
      "srch_rm_cnt                  int64\n",
      "srch_destination_id          int64\n",
      "srch_destination_type_id     int64\n",
      "is_booking                   int64\n",
      "cnt                          int64\n",
      "hotel_continent              int64\n",
      "hotel_country                int64\n",
      "hotel_market                 int64\n",
      "hotel_cluster                int64\n",
      "dtypes: float64(1), int64(20), object(3)\n",
      "memory usage: 717.9+ MB\n"
     ]
    }
   ],
   "source": [
    "df.info()"
   ]
  },
  {
   "cell_type": "code",
   "execution_count": 5,
   "metadata": {
    "ExecuteTime": {
     "end_time": "2019-12-01T08:31:34.976174Z",
     "start_time": "2019-12-01T08:31:34.912970Z"
    }
   },
   "outputs": [
    {
     "data": {
      "text/plain": [
       "array([1, 2, 5, 6, 8, 9, 7, 4, 0, 3])"
      ]
     },
     "execution_count": 5,
     "metadata": {},
     "output_type": "execute_result"
    }
   ],
   "source": [
    "df.hotel_cluster.unique()"
   ]
  },
  {
   "cell_type": "code",
   "execution_count": 7,
   "metadata": {
    "ExecuteTime": {
     "end_time": "2019-12-01T08:32:15.286765Z",
     "start_time": "2019-12-01T08:32:14.316703Z"
    }
   },
   "outputs": [],
   "source": [
    "# separating the target variable and the predictor variables\n",
    "df_X = df.drop(columns=['hotel_cluster'])\n",
    "df_y = df['hotel_cluster']"
   ]
  },
  {
   "cell_type": "code",
   "execution_count": 8,
   "metadata": {
    "ExecuteTime": {
     "end_time": "2019-12-01T08:32:20.917605Z",
     "start_time": "2019-12-01T08:32:20.296447Z"
    }
   },
   "outputs": [
    {
     "name": "stdout",
     "output_type": "stream",
     "text": [
      "0: Percentages: 0.09689610475072578    Count: 379893\n",
      "1: Percentages: 0.11546484205822444    Count: 452694\n",
      "2: Percentages: 0.1108290980359749    Count: 434519\n",
      "3: Percentages: 0.05745261848757672    Count: 225250\n",
      "4: Percentages: 0.08974315810093399    Count: 351849\n",
      "5: Percentages: 0.15818765491802067    Count: 620194\n",
      "6: Percentages: 0.09804337168949212    Count: 384391\n",
      "7: Percentages: 0.06438952798816107    Count: 252447\n",
      "8: Percentages: 0.08443991795179438    Count: 331057\n",
      "9: Percentages: 0.12455370601909595    Count: 488328\n"
     ]
    }
   ],
   "source": [
    "# Checking the distributions of each target label\n",
    "for idx in range(0, 10):\n",
    "    print(f\"{idx}: Percentages: {(df_y.loc[(df_y == idx)].shape[0]) / df_y.shape[0]}\\\n",
    "    Count: {(df_y.loc[(df_y == idx)].shape[0])}\")"
   ]
  },
  {
   "cell_type": "code",
   "execution_count": 9,
   "metadata": {
    "ExecuteTime": {
     "end_time": "2019-12-01T08:32:39.313875Z",
     "start_time": "2019-12-01T08:32:30.661677Z"
    }
   },
   "outputs": [],
   "source": [
    "# using stratified shuffle split to get 50% of the filter data while keeping the distribution (~ 1mil samples)\n",
    "sss = StratifiedShuffleSplit(n_splits=1, train_size=0.5, random_state=0)\n",
    "for train_idx, test_idx in sss.split(df_X, df_y):\n",
    "    X_train, X_test = df_X.iloc[train_idx], df_X.iloc[test_idx]\n",
    "    y_train, y_test = df_y.iloc[train_idx], df_y.iloc[test_idx]"
   ]
  },
  {
   "cell_type": "code",
   "execution_count": 10,
   "metadata": {
    "ExecuteTime": {
     "end_time": "2019-12-01T08:32:42.465007Z",
     "start_time": "2019-12-01T08:32:42.432780Z"
    }
   },
   "outputs": [
    {
     "name": "stdout",
     "output_type": "stream",
     "text": [
      "<class 'pandas.core.frame.DataFrame'>\n",
      "Int64Index: 1960311 entries, 1188734 to 738893\n",
      "Data columns (total 23 columns):\n",
      "date_time                    object\n",
      "site_name                    int64\n",
      "posa_continent               int64\n",
      "user_location_country        int64\n",
      "user_location_region         int64\n",
      "user_location_city           int64\n",
      "orig_destination_distance    float64\n",
      "user_id                      int64\n",
      "is_mobile                    int64\n",
      "is_package                   int64\n",
      "channel                      int64\n",
      "srch_ci                      object\n",
      "srch_co                      object\n",
      "srch_adults_cnt              int64\n",
      "srch_children_cnt            int64\n",
      "srch_rm_cnt                  int64\n",
      "srch_destination_id          int64\n",
      "srch_destination_type_id     int64\n",
      "is_booking                   int64\n",
      "cnt                          int64\n",
      "hotel_continent              int64\n",
      "hotel_country                int64\n",
      "hotel_market                 int64\n",
      "dtypes: float64(1), int64(19), object(3)\n",
      "memory usage: 358.9+ MB\n"
     ]
    }
   ],
   "source": [
    "X_train.info()"
   ]
  },
  {
   "cell_type": "markdown",
   "metadata": {},
   "source": [
    "## Date Time Feature Engineering"
   ]
  },
  {
   "cell_type": "code",
   "execution_count": 11,
   "metadata": {
    "ExecuteTime": {
     "end_time": "2019-12-01T08:32:48.480483Z",
     "start_time": "2019-12-01T08:32:46.618048Z"
    }
   },
   "outputs": [
    {
     "name": "stdout",
     "output_type": "stream",
     "text": [
      "<class 'pandas.core.frame.DataFrame'>\n",
      "RangeIndex: 1960311 entries, 0 to 1960310\n",
      "Data columns (total 23 columns):\n",
      "date_time                    object\n",
      "site_name                    int64\n",
      "posa_continent               int64\n",
      "user_location_country        int64\n",
      "user_location_region         int64\n",
      "user_location_city           int64\n",
      "orig_destination_distance    float64\n",
      "user_id                      int64\n",
      "is_mobile                    int64\n",
      "is_package                   int64\n",
      "channel                      int64\n",
      "srch_ci                      object\n",
      "srch_co                      object\n",
      "srch_adults_cnt              int64\n",
      "srch_children_cnt            int64\n",
      "srch_rm_cnt                  int64\n",
      "srch_destination_id          int64\n",
      "srch_destination_type_id     int64\n",
      "is_booking                   int64\n",
      "cnt                          int64\n",
      "hotel_continent              int64\n",
      "hotel_country                int64\n",
      "hotel_market                 int64\n",
      "dtypes: float64(1), int64(19), object(3)\n",
      "memory usage: 344.0+ MB\n"
     ]
    }
   ],
   "source": [
    "#reset the index\n",
    "sample_x = X_train.reset_index(drop=True)\n",
    "sample_y = y_train.reset_index(drop=True)\n",
    "sample_x.info()"
   ]
  },
  {
   "cell_type": "code",
   "execution_count": 12,
   "metadata": {
    "ExecuteTime": {
     "end_time": "2019-12-01T08:32:54.745909Z",
     "start_time": "2019-12-01T08:32:50.680227Z"
    }
   },
   "outputs": [],
   "source": [
    "# feature engineering into datetime\n",
    "sample_x['date_time'] = pd.to_datetime(sample_x['date_time'], yearfirst=True)\n",
    "sample_x['srch_ci'] = pd.to_datetime(sample_x['srch_ci'], yearfirst=True, errors='coerce')\n",
    "sample_x['srch_co'] = pd.to_datetime(sample_x['srch_co'], yearfirst=True, errors='coerce')\n",
    "\n",
    "# timedelta for days in advance feature\n",
    "sample_x['advance'] = sample_x['srch_ci'] - sample_x['date_time']\n",
    "sample_x['advance'] = sample_x.advance.dt.days\n",
    "\n",
    "# duration of stays\n",
    "sample_x['duration'] = sample_x['srch_co'] - sample_x['srch_ci']\n",
    "sample_x['duration'] = sample_x.duration.dt.days"
   ]
  },
  {
   "cell_type": "code",
   "execution_count": 13,
   "metadata": {
    "ExecuteTime": {
     "end_time": "2019-12-01T08:32:55.453450Z",
     "start_time": "2019-12-01T08:32:55.411767Z"
    }
   },
   "outputs": [
    {
     "data": {
      "text/html": [
       "<div>\n",
       "<style scoped>\n",
       "    .dataframe tbody tr th:only-of-type {\n",
       "        vertical-align: middle;\n",
       "    }\n",
       "\n",
       "    .dataframe tbody tr th {\n",
       "        vertical-align: top;\n",
       "    }\n",
       "\n",
       "    .dataframe thead th {\n",
       "        text-align: right;\n",
       "    }\n",
       "</style>\n",
       "<table border=\"1\" class=\"dataframe\">\n",
       "  <thead>\n",
       "    <tr style=\"text-align: right;\">\n",
       "      <th></th>\n",
       "      <th>date_time</th>\n",
       "      <th>site_name</th>\n",
       "      <th>posa_continent</th>\n",
       "      <th>user_location_country</th>\n",
       "      <th>user_location_region</th>\n",
       "      <th>user_location_city</th>\n",
       "      <th>orig_destination_distance</th>\n",
       "      <th>user_id</th>\n",
       "      <th>is_mobile</th>\n",
       "      <th>is_package</th>\n",
       "      <th>channel</th>\n",
       "      <th>srch_ci</th>\n",
       "      <th>srch_co</th>\n",
       "      <th>srch_adults_cnt</th>\n",
       "      <th>srch_children_cnt</th>\n",
       "      <th>srch_rm_cnt</th>\n",
       "      <th>srch_destination_id</th>\n",
       "      <th>srch_destination_type_id</th>\n",
       "      <th>is_booking</th>\n",
       "      <th>cnt</th>\n",
       "      <th>hotel_continent</th>\n",
       "      <th>hotel_country</th>\n",
       "      <th>hotel_market</th>\n",
       "      <th>advance</th>\n",
       "      <th>duration</th>\n",
       "    </tr>\n",
       "  </thead>\n",
       "  <tbody>\n",
       "    <tr>\n",
       "      <td>0</td>\n",
       "      <td>2014-08-28 08:51:16</td>\n",
       "      <td>2</td>\n",
       "      <td>3</td>\n",
       "      <td>66</td>\n",
       "      <td>448</td>\n",
       "      <td>18390</td>\n",
       "      <td>103.3408</td>\n",
       "      <td>640795</td>\n",
       "      <td>0</td>\n",
       "      <td>0</td>\n",
       "      <td>7</td>\n",
       "      <td>2014-09-05</td>\n",
       "      <td>2014-09-07</td>\n",
       "      <td>1</td>\n",
       "      <td>2</td>\n",
       "      <td>1</td>\n",
       "      <td>25692</td>\n",
       "      <td>6</td>\n",
       "      <td>0</td>\n",
       "      <td>3</td>\n",
       "      <td>2</td>\n",
       "      <td>50</td>\n",
       "      <td>486</td>\n",
       "      <td>7.0</td>\n",
       "      <td>2.0</td>\n",
       "    </tr>\n",
       "    <tr>\n",
       "      <td>1</td>\n",
       "      <td>2014-08-12 20:26:52</td>\n",
       "      <td>2</td>\n",
       "      <td>3</td>\n",
       "      <td>66</td>\n",
       "      <td>220</td>\n",
       "      <td>38252</td>\n",
       "      <td>2030.9345</td>\n",
       "      <td>527042</td>\n",
       "      <td>0</td>\n",
       "      <td>0</td>\n",
       "      <td>9</td>\n",
       "      <td>2014-08-20</td>\n",
       "      <td>2014-08-22</td>\n",
       "      <td>1</td>\n",
       "      <td>0</td>\n",
       "      <td>1</td>\n",
       "      <td>8250</td>\n",
       "      <td>1</td>\n",
       "      <td>0</td>\n",
       "      <td>2</td>\n",
       "      <td>2</td>\n",
       "      <td>50</td>\n",
       "      <td>628</td>\n",
       "      <td>7.0</td>\n",
       "      <td>2.0</td>\n",
       "    </tr>\n",
       "    <tr>\n",
       "      <td>2</td>\n",
       "      <td>2013-12-05 20:32:48</td>\n",
       "      <td>37</td>\n",
       "      <td>1</td>\n",
       "      <td>69</td>\n",
       "      <td>693</td>\n",
       "      <td>19647</td>\n",
       "      <td>NaN</td>\n",
       "      <td>280920</td>\n",
       "      <td>0</td>\n",
       "      <td>1</td>\n",
       "      <td>2</td>\n",
       "      <td>2014-04-23</td>\n",
       "      <td>2014-04-26</td>\n",
       "      <td>6</td>\n",
       "      <td>0</td>\n",
       "      <td>3</td>\n",
       "      <td>8407</td>\n",
       "      <td>6</td>\n",
       "      <td>0</td>\n",
       "      <td>2</td>\n",
       "      <td>6</td>\n",
       "      <td>144</td>\n",
       "      <td>4</td>\n",
       "      <td>138.0</td>\n",
       "      <td>3.0</td>\n",
       "    </tr>\n",
       "    <tr>\n",
       "      <td>3</td>\n",
       "      <td>2013-04-02 14:51:20</td>\n",
       "      <td>37</td>\n",
       "      <td>1</td>\n",
       "      <td>69</td>\n",
       "      <td>596</td>\n",
       "      <td>42857</td>\n",
       "      <td>NaN</td>\n",
       "      <td>929121</td>\n",
       "      <td>0</td>\n",
       "      <td>0</td>\n",
       "      <td>9</td>\n",
       "      <td>2013-08-28</td>\n",
       "      <td>2013-08-30</td>\n",
       "      <td>2</td>\n",
       "      <td>0</td>\n",
       "      <td>1</td>\n",
       "      <td>8808</td>\n",
       "      <td>1</td>\n",
       "      <td>1</td>\n",
       "      <td>1</td>\n",
       "      <td>6</td>\n",
       "      <td>169</td>\n",
       "      <td>28</td>\n",
       "      <td>147.0</td>\n",
       "      <td>2.0</td>\n",
       "    </tr>\n",
       "    <tr>\n",
       "      <td>4</td>\n",
       "      <td>2014-02-18 15:31:14</td>\n",
       "      <td>24</td>\n",
       "      <td>2</td>\n",
       "      <td>3</td>\n",
       "      <td>49</td>\n",
       "      <td>4463</td>\n",
       "      <td>NaN</td>\n",
       "      <td>1197377</td>\n",
       "      <td>0</td>\n",
       "      <td>0</td>\n",
       "      <td>1</td>\n",
       "      <td>2014-07-30</td>\n",
       "      <td>2014-07-31</td>\n",
       "      <td>3</td>\n",
       "      <td>0</td>\n",
       "      <td>1</td>\n",
       "      <td>15451</td>\n",
       "      <td>3</td>\n",
       "      <td>0</td>\n",
       "      <td>1</td>\n",
       "      <td>6</td>\n",
       "      <td>105</td>\n",
       "      <td>1871</td>\n",
       "      <td>161.0</td>\n",
       "      <td>1.0</td>\n",
       "    </tr>\n",
       "  </tbody>\n",
       "</table>\n",
       "</div>"
      ],
      "text/plain": [
       "            date_time  site_name  posa_continent  user_location_country  \\\n",
       "0 2014-08-28 08:51:16          2               3                     66   \n",
       "1 2014-08-12 20:26:52          2               3                     66   \n",
       "2 2013-12-05 20:32:48         37               1                     69   \n",
       "3 2013-04-02 14:51:20         37               1                     69   \n",
       "4 2014-02-18 15:31:14         24               2                      3   \n",
       "\n",
       "   user_location_region  user_location_city  orig_destination_distance  \\\n",
       "0                   448               18390                   103.3408   \n",
       "1                   220               38252                  2030.9345   \n",
       "2                   693               19647                        NaN   \n",
       "3                   596               42857                        NaN   \n",
       "4                    49                4463                        NaN   \n",
       "\n",
       "   user_id  is_mobile  is_package  channel    srch_ci    srch_co  \\\n",
       "0   640795          0           0        7 2014-09-05 2014-09-07   \n",
       "1   527042          0           0        9 2014-08-20 2014-08-22   \n",
       "2   280920          0           1        2 2014-04-23 2014-04-26   \n",
       "3   929121          0           0        9 2013-08-28 2013-08-30   \n",
       "4  1197377          0           0        1 2014-07-30 2014-07-31   \n",
       "\n",
       "   srch_adults_cnt  srch_children_cnt  srch_rm_cnt  srch_destination_id  \\\n",
       "0                1                  2            1                25692   \n",
       "1                1                  0            1                 8250   \n",
       "2                6                  0            3                 8407   \n",
       "3                2                  0            1                 8808   \n",
       "4                3                  0            1                15451   \n",
       "\n",
       "   srch_destination_type_id  is_booking  cnt  hotel_continent  hotel_country  \\\n",
       "0                         6           0    3                2             50   \n",
       "1                         1           0    2                2             50   \n",
       "2                         6           0    2                6            144   \n",
       "3                         1           1    1                6            169   \n",
       "4                         3           0    1                6            105   \n",
       "\n",
       "   hotel_market  advance  duration  \n",
       "0           486      7.0       2.0  \n",
       "1           628      7.0       2.0  \n",
       "2             4    138.0       3.0  \n",
       "3            28    147.0       2.0  \n",
       "4          1871    161.0       1.0  "
      ]
     },
     "execution_count": 13,
     "metadata": {},
     "output_type": "execute_result"
    }
   ],
   "source": [
    "sample_x.head()"
   ]
  },
  {
   "cell_type": "code",
   "execution_count": 14,
   "metadata": {
    "ExecuteTime": {
     "end_time": "2019-12-01T08:33:01.788143Z",
     "start_time": "2019-12-01T08:33:00.662049Z"
    }
   },
   "outputs": [],
   "source": [
    "new_x = sample_x.drop(columns=['hotel_market', 'user_id', 'site_name',\n",
    "                               'posa_continent', 'user_location_region',\n",
    "                               'hotel_continent', 'date_time', 'srch_ci',\n",
    "                               'srch_co'])"
   ]
  },
  {
   "cell_type": "code",
   "execution_count": 15,
   "metadata": {
    "ExecuteTime": {
     "end_time": "2019-12-01T08:33:03.335453Z",
     "start_time": "2019-12-01T08:33:03.310322Z"
    }
   },
   "outputs": [
    {
     "data": {
      "text/html": [
       "<div>\n",
       "<style scoped>\n",
       "    .dataframe tbody tr th:only-of-type {\n",
       "        vertical-align: middle;\n",
       "    }\n",
       "\n",
       "    .dataframe tbody tr th {\n",
       "        vertical-align: top;\n",
       "    }\n",
       "\n",
       "    .dataframe thead th {\n",
       "        text-align: right;\n",
       "    }\n",
       "</style>\n",
       "<table border=\"1\" class=\"dataframe\">\n",
       "  <thead>\n",
       "    <tr style=\"text-align: right;\">\n",
       "      <th></th>\n",
       "      <th>user_location_country</th>\n",
       "      <th>user_location_city</th>\n",
       "      <th>orig_destination_distance</th>\n",
       "      <th>is_mobile</th>\n",
       "      <th>is_package</th>\n",
       "      <th>channel</th>\n",
       "      <th>srch_adults_cnt</th>\n",
       "      <th>srch_children_cnt</th>\n",
       "      <th>srch_rm_cnt</th>\n",
       "      <th>srch_destination_id</th>\n",
       "      <th>srch_destination_type_id</th>\n",
       "      <th>is_booking</th>\n",
       "      <th>cnt</th>\n",
       "      <th>hotel_country</th>\n",
       "      <th>advance</th>\n",
       "      <th>duration</th>\n",
       "    </tr>\n",
       "  </thead>\n",
       "  <tbody>\n",
       "    <tr>\n",
       "      <td>0</td>\n",
       "      <td>66</td>\n",
       "      <td>18390</td>\n",
       "      <td>103.3408</td>\n",
       "      <td>0</td>\n",
       "      <td>0</td>\n",
       "      <td>7</td>\n",
       "      <td>1</td>\n",
       "      <td>2</td>\n",
       "      <td>1</td>\n",
       "      <td>25692</td>\n",
       "      <td>6</td>\n",
       "      <td>0</td>\n",
       "      <td>3</td>\n",
       "      <td>50</td>\n",
       "      <td>7.0</td>\n",
       "      <td>2.0</td>\n",
       "    </tr>\n",
       "    <tr>\n",
       "      <td>1</td>\n",
       "      <td>66</td>\n",
       "      <td>38252</td>\n",
       "      <td>2030.9345</td>\n",
       "      <td>0</td>\n",
       "      <td>0</td>\n",
       "      <td>9</td>\n",
       "      <td>1</td>\n",
       "      <td>0</td>\n",
       "      <td>1</td>\n",
       "      <td>8250</td>\n",
       "      <td>1</td>\n",
       "      <td>0</td>\n",
       "      <td>2</td>\n",
       "      <td>50</td>\n",
       "      <td>7.0</td>\n",
       "      <td>2.0</td>\n",
       "    </tr>\n",
       "    <tr>\n",
       "      <td>2</td>\n",
       "      <td>69</td>\n",
       "      <td>19647</td>\n",
       "      <td>NaN</td>\n",
       "      <td>0</td>\n",
       "      <td>1</td>\n",
       "      <td>2</td>\n",
       "      <td>6</td>\n",
       "      <td>0</td>\n",
       "      <td>3</td>\n",
       "      <td>8407</td>\n",
       "      <td>6</td>\n",
       "      <td>0</td>\n",
       "      <td>2</td>\n",
       "      <td>144</td>\n",
       "      <td>138.0</td>\n",
       "      <td>3.0</td>\n",
       "    </tr>\n",
       "    <tr>\n",
       "      <td>3</td>\n",
       "      <td>69</td>\n",
       "      <td>42857</td>\n",
       "      <td>NaN</td>\n",
       "      <td>0</td>\n",
       "      <td>0</td>\n",
       "      <td>9</td>\n",
       "      <td>2</td>\n",
       "      <td>0</td>\n",
       "      <td>1</td>\n",
       "      <td>8808</td>\n",
       "      <td>1</td>\n",
       "      <td>1</td>\n",
       "      <td>1</td>\n",
       "      <td>169</td>\n",
       "      <td>147.0</td>\n",
       "      <td>2.0</td>\n",
       "    </tr>\n",
       "    <tr>\n",
       "      <td>4</td>\n",
       "      <td>3</td>\n",
       "      <td>4463</td>\n",
       "      <td>NaN</td>\n",
       "      <td>0</td>\n",
       "      <td>0</td>\n",
       "      <td>1</td>\n",
       "      <td>3</td>\n",
       "      <td>0</td>\n",
       "      <td>1</td>\n",
       "      <td>15451</td>\n",
       "      <td>3</td>\n",
       "      <td>0</td>\n",
       "      <td>1</td>\n",
       "      <td>105</td>\n",
       "      <td>161.0</td>\n",
       "      <td>1.0</td>\n",
       "    </tr>\n",
       "  </tbody>\n",
       "</table>\n",
       "</div>"
      ],
      "text/plain": [
       "   user_location_country  user_location_city  orig_destination_distance  \\\n",
       "0                     66               18390                   103.3408   \n",
       "1                     66               38252                  2030.9345   \n",
       "2                     69               19647                        NaN   \n",
       "3                     69               42857                        NaN   \n",
       "4                      3                4463                        NaN   \n",
       "\n",
       "   is_mobile  is_package  channel  srch_adults_cnt  srch_children_cnt  \\\n",
       "0          0           0        7                1                  2   \n",
       "1          0           0        9                1                  0   \n",
       "2          0           1        2                6                  0   \n",
       "3          0           0        9                2                  0   \n",
       "4          0           0        1                3                  0   \n",
       "\n",
       "   srch_rm_cnt  srch_destination_id  srch_destination_type_id  is_booking  \\\n",
       "0            1                25692                         6           0   \n",
       "1            1                 8250                         1           0   \n",
       "2            3                 8407                         6           0   \n",
       "3            1                 8808                         1           1   \n",
       "4            1                15451                         3           0   \n",
       "\n",
       "   cnt  hotel_country  advance  duration  \n",
       "0    3             50      7.0       2.0  \n",
       "1    2             50      7.0       2.0  \n",
       "2    2            144    138.0       3.0  \n",
       "3    1            169    147.0       2.0  \n",
       "4    1            105    161.0       1.0  "
      ]
     },
     "execution_count": 15,
     "metadata": {},
     "output_type": "execute_result"
    }
   ],
   "source": [
    "new_x.head()"
   ]
  },
  {
   "cell_type": "code",
   "execution_count": 16,
   "metadata": {
    "ExecuteTime": {
     "end_time": "2019-12-01T08:33:10.927811Z",
     "start_time": "2019-12-01T08:33:09.605148Z"
    }
   },
   "outputs": [
    {
     "data": {
      "text/plain": [
       "((1568248, 16), (392063, 16))"
      ]
     },
     "execution_count": 16,
     "metadata": {},
     "output_type": "execute_result"
    }
   ],
   "source": [
    "# Train test split the 5% data\n",
    "xtrain, xtest, ytrain, ytest = train_test_split(new_x, sample_y, test_size=.2 ,random_state=42)\n",
    "xtrain.shape, xtest.shape"
   ]
  },
  {
   "cell_type": "code",
   "execution_count": 17,
   "metadata": {
    "ExecuteTime": {
     "end_time": "2019-12-01T08:33:14.291838Z",
     "start_time": "2019-12-01T08:33:14.271934Z"
    }
   },
   "outputs": [],
   "source": [
    "# Building the pipeline\n",
    "def make_pipeline():\n",
    "    \"\"\"This function here makes the pipeline but does not include the clf to prevent data leakage.\"\"\"\n",
    "    \n",
    "    date_features = ['advance', 'duration']\n",
    "    date_transformer = Pipeline(steps=[('imp', SimpleImputer(missing_values=np.nan, strategy='constant', fill_value=0))])\n",
    "\n",
    "    distance = ['orig_destination_distance']\n",
    "    distance_transformer = Pipeline(steps=[('imp', SimpleImputer(missing_values=np.nan, strategy='mean'))])\n",
    "\n",
    "    preprocessor = ColumnTransformer(transformers=[('date', date_transformer, date_features),\n",
    "                                                   ('dist', distance_transformer, distance)],\n",
    "                                    remainder='passthrough')\n",
    "\n",
    "    pipeline = Pipeline([('preprocess', preprocessor)])\n",
    "    \n",
    "    return pipeline"
   ]
  },
  {
   "cell_type": "code",
   "execution_count": 18,
   "metadata": {
    "ExecuteTime": {
     "end_time": "2019-12-01T08:36:00.303563Z",
     "start_time": "2019-12-01T08:35:59.429125Z"
    }
   },
   "outputs": [
    {
     "data": {
      "text/plain": [
       "(1568248, 16)"
      ]
     },
     "execution_count": 18,
     "metadata": {},
     "output_type": "execute_result"
    }
   ],
   "source": [
    "# make the pipeline and transform the data\n",
    "pipeline = make_pipeline()\n",
    "trans_xtrain = pipeline.fit_transform(xtrain)\n",
    "trans_xtrain.shape # sanity check of datashape"
   ]
  },
  {
   "cell_type": "code",
   "execution_count": 19,
   "metadata": {
    "ExecuteTime": {
     "end_time": "2019-12-01T08:42:02.598742Z",
     "start_time": "2019-12-01T08:39:15.917814Z"
    }
   },
   "outputs": [
    {
     "data": {
      "text/plain": [
       "RandomForestClassifier(bootstrap=True, class_weight=None, criterion='gini',\n",
       "                       max_depth=10, max_features='auto', max_leaf_nodes=None,\n",
       "                       min_impurity_decrease=0.0, min_impurity_split=None,\n",
       "                       min_samples_leaf=1000, min_samples_split=2,\n",
       "                       min_weight_fraction_leaf=0.0, n_estimators=50, n_jobs=4,\n",
       "                       oob_score=True, random_state=42, verbose=0,\n",
       "                       warm_start=False)"
      ]
     },
     "execution_count": 19,
     "metadata": {},
     "output_type": "execute_result"
    }
   ],
   "source": [
    "# Training the best model according to the plots with more samples\n",
    "rf = RandomForestClassifier(random_state=42,\n",
    "                            n_jobs=4,\n",
    "                            n_estimators=50,\n",
    "                            min_samples_leaf=1000,\n",
    "                            max_depth=10,\n",
    "                            oob_score=True)\n",
    "rf.fit(trans_xtrain, ytrain)"
   ]
  },
  {
   "cell_type": "code",
   "execution_count": 21,
   "metadata": {
    "ExecuteTime": {
     "end_time": "2019-12-01T08:43:54.680482Z",
     "start_time": "2019-12-01T08:43:54.431985Z"
    }
   },
   "outputs": [],
   "source": [
    "trans_xtest = pipeline.fit_transform(xtest)"
   ]
  },
  {
   "cell_type": "code",
   "execution_count": 22,
   "metadata": {
    "ExecuteTime": {
     "end_time": "2019-12-01T08:44:05.519986Z",
     "start_time": "2019-12-01T08:43:56.864168Z"
    }
   },
   "outputs": [
    {
     "name": "stdout",
     "output_type": "stream",
     "text": [
      "Training Accuracy Score: 0.46548696379654236\n",
      "Testing Accuracy Score: 0.46388973200735595\n",
      "OOB Accuracy Score: 0.46071731001729316\n"
     ]
    }
   ],
   "source": [
    "print(f\"Training Accuracy Score: {accuracy_score(ytrain, rf.predict(trans_xtrain))}\")\n",
    "print(f\"Testing Accuracy Score: {accuracy_score(ytest, rf.predict(trans_xtest))}\")\n",
    "print(f\"OOB Accuracy Score: {rf.oob_score_}\")"
   ]
  },
  {
   "cell_type": "code",
   "execution_count": 25,
   "metadata": {
    "ExecuteTime": {
     "end_time": "2019-12-01T08:44:37.710914Z",
     "start_time": "2019-12-01T08:44:34.778987Z"
    }
   },
   "outputs": [
    {
     "name": "stdout",
     "output_type": "stream",
     "text": [
      "              precision    recall  f1-score   support\n",
      "\n",
      "           0       0.46      0.82      0.59     37985\n",
      "           1       0.89      0.96      0.93     44950\n",
      "           2       0.42      0.34      0.37     43714\n",
      "           3       0.72      0.07      0.13     22292\n",
      "           4       0.32      0.42      0.36     35309\n",
      "           5       0.34      0.48      0.40     61881\n",
      "           6       0.35      0.08      0.13     38627\n",
      "           7       0.34      0.38      0.36     25109\n",
      "           8       0.59      0.63      0.61     33090\n",
      "           9       0.41      0.27      0.32     49106\n",
      "\n",
      "    accuracy                           0.46    392063\n",
      "   macro avg       0.48      0.44      0.42    392063\n",
      "weighted avg       0.47      0.46      0.44    392063\n",
      "\n"
     ]
    }
   ],
   "source": [
    "# Testing Classification Report\n",
    "print(classification_report(ytest, rf.predict(trans_xtest)))"
   ]
  },
  {
   "cell_type": "code",
   "execution_count": 26,
   "metadata": {
    "ExecuteTime": {
     "end_time": "2019-12-01T08:49:49.821137Z",
     "start_time": "2019-12-01T08:46:41.677404Z"
    }
   },
   "outputs": [
    {
     "data": {
      "text/plain": [
       "RandomForestClassifier(bootstrap=True, class_weight=None, criterion='gini',\n",
       "                       max_depth=15, max_features='auto', max_leaf_nodes=None,\n",
       "                       min_impurity_decrease=0.0, min_impurity_split=None,\n",
       "                       min_samples_leaf=100, min_samples_split=2,\n",
       "                       min_weight_fraction_leaf=0.0, n_estimators=50, n_jobs=4,\n",
       "                       oob_score=True, random_state=42, verbose=0,\n",
       "                       warm_start=False)"
      ]
     },
     "execution_count": 26,
     "metadata": {},
     "output_type": "execute_result"
    }
   ],
   "source": [
    "# Training the best model according to the plots with more samples\n",
    "rf = RandomForestClassifier(random_state=42,\n",
    "                            n_jobs=4,\n",
    "                            n_estimators=50,\n",
    "                            min_samples_leaf=100,\n",
    "                            max_depth=15,\n",
    "                            oob_score=True)\n",
    "rf.fit(trans_xtrain, ytrain)"
   ]
  },
  {
   "cell_type": "code",
   "execution_count": 27,
   "metadata": {
    "ExecuteTime": {
     "end_time": "2019-12-01T08:50:16.056798Z",
     "start_time": "2019-12-01T08:50:04.047678Z"
    }
   },
   "outputs": [
    {
     "name": "stdout",
     "output_type": "stream",
     "text": [
      "Training Accuracy Score: 0.5296611250261438\n",
      "Testing Accuracy Score: 0.521997740159107\n",
      "OOB Accuracy Score: 0.5207900791201392\n"
     ]
    }
   ],
   "source": [
    "print(f\"Training Accuracy Score: {accuracy_score(ytrain, rf.predict(trans_xtrain))}\")\n",
    "print(f\"Testing Accuracy Score: {accuracy_score(ytest, rf.predict(trans_xtest))}\")\n",
    "print(f\"OOB Accuracy Score: {rf.oob_score_}\")"
   ]
  },
  {
   "cell_type": "code",
   "execution_count": 29,
   "metadata": {
    "ExecuteTime": {
     "end_time": "2019-12-01T08:51:14.698696Z",
     "start_time": "2019-12-01T08:51:11.823931Z"
    }
   },
   "outputs": [
    {
     "name": "stdout",
     "output_type": "stream",
     "text": [
      "[[31644   348    83    15  2348  1325   228   500    17  1477]\n",
      " [  239 44166     0     2   400    50    38    54     1     0]\n",
      " [ 1289    97 18655   620  2868 10336  1620  1180  3086  3963]\n",
      " [ 1971    21  2405  4331  1927  6757   697  1025  1838  1320]\n",
      " [ 4504   207   862    83 18471  2754  1838  2156   131  4303]\n",
      " [ 5542    89  8111   736  4914 29197  1926  2736  3206  5424]\n",
      " [ 4563    94  3297   247  5726  7051  7138  4534  1394  4583]\n",
      " [ 1588    37  1533   253  2728  4457  2664  9678  1042  1129]\n",
      " [ 1056     3   724   438   505  4994   324  1594 22476   976]\n",
      " [ 5555   170  5331   187  5331  7171  1918  1305  3238 18900]]\n"
     ]
    }
   ],
   "source": [
    "# Testing Confusion Matrix\n",
    "print(confusion_matrix(ytest, rf.predict(trans_xtest)))"
   ]
  },
  {
   "cell_type": "code",
   "execution_count": 28,
   "metadata": {
    "ExecuteTime": {
     "end_time": "2019-12-01T08:50:37.889482Z",
     "start_time": "2019-12-01T08:50:34.627170Z"
    }
   },
   "outputs": [
    {
     "name": "stdout",
     "output_type": "stream",
     "text": [
      "              precision    recall  f1-score   support\n",
      "\n",
      "           0       0.55      0.83      0.66     37985\n",
      "           1       0.98      0.98      0.98     44950\n",
      "           2       0.45      0.43      0.44     43714\n",
      "           3       0.63      0.19      0.30     22292\n",
      "           4       0.41      0.52      0.46     35309\n",
      "           5       0.39      0.47      0.43     61881\n",
      "           6       0.39      0.18      0.25     38627\n",
      "           7       0.39      0.39      0.39     25109\n",
      "           8       0.62      0.68      0.65     33090\n",
      "           9       0.45      0.38      0.41     49106\n",
      "\n",
      "    accuracy                           0.52    392063\n",
      "   macro avg       0.53      0.51      0.50    392063\n",
      "weighted avg       0.52      0.52      0.51    392063\n",
      "\n"
     ]
    }
   ],
   "source": [
    "# Testing Classification Report\n",
    "print(classification_report(ytest, rf.predict(trans_xtest)))"
   ]
  },
  {
   "cell_type": "markdown",
   "metadata": {
    "ExecuteTime": {
     "end_time": "2019-12-01T20:58:50.456848Z",
     "start_time": "2019-12-01T20:58:49.752113Z"
    }
   },
   "source": [
    "## Upsample Group 3 and Group 7"
   ]
  },
  {
   "cell_type": "code",
   "execution_count": null,
   "metadata": {},
   "outputs": [],
   "source": [
    "# using stratified shuffle split to get 50% of the filter data while keeping the distribution (~ 1mil samples)\n",
    "sss = StratifiedShuffleSplit(n_splits=1, train_size=0.5, random_state=0)\n",
    "for train_idx, test_idx in sss.split(df_X, df_y):\n",
    "    X_train, X_test = df_X.iloc[train_idx], df_X.iloc[test_idx]\n",
    "    y_train, y_test = df_y.iloc[train_idx], df_y.iloc[test_idx]"
   ]
  },
  {
   "cell_type": "code",
   "execution_count": 47,
   "metadata": {
    "ExecuteTime": {
     "end_time": "2019-12-01T21:21:18.680658Z",
     "start_time": "2019-12-01T21:21:18.602291Z"
    }
   },
   "outputs": [
    {
     "data": {
      "text/html": [
       "<div>\n",
       "<style scoped>\n",
       "    .dataframe tbody tr th:only-of-type {\n",
       "        vertical-align: middle;\n",
       "    }\n",
       "\n",
       "    .dataframe tbody tr th {\n",
       "        vertical-align: top;\n",
       "    }\n",
       "\n",
       "    .dataframe thead th {\n",
       "        text-align: right;\n",
       "    }\n",
       "</style>\n",
       "<table border=\"1\" class=\"dataframe\">\n",
       "  <thead>\n",
       "    <tr style=\"text-align: right;\">\n",
       "      <th></th>\n",
       "      <th>date_time</th>\n",
       "      <th>site_name</th>\n",
       "      <th>posa_continent</th>\n",
       "      <th>user_location_country</th>\n",
       "      <th>user_location_region</th>\n",
       "      <th>user_location_city</th>\n",
       "      <th>orig_destination_distance</th>\n",
       "      <th>user_id</th>\n",
       "      <th>is_mobile</th>\n",
       "      <th>is_package</th>\n",
       "      <th>channel</th>\n",
       "      <th>srch_ci</th>\n",
       "      <th>srch_co</th>\n",
       "      <th>srch_adults_cnt</th>\n",
       "      <th>srch_children_cnt</th>\n",
       "      <th>srch_rm_cnt</th>\n",
       "      <th>srch_destination_id</th>\n",
       "      <th>srch_destination_type_id</th>\n",
       "      <th>is_booking</th>\n",
       "      <th>cnt</th>\n",
       "      <th>hotel_continent</th>\n",
       "      <th>hotel_country</th>\n",
       "      <th>hotel_market</th>\n",
       "      <th>y</th>\n",
       "    </tr>\n",
       "  </thead>\n",
       "  <tbody>\n",
       "    <tr>\n",
       "      <td>1188734</td>\n",
       "      <td>2014-08-28 08:51:16</td>\n",
       "      <td>2</td>\n",
       "      <td>3</td>\n",
       "      <td>66</td>\n",
       "      <td>448</td>\n",
       "      <td>18390</td>\n",
       "      <td>103.3408</td>\n",
       "      <td>640795</td>\n",
       "      <td>0</td>\n",
       "      <td>0</td>\n",
       "      <td>7</td>\n",
       "      <td>2014-09-05</td>\n",
       "      <td>2014-09-07</td>\n",
       "      <td>1</td>\n",
       "      <td>2</td>\n",
       "      <td>1</td>\n",
       "      <td>25692</td>\n",
       "      <td>6</td>\n",
       "      <td>0</td>\n",
       "      <td>3</td>\n",
       "      <td>2</td>\n",
       "      <td>50</td>\n",
       "      <td>486</td>\n",
       "      <td>7</td>\n",
       "    </tr>\n",
       "    <tr>\n",
       "      <td>1859136</td>\n",
       "      <td>2014-08-12 20:26:52</td>\n",
       "      <td>2</td>\n",
       "      <td>3</td>\n",
       "      <td>66</td>\n",
       "      <td>220</td>\n",
       "      <td>38252</td>\n",
       "      <td>2030.9345</td>\n",
       "      <td>527042</td>\n",
       "      <td>0</td>\n",
       "      <td>0</td>\n",
       "      <td>9</td>\n",
       "      <td>2014-08-20</td>\n",
       "      <td>2014-08-22</td>\n",
       "      <td>1</td>\n",
       "      <td>0</td>\n",
       "      <td>1</td>\n",
       "      <td>8250</td>\n",
       "      <td>1</td>\n",
       "      <td>0</td>\n",
       "      <td>2</td>\n",
       "      <td>2</td>\n",
       "      <td>50</td>\n",
       "      <td>628</td>\n",
       "      <td>1</td>\n",
       "    </tr>\n",
       "    <tr>\n",
       "      <td>2039607</td>\n",
       "      <td>2013-12-05 20:32:48</td>\n",
       "      <td>37</td>\n",
       "      <td>1</td>\n",
       "      <td>69</td>\n",
       "      <td>693</td>\n",
       "      <td>19647</td>\n",
       "      <td>NaN</td>\n",
       "      <td>280920</td>\n",
       "      <td>0</td>\n",
       "      <td>1</td>\n",
       "      <td>2</td>\n",
       "      <td>2014-04-23</td>\n",
       "      <td>2014-04-26</td>\n",
       "      <td>6</td>\n",
       "      <td>0</td>\n",
       "      <td>3</td>\n",
       "      <td>8407</td>\n",
       "      <td>6</td>\n",
       "      <td>0</td>\n",
       "      <td>2</td>\n",
       "      <td>6</td>\n",
       "      <td>144</td>\n",
       "      <td>4</td>\n",
       "      <td>2</td>\n",
       "    </tr>\n",
       "    <tr>\n",
       "      <td>801278</td>\n",
       "      <td>2013-04-02 14:51:20</td>\n",
       "      <td>37</td>\n",
       "      <td>1</td>\n",
       "      <td>69</td>\n",
       "      <td>596</td>\n",
       "      <td>42857</td>\n",
       "      <td>NaN</td>\n",
       "      <td>929121</td>\n",
       "      <td>0</td>\n",
       "      <td>0</td>\n",
       "      <td>9</td>\n",
       "      <td>2013-08-28</td>\n",
       "      <td>2013-08-30</td>\n",
       "      <td>2</td>\n",
       "      <td>0</td>\n",
       "      <td>1</td>\n",
       "      <td>8808</td>\n",
       "      <td>1</td>\n",
       "      <td>1</td>\n",
       "      <td>1</td>\n",
       "      <td>6</td>\n",
       "      <td>169</td>\n",
       "      <td>28</td>\n",
       "      <td>9</td>\n",
       "    </tr>\n",
       "    <tr>\n",
       "      <td>933752</td>\n",
       "      <td>2014-02-18 15:31:14</td>\n",
       "      <td>24</td>\n",
       "      <td>2</td>\n",
       "      <td>3</td>\n",
       "      <td>49</td>\n",
       "      <td>4463</td>\n",
       "      <td>NaN</td>\n",
       "      <td>1197377</td>\n",
       "      <td>0</td>\n",
       "      <td>0</td>\n",
       "      <td>1</td>\n",
       "      <td>2014-07-30</td>\n",
       "      <td>2014-07-31</td>\n",
       "      <td>3</td>\n",
       "      <td>0</td>\n",
       "      <td>1</td>\n",
       "      <td>15451</td>\n",
       "      <td>3</td>\n",
       "      <td>0</td>\n",
       "      <td>1</td>\n",
       "      <td>6</td>\n",
       "      <td>105</td>\n",
       "      <td>1871</td>\n",
       "      <td>8</td>\n",
       "    </tr>\n",
       "  </tbody>\n",
       "</table>\n",
       "</div>"
      ],
      "text/plain": [
       "                   date_time  site_name  posa_continent  \\\n",
       "1188734  2014-08-28 08:51:16          2               3   \n",
       "1859136  2014-08-12 20:26:52          2               3   \n",
       "2039607  2013-12-05 20:32:48         37               1   \n",
       "801278   2013-04-02 14:51:20         37               1   \n",
       "933752   2014-02-18 15:31:14         24               2   \n",
       "\n",
       "         user_location_country  user_location_region  user_location_city  \\\n",
       "1188734                     66                   448               18390   \n",
       "1859136                     66                   220               38252   \n",
       "2039607                     69                   693               19647   \n",
       "801278                      69                   596               42857   \n",
       "933752                       3                    49                4463   \n",
       "\n",
       "         orig_destination_distance  user_id  is_mobile  is_package  channel  \\\n",
       "1188734                   103.3408   640795          0           0        7   \n",
       "1859136                  2030.9345   527042          0           0        9   \n",
       "2039607                        NaN   280920          0           1        2   \n",
       "801278                         NaN   929121          0           0        9   \n",
       "933752                         NaN  1197377          0           0        1   \n",
       "\n",
       "            srch_ci     srch_co  srch_adults_cnt  srch_children_cnt  \\\n",
       "1188734  2014-09-05  2014-09-07                1                  2   \n",
       "1859136  2014-08-20  2014-08-22                1                  0   \n",
       "2039607  2014-04-23  2014-04-26                6                  0   \n",
       "801278   2013-08-28  2013-08-30                2                  0   \n",
       "933752   2014-07-30  2014-07-31                3                  0   \n",
       "\n",
       "         srch_rm_cnt  srch_destination_id  srch_destination_type_id  \\\n",
       "1188734            1                25692                         6   \n",
       "1859136            1                 8250                         1   \n",
       "2039607            3                 8407                         6   \n",
       "801278             1                 8808                         1   \n",
       "933752             1                15451                         3   \n",
       "\n",
       "         is_booking  cnt  hotel_continent  hotel_country  hotel_market  y  \n",
       "1188734           0    3                2             50           486  7  \n",
       "1859136           0    2                2             50           628  1  \n",
       "2039607           0    2                6            144             4  2  \n",
       "801278            1    1                6            169            28  9  \n",
       "933752            0    1                6            105          1871  8  "
      ]
     },
     "execution_count": 47,
     "metadata": {},
     "output_type": "execute_result"
    }
   ],
   "source": [
    "# Setting the columns into X train to up sample certain groups\n",
    "X_train['y'] = y_train\n",
    "X_train.head()"
   ]
  },
  {
   "cell_type": "code",
   "execution_count": 79,
   "metadata": {
    "ExecuteTime": {
     "end_time": "2019-12-01T22:04:07.345515Z",
     "start_time": "2019-12-01T22:03:59.105718Z"
    }
   },
   "outputs": [
    {
     "data": {
      "text/plain": [
       "((1568248, 24), (392063, 24))"
      ]
     },
     "execution_count": 79,
     "metadata": {},
     "output_type": "execute_result"
    }
   ],
   "source": [
    "# Train test split the 5% data\n",
    "xtrain, xtest, ytrain, ytest = train_test_split(X_train, y_train, test_size=.2 ,random_state=42)\n",
    "xtrain.shape, xtest.shape"
   ]
  },
  {
   "cell_type": "code",
   "execution_count": 83,
   "metadata": {
    "ExecuteTime": {
     "end_time": "2019-12-01T22:05:15.562303Z",
     "start_time": "2019-12-01T22:05:11.648555Z"
    }
   },
   "outputs": [],
   "source": [
    "# sample up these two class done twice\n",
    "for label in [3,7]:\n",
    "    samples = X_train.loc[(X_train.y == label)].sample(n=60000)\n",
    "    xtrain = pd.concat([xtrain, samples])"
   ]
  },
  {
   "cell_type": "code",
   "execution_count": 84,
   "metadata": {
    "ExecuteTime": {
     "end_time": "2019-12-01T22:05:16.462487Z",
     "start_time": "2019-12-01T22:05:16.449803Z"
    }
   },
   "outputs": [
    {
     "data": {
      "text/plain": [
       "(1808248, 24)"
      ]
     },
     "execution_count": 84,
     "metadata": {},
     "output_type": "execute_result"
    }
   ],
   "source": [
    "xtrain.shape"
   ]
  },
  {
   "cell_type": "code",
   "execution_count": 85,
   "metadata": {
    "ExecuteTime": {
     "end_time": "2019-12-01T22:05:24.326737Z",
     "start_time": "2019-12-01T22:05:17.857141Z"
    }
   },
   "outputs": [
    {
     "data": {
      "text/plain": [
       "(1603844, 24)"
      ]
     },
     "execution_count": 85,
     "metadata": {},
     "output_type": "execute_result"
    }
   ],
   "source": [
    "xtrain.drop_duplicates(keep='last').shape"
   ]
  },
  {
   "cell_type": "code",
   "execution_count": 86,
   "metadata": {
    "ExecuteTime": {
     "end_time": "2019-12-01T22:05:57.808716Z",
     "start_time": "2019-12-01T22:05:52.439510Z"
    }
   },
   "outputs": [],
   "source": [
    "xtrain = xtrain.drop_duplicates(keep='last')"
   ]
  },
  {
   "cell_type": "code",
   "execution_count": 87,
   "metadata": {
    "ExecuteTime": {
     "end_time": "2019-12-01T22:05:57.911666Z",
     "start_time": "2019-12-01T22:05:57.812502Z"
    }
   },
   "outputs": [
    {
     "data": {
      "text/html": [
       "<div>\n",
       "<style scoped>\n",
       "    .dataframe tbody tr th:only-of-type {\n",
       "        vertical-align: middle;\n",
       "    }\n",
       "\n",
       "    .dataframe tbody tr th {\n",
       "        vertical-align: top;\n",
       "    }\n",
       "\n",
       "    .dataframe thead th {\n",
       "        text-align: right;\n",
       "    }\n",
       "</style>\n",
       "<table border=\"1\" class=\"dataframe\">\n",
       "  <thead>\n",
       "    <tr style=\"text-align: right;\">\n",
       "      <th></th>\n",
       "      <th>date_time</th>\n",
       "      <th>site_name</th>\n",
       "      <th>posa_continent</th>\n",
       "      <th>user_location_country</th>\n",
       "      <th>user_location_region</th>\n",
       "      <th>user_location_city</th>\n",
       "      <th>orig_destination_distance</th>\n",
       "      <th>user_id</th>\n",
       "      <th>is_mobile</th>\n",
       "      <th>is_package</th>\n",
       "      <th>channel</th>\n",
       "      <th>srch_ci</th>\n",
       "      <th>srch_co</th>\n",
       "      <th>srch_adults_cnt</th>\n",
       "      <th>srch_children_cnt</th>\n",
       "      <th>srch_rm_cnt</th>\n",
       "      <th>srch_destination_id</th>\n",
       "      <th>srch_destination_type_id</th>\n",
       "      <th>is_booking</th>\n",
       "      <th>cnt</th>\n",
       "      <th>hotel_continent</th>\n",
       "      <th>hotel_country</th>\n",
       "      <th>hotel_market</th>\n",
       "      <th>y</th>\n",
       "    </tr>\n",
       "  </thead>\n",
       "  <tbody>\n",
       "    <tr>\n",
       "      <td>1119129</td>\n",
       "      <td>2014-09-14 18:48:08</td>\n",
       "      <td>2</td>\n",
       "      <td>3</td>\n",
       "      <td>66</td>\n",
       "      <td>348</td>\n",
       "      <td>24960</td>\n",
       "      <td>161.7425</td>\n",
       "      <td>503962</td>\n",
       "      <td>1</td>\n",
       "      <td>0</td>\n",
       "      <td>9</td>\n",
       "      <td>2014-09-14</td>\n",
       "      <td>2014-09-21</td>\n",
       "      <td>3</td>\n",
       "      <td>0</td>\n",
       "      <td>1</td>\n",
       "      <td>11569</td>\n",
       "      <td>1</td>\n",
       "      <td>0</td>\n",
       "      <td>1</td>\n",
       "      <td>2</td>\n",
       "      <td>50</td>\n",
       "      <td>623</td>\n",
       "      <td>4</td>\n",
       "    </tr>\n",
       "    <tr>\n",
       "      <td>3249003</td>\n",
       "      <td>2014-08-13 08:40:32</td>\n",
       "      <td>2</td>\n",
       "      <td>3</td>\n",
       "      <td>66</td>\n",
       "      <td>318</td>\n",
       "      <td>3263</td>\n",
       "      <td>1760.5038</td>\n",
       "      <td>230943</td>\n",
       "      <td>0</td>\n",
       "      <td>1</td>\n",
       "      <td>9</td>\n",
       "      <td>2015-02-12</td>\n",
       "      <td>2015-02-16</td>\n",
       "      <td>2</td>\n",
       "      <td>0</td>\n",
       "      <td>1</td>\n",
       "      <td>8250</td>\n",
       "      <td>1</td>\n",
       "      <td>0</td>\n",
       "      <td>2</td>\n",
       "      <td>2</td>\n",
       "      <td>50</td>\n",
       "      <td>628</td>\n",
       "      <td>1</td>\n",
       "    </tr>\n",
       "    <tr>\n",
       "      <td>2368289</td>\n",
       "      <td>2014-08-02 21:04:53</td>\n",
       "      <td>2</td>\n",
       "      <td>3</td>\n",
       "      <td>66</td>\n",
       "      <td>314</td>\n",
       "      <td>4868</td>\n",
       "      <td>119.1573</td>\n",
       "      <td>893262</td>\n",
       "      <td>0</td>\n",
       "      <td>0</td>\n",
       "      <td>9</td>\n",
       "      <td>2014-09-20</td>\n",
       "      <td>2014-09-21</td>\n",
       "      <td>2</td>\n",
       "      <td>2</td>\n",
       "      <td>1</td>\n",
       "      <td>8271</td>\n",
       "      <td>1</td>\n",
       "      <td>0</td>\n",
       "      <td>1</td>\n",
       "      <td>2</td>\n",
       "      <td>50</td>\n",
       "      <td>696</td>\n",
       "      <td>2</td>\n",
       "    </tr>\n",
       "    <tr>\n",
       "      <td>2560580</td>\n",
       "      <td>2013-07-17 19:56:47</td>\n",
       "      <td>2</td>\n",
       "      <td>3</td>\n",
       "      <td>66</td>\n",
       "      <td>174</td>\n",
       "      <td>46995</td>\n",
       "      <td>2609.5431</td>\n",
       "      <td>692622</td>\n",
       "      <td>0</td>\n",
       "      <td>1</td>\n",
       "      <td>1</td>\n",
       "      <td>2013-07-30</td>\n",
       "      <td>2013-08-03</td>\n",
       "      <td>1</td>\n",
       "      <td>0</td>\n",
       "      <td>1</td>\n",
       "      <td>8859</td>\n",
       "      <td>1</td>\n",
       "      <td>0</td>\n",
       "      <td>1</td>\n",
       "      <td>2</td>\n",
       "      <td>50</td>\n",
       "      <td>212</td>\n",
       "      <td>9</td>\n",
       "    </tr>\n",
       "    <tr>\n",
       "      <td>3447920</td>\n",
       "      <td>2014-10-22 10:27:22</td>\n",
       "      <td>11</td>\n",
       "      <td>3</td>\n",
       "      <td>205</td>\n",
       "      <td>354</td>\n",
       "      <td>21728</td>\n",
       "      <td>2438.1134</td>\n",
       "      <td>696311</td>\n",
       "      <td>1</td>\n",
       "      <td>1</td>\n",
       "      <td>5</td>\n",
       "      <td>2015-04-25</td>\n",
       "      <td>2015-05-02</td>\n",
       "      <td>2</td>\n",
       "      <td>0</td>\n",
       "      <td>1</td>\n",
       "      <td>8279</td>\n",
       "      <td>1</td>\n",
       "      <td>0</td>\n",
       "      <td>1</td>\n",
       "      <td>2</td>\n",
       "      <td>50</td>\n",
       "      <td>1230</td>\n",
       "      <td>4</td>\n",
       "    </tr>\n",
       "  </tbody>\n",
       "</table>\n",
       "</div>"
      ],
      "text/plain": [
       "                   date_time  site_name  posa_continent  \\\n",
       "1119129  2014-09-14 18:48:08          2               3   \n",
       "3249003  2014-08-13 08:40:32          2               3   \n",
       "2368289  2014-08-02 21:04:53          2               3   \n",
       "2560580  2013-07-17 19:56:47          2               3   \n",
       "3447920  2014-10-22 10:27:22         11               3   \n",
       "\n",
       "         user_location_country  user_location_region  user_location_city  \\\n",
       "1119129                     66                   348               24960   \n",
       "3249003                     66                   318                3263   \n",
       "2368289                     66                   314                4868   \n",
       "2560580                     66                   174               46995   \n",
       "3447920                    205                   354               21728   \n",
       "\n",
       "         orig_destination_distance  user_id  is_mobile  is_package  channel  \\\n",
       "1119129                   161.7425   503962          1           0        9   \n",
       "3249003                  1760.5038   230943          0           1        9   \n",
       "2368289                   119.1573   893262          0           0        9   \n",
       "2560580                  2609.5431   692622          0           1        1   \n",
       "3447920                  2438.1134   696311          1           1        5   \n",
       "\n",
       "            srch_ci     srch_co  srch_adults_cnt  srch_children_cnt  \\\n",
       "1119129  2014-09-14  2014-09-21                3                  0   \n",
       "3249003  2015-02-12  2015-02-16                2                  0   \n",
       "2368289  2014-09-20  2014-09-21                2                  2   \n",
       "2560580  2013-07-30  2013-08-03                1                  0   \n",
       "3447920  2015-04-25  2015-05-02                2                  0   \n",
       "\n",
       "         srch_rm_cnt  srch_destination_id  srch_destination_type_id  \\\n",
       "1119129            1                11569                         1   \n",
       "3249003            1                 8250                         1   \n",
       "2368289            1                 8271                         1   \n",
       "2560580            1                 8859                         1   \n",
       "3447920            1                 8279                         1   \n",
       "\n",
       "         is_booking  cnt  hotel_continent  hotel_country  hotel_market  y  \n",
       "1119129           0    1                2             50           623  4  \n",
       "3249003           0    2                2             50           628  1  \n",
       "2368289           0    1                2             50           696  2  \n",
       "2560580           0    1                2             50           212  9  \n",
       "3447920           0    1                2             50          1230  4  "
      ]
     },
     "execution_count": 87,
     "metadata": {},
     "output_type": "execute_result"
    }
   ],
   "source": [
    "xtrain.head()"
   ]
  },
  {
   "cell_type": "code",
   "execution_count": 88,
   "metadata": {
    "ExecuteTime": {
     "end_time": "2019-12-01T22:06:17.647043Z",
     "start_time": "2019-12-01T22:06:16.187387Z"
    }
   },
   "outputs": [
    {
     "name": "stdout",
     "output_type": "stream",
     "text": [
      "<class 'pandas.core.frame.DataFrame'>\n",
      "RangeIndex: 1603844 entries, 0 to 1603843\n",
      "Data columns (total 24 columns):\n",
      "date_time                    1603844 non-null object\n",
      "site_name                    1603844 non-null int64\n",
      "posa_continent               1603844 non-null int64\n",
      "user_location_country        1603844 non-null int64\n",
      "user_location_region         1603844 non-null int64\n",
      "user_location_city           1603844 non-null int64\n",
      "orig_destination_distance    1034048 non-null float64\n",
      "user_id                      1603844 non-null int64\n",
      "is_mobile                    1603844 non-null int64\n",
      "is_package                   1603844 non-null int64\n",
      "channel                      1603844 non-null int64\n",
      "srch_ci                      1601872 non-null object\n",
      "srch_co                      1601872 non-null object\n",
      "srch_adults_cnt              1603844 non-null int64\n",
      "srch_children_cnt            1603844 non-null int64\n",
      "srch_rm_cnt                  1603844 non-null int64\n",
      "srch_destination_id          1603844 non-null int64\n",
      "srch_destination_type_id     1603844 non-null int64\n",
      "is_booking                   1603844 non-null int64\n",
      "cnt                          1603844 non-null int64\n",
      "hotel_continent              1603844 non-null int64\n",
      "hotel_country                1603844 non-null int64\n",
      "hotel_market                 1603844 non-null int64\n",
      "y                            1603844 non-null int64\n",
      "dtypes: float64(1), int64(20), object(3)\n",
      "memory usage: 293.7+ MB\n"
     ]
    }
   ],
   "source": [
    "#reset the index\n",
    "sample_x = xtrain.reset_index(drop=True)\n",
    "sample_x.info()"
   ]
  },
  {
   "cell_type": "code",
   "execution_count": 89,
   "metadata": {
    "ExecuteTime": {
     "end_time": "2019-12-01T22:07:50.358874Z",
     "start_time": "2019-12-01T22:07:47.328834Z"
    }
   },
   "outputs": [],
   "source": [
    "# feature engineering into datetime\n",
    "sample_x['date_time'] = pd.to_datetime(sample_x['date_time'], yearfirst=True)\n",
    "sample_x['srch_ci'] = pd.to_datetime(sample_x['srch_ci'], yearfirst=True, errors='coerce')\n",
    "sample_x['srch_co'] = pd.to_datetime(sample_x['srch_co'], yearfirst=True, errors='coerce')\n",
    "\n",
    "# timedelta for days in advance feature\n",
    "sample_x['advance'] = sample_x['srch_ci'] - sample_x['date_time']\n",
    "sample_x['advance'] = sample_x.advance.dt.days\n",
    "\n",
    "# duration of stays\n",
    "sample_x['duration'] = sample_x['srch_co'] - sample_x['srch_ci']\n",
    "sample_x['duration'] = sample_x.duration.dt.days"
   ]
  },
  {
   "cell_type": "code",
   "execution_count": 90,
   "metadata": {
    "ExecuteTime": {
     "end_time": "2019-12-01T22:07:51.392283Z",
     "start_time": "2019-12-01T22:07:51.138453Z"
    }
   },
   "outputs": [],
   "source": [
    "new_y = sample_x['y']\n",
    "new_x = sample_x.drop(columns=['hotel_market', 'user_id', 'site_name',\n",
    "                               'posa_continent', 'user_location_region',\n",
    "                               'hotel_continent', 'date_time', 'srch_ci',\n",
    "                               'srch_co'])"
   ]
  },
  {
   "cell_type": "code",
   "execution_count": 91,
   "metadata": {
    "ExecuteTime": {
     "end_time": "2019-12-01T22:07:54.438652Z",
     "start_time": "2019-12-01T22:07:54.390539Z"
    }
   },
   "outputs": [
    {
     "data": {
      "text/html": [
       "<div>\n",
       "<style scoped>\n",
       "    .dataframe tbody tr th:only-of-type {\n",
       "        vertical-align: middle;\n",
       "    }\n",
       "\n",
       "    .dataframe tbody tr th {\n",
       "        vertical-align: top;\n",
       "    }\n",
       "\n",
       "    .dataframe thead th {\n",
       "        text-align: right;\n",
       "    }\n",
       "</style>\n",
       "<table border=\"1\" class=\"dataframe\">\n",
       "  <thead>\n",
       "    <tr style=\"text-align: right;\">\n",
       "      <th></th>\n",
       "      <th>user_location_country</th>\n",
       "      <th>user_location_city</th>\n",
       "      <th>orig_destination_distance</th>\n",
       "      <th>is_mobile</th>\n",
       "      <th>is_package</th>\n",
       "      <th>channel</th>\n",
       "      <th>srch_adults_cnt</th>\n",
       "      <th>srch_children_cnt</th>\n",
       "      <th>srch_rm_cnt</th>\n",
       "      <th>srch_destination_id</th>\n",
       "      <th>srch_destination_type_id</th>\n",
       "      <th>is_booking</th>\n",
       "      <th>cnt</th>\n",
       "      <th>hotel_country</th>\n",
       "      <th>y</th>\n",
       "      <th>advance</th>\n",
       "      <th>duration</th>\n",
       "    </tr>\n",
       "  </thead>\n",
       "  <tbody>\n",
       "    <tr>\n",
       "      <td>0</td>\n",
       "      <td>66</td>\n",
       "      <td>24960</td>\n",
       "      <td>161.7425</td>\n",
       "      <td>1</td>\n",
       "      <td>0</td>\n",
       "      <td>9</td>\n",
       "      <td>3</td>\n",
       "      <td>0</td>\n",
       "      <td>1</td>\n",
       "      <td>11569</td>\n",
       "      <td>1</td>\n",
       "      <td>0</td>\n",
       "      <td>1</td>\n",
       "      <td>50</td>\n",
       "      <td>4</td>\n",
       "      <td>-1.0</td>\n",
       "      <td>7.0</td>\n",
       "    </tr>\n",
       "    <tr>\n",
       "      <td>1</td>\n",
       "      <td>66</td>\n",
       "      <td>3263</td>\n",
       "      <td>1760.5038</td>\n",
       "      <td>0</td>\n",
       "      <td>1</td>\n",
       "      <td>9</td>\n",
       "      <td>2</td>\n",
       "      <td>0</td>\n",
       "      <td>1</td>\n",
       "      <td>8250</td>\n",
       "      <td>1</td>\n",
       "      <td>0</td>\n",
       "      <td>2</td>\n",
       "      <td>50</td>\n",
       "      <td>1</td>\n",
       "      <td>182.0</td>\n",
       "      <td>4.0</td>\n",
       "    </tr>\n",
       "    <tr>\n",
       "      <td>2</td>\n",
       "      <td>66</td>\n",
       "      <td>4868</td>\n",
       "      <td>119.1573</td>\n",
       "      <td>0</td>\n",
       "      <td>0</td>\n",
       "      <td>9</td>\n",
       "      <td>2</td>\n",
       "      <td>2</td>\n",
       "      <td>1</td>\n",
       "      <td>8271</td>\n",
       "      <td>1</td>\n",
       "      <td>0</td>\n",
       "      <td>1</td>\n",
       "      <td>50</td>\n",
       "      <td>2</td>\n",
       "      <td>48.0</td>\n",
       "      <td>1.0</td>\n",
       "    </tr>\n",
       "    <tr>\n",
       "      <td>3</td>\n",
       "      <td>66</td>\n",
       "      <td>46995</td>\n",
       "      <td>2609.5431</td>\n",
       "      <td>0</td>\n",
       "      <td>1</td>\n",
       "      <td>1</td>\n",
       "      <td>1</td>\n",
       "      <td>0</td>\n",
       "      <td>1</td>\n",
       "      <td>8859</td>\n",
       "      <td>1</td>\n",
       "      <td>0</td>\n",
       "      <td>1</td>\n",
       "      <td>50</td>\n",
       "      <td>9</td>\n",
       "      <td>12.0</td>\n",
       "      <td>4.0</td>\n",
       "    </tr>\n",
       "    <tr>\n",
       "      <td>4</td>\n",
       "      <td>205</td>\n",
       "      <td>21728</td>\n",
       "      <td>2438.1134</td>\n",
       "      <td>1</td>\n",
       "      <td>1</td>\n",
       "      <td>5</td>\n",
       "      <td>2</td>\n",
       "      <td>0</td>\n",
       "      <td>1</td>\n",
       "      <td>8279</td>\n",
       "      <td>1</td>\n",
       "      <td>0</td>\n",
       "      <td>1</td>\n",
       "      <td>50</td>\n",
       "      <td>4</td>\n",
       "      <td>184.0</td>\n",
       "      <td>7.0</td>\n",
       "    </tr>\n",
       "  </tbody>\n",
       "</table>\n",
       "</div>"
      ],
      "text/plain": [
       "   user_location_country  user_location_city  orig_destination_distance  \\\n",
       "0                     66               24960                   161.7425   \n",
       "1                     66                3263                  1760.5038   \n",
       "2                     66                4868                   119.1573   \n",
       "3                     66               46995                  2609.5431   \n",
       "4                    205               21728                  2438.1134   \n",
       "\n",
       "   is_mobile  is_package  channel  srch_adults_cnt  srch_children_cnt  \\\n",
       "0          1           0        9                3                  0   \n",
       "1          0           1        9                2                  0   \n",
       "2          0           0        9                2                  2   \n",
       "3          0           1        1                1                  0   \n",
       "4          1           1        5                2                  0   \n",
       "\n",
       "   srch_rm_cnt  srch_destination_id  srch_destination_type_id  is_booking  \\\n",
       "0            1                11569                         1           0   \n",
       "1            1                 8250                         1           0   \n",
       "2            1                 8271                         1           0   \n",
       "3            1                 8859                         1           0   \n",
       "4            1                 8279                         1           0   \n",
       "\n",
       "   cnt  hotel_country  y  advance  duration  \n",
       "0    1             50  4     -1.0       7.0  \n",
       "1    2             50  1    182.0       4.0  \n",
       "2    1             50  2     48.0       1.0  \n",
       "3    1             50  9     12.0       4.0  \n",
       "4    1             50  4    184.0       7.0  "
      ]
     },
     "execution_count": 91,
     "metadata": {},
     "output_type": "execute_result"
    }
   ],
   "source": [
    "new_x.head()"
   ]
  },
  {
   "cell_type": "code",
   "execution_count": 92,
   "metadata": {
    "ExecuteTime": {
     "end_time": "2019-12-01T22:08:03.054318Z",
     "start_time": "2019-12-01T22:08:02.444561Z"
    }
   },
   "outputs": [
    {
     "data": {
      "text/plain": [
       "(1603844, 17)"
      ]
     },
     "execution_count": 92,
     "metadata": {},
     "output_type": "execute_result"
    }
   ],
   "source": [
    "# make the pipeline and transform the data\n",
    "pipeline = make_pipeline()\n",
    "trans_xtrain = pipeline.fit_transform(new_x)\n",
    "trans_xtrain.shape # sanity check of datashape"
   ]
  },
  {
   "cell_type": "code",
   "execution_count": 95,
   "metadata": {
    "ExecuteTime": {
     "end_time": "2019-12-01T22:11:15.434115Z",
     "start_time": "2019-12-01T22:08:36.821482Z"
    },
    "scrolled": true
   },
   "outputs": [
    {
     "data": {
      "text/plain": [
       "RandomForestClassifier(bootstrap=True, class_weight=None, criterion='gini',\n",
       "                       max_depth=15, max_features='auto', max_leaf_nodes=None,\n",
       "                       min_impurity_decrease=0.0, min_impurity_split=None,\n",
       "                       min_samples_leaf=100, min_samples_split=2,\n",
       "                       min_weight_fraction_leaf=0.0, n_estimators=50, n_jobs=4,\n",
       "                       oob_score=True, random_state=42, verbose=0,\n",
       "                       warm_start=False)"
      ]
     },
     "execution_count": 95,
     "metadata": {},
     "output_type": "execute_result"
    }
   ],
   "source": [
    "# Training the best model according to the plots with more samples\n",
    "rf = RandomForestClassifier(random_state=42,\n",
    "                            n_jobs=4,\n",
    "                            n_estimators=50,\n",
    "                            min_samples_leaf=100,\n",
    "                            max_depth=15,\n",
    "                            oob_score=True)\n",
    "rf.fit(trans_xtrain, new_y)"
   ]
  },
  {
   "cell_type": "code",
   "execution_count": 97,
   "metadata": {
    "ExecuteTime": {
     "end_time": "2019-12-01T22:12:13.149240Z",
     "start_time": "2019-12-01T22:12:05.459793Z"
    }
   },
   "outputs": [
    {
     "name": "stdout",
     "output_type": "stream",
     "text": [
      "Training Accuracy Score: 0.9951398016265921\n",
      "OOB Accuracy Score: 0.9887027666032357\n"
     ]
    }
   ],
   "source": [
    "print(f\"Training Accuracy Score: {accuracy_score(new_y, rf.predict(trans_xtrain))}\")\n",
    "#print(f\"Testing Accuracy Score: {accuracy_score(ytest, rf.predict(trans_xtest))}\")\n",
    "print(f\"OOB Accuracy Score: {rf.oob_score_}\")"
   ]
  },
  {
   "cell_type": "code",
   "execution_count": 98,
   "metadata": {
    "ExecuteTime": {
     "end_time": "2019-12-01T22:13:08.809826Z",
     "start_time": "2019-12-01T22:12:55.330196Z"
    }
   },
   "outputs": [
    {
     "name": "stdout",
     "output_type": "stream",
     "text": [
      "              precision    recall  f1-score   support\n",
      "\n",
      "           0       1.00      1.00      1.00    151961\n",
      "           1       1.00      1.00      1.00    181394\n",
      "           2       1.00      1.00      1.00    173542\n",
      "           3       1.00      0.99      0.99    107798\n",
      "           4       0.99      0.98      0.99    140616\n",
      "           5       0.99      1.00      0.99    248212\n",
      "           6       0.99      1.00      0.99    153567\n",
      "           7       0.99      0.99      0.99    119262\n",
      "           8       1.00      0.99      0.99    132438\n",
      "           9       1.00      1.00      1.00    195054\n",
      "\n",
      "    accuracy                           1.00   1603844\n",
      "   macro avg       1.00      0.99      0.99   1603844\n",
      "weighted avg       1.00      1.00      1.00   1603844\n",
      "\n"
     ]
    }
   ],
   "source": [
    "print(classification_report(new_y, rf.predict(trans_xtrain)))"
   ]
  },
  {
   "cell_type": "code",
   "execution_count": null,
   "metadata": {},
   "outputs": [],
   "source": []
  },
  {
   "cell_type": "code",
   "execution_count": null,
   "metadata": {},
   "outputs": [],
   "source": []
  },
  {
   "cell_type": "code",
   "execution_count": null,
   "metadata": {},
   "outputs": [],
   "source": []
  },
  {
   "cell_type": "code",
   "execution_count": null,
   "metadata": {},
   "outputs": [],
   "source": []
  },
  {
   "cell_type": "markdown",
   "metadata": {},
   "source": [
    "## Randomized Search CV"
   ]
  },
  {
   "cell_type": "code",
   "execution_count": null,
   "metadata": {},
   "outputs": [],
   "source": [
    "def make_random_cv(cv, n_iter, n_estimators):\n",
    "    \"\"\"\n",
    "    Steps:\n",
    "    1. Define Estimator\n",
    "    2. Define hyperparameter search space\n",
    "    3. Instantiate RandomizedSearchCV\n",
    "    \"\"\"\n",
    "    \n",
    "    rf = RandomForestClassifier(n_estimators=n_estimators,\n",
    "                                random_state=42, \n",
    "                                max_depth=10, \n",
    "                                oob_score=True,\n",
    "                                n_jobs=4)\n",
    "    \n",
    "    params_grid = {'max_features': [2, 5, 10, 16],\n",
    "                  'min_samples_leaf': [1000, 5000, 15000, 30000]}\n",
    "    \n",
    "    clf_random_cv = RandomizedSearchCV(estimator=rf, scoring='f1_weighted',\n",
    "                                       param_distributions=params_grid,\n",
    "                                       n_iter=n_iter, cv=cv)\n",
    "                                         \n",
    "    return clf_random_cv"
   ]
  },
  {
   "cell_type": "code",
   "execution_count": 48,
   "metadata": {
    "ExecuteTime": {
     "end_time": "2019-12-01T05:00:27.440437Z",
     "start_time": "2019-12-01T05:00:27.428953Z"
    }
   },
   "outputs": [
    {
     "data": {
      "text/plain": [
       "{'min_samples_leaf': 1000, 'max_features': 10}"
      ]
     },
     "execution_count": 48,
     "metadata": {},
     "output_type": "execute_result"
    }
   ],
   "source": [
    "# creating the RandomizedSearchCV and using the best estimator\n",
    "randomize_clf = make_random_cv(3, 7, 1) # 3-fold, 7 iterations\n",
    "randomize_clf.fit(trans_xtrain, ytrain)\n",
    "best_rf = randomize_clf.best_estimator_ # returning the best estimator\n",
    "randomize_clf.best_params_"
   ]
  },
  {
   "cell_type": "code",
   "execution_count": 51,
   "metadata": {
    "ExecuteTime": {
     "end_time": "2019-12-01T05:06:27.306728Z",
     "start_time": "2019-12-01T05:06:26.689330Z"
    }
   },
   "outputs": [
    {
     "name": "stdout",
     "output_type": "stream",
     "text": [
      "Out-of-Bag Accuracy: 0.23626875341145023\n",
      "Training weighted-f1-Score: 0.4623162574185644\n"
     ]
    }
   ],
   "source": [
    "# fitting the best estimator and getting the training scores\n",
    "best_rf.fit(trans_xtrain, ytrain)\n",
    "print(f\"Out-of-Bag Accuracy: {best_rf.oob_score_}\")\n",
    "print(f\"Training weighted-f1-Score: {f1_score(ytrain, best_rf.predict(trans_xtrain), average='weighted')}\")"
   ]
  },
  {
   "cell_type": "code",
   "execution_count": 53,
   "metadata": {
    "ExecuteTime": {
     "end_time": "2019-12-01T05:07:52.760927Z",
     "start_time": "2019-12-01T05:07:52.009003Z"
    }
   },
   "outputs": [
    {
     "name": "stdout",
     "output_type": "stream",
     "text": [
      "Test Accuracy: 0.45223459554866324\n",
      "Training weighted-f1-Score: 0.4623162574185644\n"
     ]
    }
   ],
   "source": [
    "# transforming the test data and evaluating the model\n",
    "\n",
    "# does this fit the testing data and then transform? \n",
    "trans_xtest = pipeline.fit_transform(xtest) # #What if I want to impute based on the training data to prevent data leakage\n",
    "print(f\"Test Accuracy: {accuracy_score(ytest, best_rf.predict(trans_xtest))}\")\n",
    "print(f\"Training weighted-f1-Score: {f1_score(ytrain, best_rf.predict(trans_xtrain), average='weighted')}\")"
   ]
  },
  {
   "cell_type": "code",
   "execution_count": 57,
   "metadata": {
    "ExecuteTime": {
     "end_time": "2019-12-01T06:39:56.540648Z",
     "start_time": "2019-12-01T05:39:16.107850Z"
    }
   },
   "outputs": [
    {
     "name": "stderr",
     "output_type": "stream",
     "text": [
      "100%|██████████| 6/6 [1:00:40<00:00, 606.72s/it]\n"
     ]
    }
   ],
   "source": [
    "# creating the RandomizedSearchCV and using the best estimator\n",
    "best_params = []\n",
    "oob_scores = []\n",
    "f1_train = []\n",
    "f1_test = []\n",
    "train_acc = []\n",
    "test_acc = []\n",
    "\n",
    "for n in tqdm([1, 5, 10, 20, 50, 100]):\n",
    "    randomize_clf = make_random_cv(cv=3, n_iter=5, n_estimators=n)  # 3-fold, 5 iterations\n",
    "    randomize_clf.fit(trans_xtrain, ytrain)\n",
    "    best_rf = randomize_clf.best_estimator_  # returning the best estimator\n",
    "    \n",
    "    # fitting the best estimator and getting the training scores\n",
    "    best_rf.fit(trans_xtrain, ytrain)\n",
    "    train_acc.append(accuracy_score(ytrain, best_rf.predict(trans_xtrain)))  # train_acc\n",
    "    test_acc.append(accuracy_score(ytest, best_rf.predict(trans_xtest)))  # test_acc\n",
    "    oob_scores.append(best_rf.oob_score_)  # list of oob scores\n",
    "    best_params.append(randomize_clf.best_params_)  # creating a list of best params\n",
    "    f1_train.append(f1_score(ytrain, best_rf.predict(trans_xtrain), average='weighted'))  # train_f1\n",
    "    f1_test.append(f1_score(ytest, best_rf.predict(trans_xtest), average='weighted'))  # test_f1"
   ]
  },
  {
   "cell_type": "code",
   "execution_count": 59,
   "metadata": {
    "ExecuteTime": {
     "end_time": "2019-12-01T06:40:19.456558Z",
     "start_time": "2019-12-01T06:40:19.183709Z"
    }
   },
   "outputs": [
    {
     "data": {
      "image/png": "[encoded data removed]",
      "text/plain": [
       "<Figure size 432x288 with 1 Axes>"
      ]
     },
     "metadata": {
      "needs_background": "light"
     },
     "output_type": "display_data"
    }
   ],
   "source": [
    "# Accuracy Plots\n",
    "n_trees = [1, 5, 10, 20, 50, 100]\n",
    "plt.plot(n_trees, train_acc, label='train')\n",
    "plt.plot(n_trees, test_acc, label='test')\n",
    "plt.plot(n_trees, oob_scores, label='oob')\n",
    "plt.xlabel('Number of Trees')\n",
    "plt.ylabel('Accuracy Scores')\n",
    "plt.title('Number of Trees vs Accuracy Scores')\n",
    "plt.legend(loc='lower right')\n",
    "plt.show()"
   ]
  },
  {
   "cell_type": "code",
   "execution_count": 61,
   "metadata": {
    "ExecuteTime": {
     "end_time": "2019-12-01T06:40:44.454764Z",
     "start_time": "2019-12-01T06:40:44.184784Z"
    }
   },
   "outputs": [
    {
     "data": {
      "image/png": "[encoded data removed]",
      "text/plain": [
       "<Figure size 432x288 with 1 Axes>"
      ]
     },
     "metadata": {
      "needs_background": "light"
     },
     "output_type": "display_data"
    }
   ],
   "source": [
    "# F1-scores plots\n",
    "plt.plot(n_trees, f1_train, label='train')\n",
    "plt.plot(n_trees, f1_test, label='test')\n",
    "plt.plot(n_trees, oob_scores, label='oob')\n",
    "plt.xlabel('Number of Trees')\n",
    "plt.ylabel('Weighted F1 Scores')\n",
    "plt.title('Number of Trees vs Weighted F1 Scores')\n",
    "plt.legend(loc='lower right')\n",
    "plt.show()"
   ]
  },
  {
   "cell_type": "code",
   "execution_count": 62,
   "metadata": {
    "ExecuteTime": {
     "end_time": "2019-12-01T06:41:28.522359Z",
     "start_time": "2019-12-01T06:41:28.513324Z"
    }
   },
   "outputs": [
    {
     "data": {
      "text/plain": [
       "[{'min_samples_leaf': 5000, 'max_features': 16},\n",
       " {'min_samples_leaf': 1000, 'max_features': 10},\n",
       " {'min_samples_leaf': 1000, 'max_features': 16},\n",
       " {'min_samples_leaf': 1000, 'max_features': 5},\n",
       " {'min_samples_leaf': 1000, 'max_features': 10},\n",
       " {'min_samples_leaf': 1000, 'max_features': 16}]"
      ]
     },
     "execution_count": 62,
     "metadata": {},
     "output_type": "execute_result"
    }
   ],
   "source": [
    "best_params"
   ]
  },
  {
   "cell_type": "code",
   "execution_count": 68,
   "metadata": {
    "ExecuteTime": {
     "end_time": "2019-12-01T07:21:43.279334Z",
     "start_time": "2019-12-01T07:21:43.266848Z"
    }
   },
   "outputs": [],
   "source": [
    "from sklearn.metrics import confusion_matrix, classification_report"
   ]
  },
  {
   "cell_type": "code",
   "execution_count": 69,
   "metadata": {
    "ExecuteTime": {
     "end_time": "2019-12-01T07:27:19.498271Z",
     "start_time": "2019-12-01T07:25:47.135541Z"
    }
   },
   "outputs": [
    {
     "data": {
      "text/plain": [
       "RandomForestClassifier(bootstrap=True, class_weight=None, criterion='gini',\n",
       "                       max_depth=10, max_features='auto', max_leaf_nodes=None,\n",
       "                       min_impurity_decrease=0.0, min_impurity_split=None,\n",
       "                       min_samples_leaf=1000, min_samples_split=2,\n",
       "                       min_weight_fraction_leaf=0.0, n_estimators=50, n_jobs=4,\n",
       "                       oob_score=True, random_state=42, verbose=0,\n",
       "                       warm_start=False)"
      ]
     },
     "execution_count": 69,
     "metadata": {},
     "output_type": "execute_result"
    }
   ],
   "source": [
    "# Training the best model according to the plots\n",
    "rf = RandomForestClassifier(random_state=42,\n",
    "                            n_jobs=4,\n",
    "                            n_estimators=50,\n",
    "                            min_samples_leaf=1000,\n",
    "                            max_depth=10,\n",
    "                            oob_score=True)\n",
    "rf.fit(trans_xtrain, ytrain)"
   ]
  },
  {
   "cell_type": "code",
   "execution_count": 72,
   "metadata": {
    "ExecuteTime": {
     "end_time": "2019-12-01T07:27:51.843243Z",
     "start_time": "2019-12-01T07:27:44.595241Z"
    }
   },
   "outputs": [
    {
     "name": "stdout",
     "output_type": "stream",
     "text": [
      "              precision    recall  f1-score   support\n",
      "\n",
      "           0       0.47      0.80      0.59     75918\n",
      "           1       0.79      0.97      0.87     90583\n",
      "           2       0.40      0.34      0.37     86805\n",
      "           3       0.73      0.04      0.08     45062\n",
      "           4       0.31      0.38      0.34     70263\n",
      "           5       0.33      0.46      0.39    124021\n",
      "           6       0.32      0.08      0.13     76828\n",
      "           7       0.34      0.35      0.34     50547\n",
      "           8       0.58      0.63      0.60     66269\n",
      "           9       0.39      0.27      0.32     97828\n",
      "\n",
      "    accuracy                           0.45    784124\n",
      "   macro avg       0.47      0.43      0.40    784124\n",
      "weighted avg       0.46      0.45      0.42    784124\n",
      "\n"
     ]
    }
   ],
   "source": [
    "# Training Classification Report\n",
    "print(classification_report(ytrain, rf.predict(trans_xtrain)))"
   ]
  },
  {
   "cell_type": "code",
   "execution_count": 73,
   "metadata": {
    "ExecuteTime": {
     "end_time": "2019-12-01T07:28:38.315338Z",
     "start_time": "2019-12-01T07:28:36.807930Z"
    }
   },
   "outputs": [
    {
     "name": "stdout",
     "output_type": "stream",
     "text": [
      "              precision    recall  f1-score   support\n",
      "\n",
      "           0       0.46      0.79      0.58     19055\n",
      "           1       0.79      0.97      0.87     22590\n",
      "           2       0.40      0.30      0.35     21825\n",
      "           3       0.74      0.02      0.05     11251\n",
      "           4       0.30      0.37      0.33     17699\n",
      "           5       0.33      0.46      0.38     31027\n",
      "           6       0.31      0.09      0.14     19270\n",
      "           7       0.34      0.36      0.35     12565\n",
      "           8       0.58      0.60      0.59     16495\n",
      "           9       0.37      0.28      0.32     24254\n",
      "\n",
      "    accuracy                           0.45    196031\n",
      "   macro avg       0.46      0.42      0.39    196031\n",
      "weighted avg       0.45      0.45      0.41    196031\n",
      "\n"
     ]
    }
   ],
   "source": [
    "# Testing Classification Report\n",
    "print(classification_report(ytest, rf.predict(trans_xtest)))"
   ]
  },
  {
   "cell_type": "code",
   "execution_count": 74,
   "metadata": {
    "ExecuteTime": {
     "end_time": "2019-12-01T07:34:51.681805Z",
     "start_time": "2019-12-01T07:33:43.314220Z"
    }
   },
   "outputs": [
    {
     "data": {
      "text/plain": [
       "RandomForestClassifier(bootstrap=True, class_weight=None, criterion='gini',\n",
       "                       max_depth=15, max_features='auto', max_leaf_nodes=None,\n",
       "                       min_impurity_decrease=0.0, min_impurity_split=None,\n",
       "                       min_samples_leaf=1000, min_samples_split=2,\n",
       "                       min_weight_fraction_leaf=0.0, n_estimators=50, n_jobs=4,\n",
       "                       oob_score=True, random_state=42, verbose=0,\n",
       "                       warm_start=False)"
      ]
     },
     "execution_count": 74,
     "metadata": {},
     "output_type": "execute_result"
    }
   ],
   "source": [
    "# Training the best model according to the plots with more depths (15)\n",
    "rf = RandomForestClassifier(random_state=42,\n",
    "                            n_jobs=4,\n",
    "                            n_estimators=50,\n",
    "                            min_samples_leaf=1000,\n",
    "                            max_depth=15,\n",
    "                            oob_score=True)\n",
    "rf.fit(trans_xtrain, ytrain)"
   ]
  },
  {
   "cell_type": "code",
   "execution_count": 76,
   "metadata": {
    "ExecuteTime": {
     "end_time": "2019-12-01T07:38:42.179141Z",
     "start_time": "2019-12-01T07:38:37.259844Z"
    }
   },
   "outputs": [
    {
     "name": "stdout",
     "output_type": "stream",
     "text": [
      "Training Accuracy Score: 0.4636715621508843\n",
      "Testing Accuracy Score: 0.4559380914243155\n"
     ]
    }
   ],
   "source": [
    "print(f\"Training Accuracy Score: {accuracy_score(ytrain, rf.predict(trans_xtrain))}\")\n",
    "print(f\"Testing Accuracy Score: {accuracy_score(ytest, rf.predict(trans_xtest))}\")"
   ]
  },
  {
   "cell_type": "code",
   "execution_count": 77,
   "metadata": {
    "ExecuteTime": {
     "end_time": "2019-12-01T07:41:48.981177Z",
     "start_time": "2019-12-01T07:41:47.149612Z"
    }
   },
   "outputs": [
    {
     "name": "stdout",
     "output_type": "stream",
     "text": [
      "              precision    recall  f1-score   support\n",
      "\n",
      "           0       0.47      0.81      0.59     19055\n",
      "           1       0.88      0.96      0.92     22590\n",
      "           2       0.40      0.32      0.36     21825\n",
      "           3       0.75      0.02      0.04     11251\n",
      "           4       0.33      0.40      0.36     17699\n",
      "           5       0.33      0.46      0.38     31027\n",
      "           6       0.32      0.09      0.14     19270\n",
      "           7       0.34      0.37      0.35     12565\n",
      "           8       0.59      0.60      0.59     16495\n",
      "           9       0.38      0.30      0.34     24254\n",
      "\n",
      "    accuracy                           0.46    196031\n",
      "   macro avg       0.48      0.43      0.41    196031\n",
      "weighted avg       0.47      0.46      0.43    196031\n",
      "\n"
     ]
    }
   ],
   "source": [
    "print(classification_report(ytest, rf.predict(trans_xtest)))"
   ]
  },
  {
   "cell_type": "code",
   "execution_count": 78,
   "metadata": {
    "ExecuteTime": {
     "end_time": "2019-12-01T07:44:25.087582Z",
     "start_time": "2019-12-01T07:43:07.288259Z"
    }
   },
   "outputs": [
    {
     "data": {
      "text/plain": [
       "RandomForestClassifier(bootstrap=True, class_weight=None, criterion='gini',\n",
       "                       max_depth=15, max_features='auto', max_leaf_nodes=None,\n",
       "                       min_impurity_decrease=0.0, min_impurity_split=None,\n",
       "                       min_samples_leaf=500, min_samples_split=2,\n",
       "                       min_weight_fraction_leaf=0.0, n_estimators=50, n_jobs=4,\n",
       "                       oob_score=True, random_state=42, verbose=0,\n",
       "                       warm_start=False)"
      ]
     },
     "execution_count": 78,
     "metadata": {},
     "output_type": "execute_result"
    }
   ],
   "source": [
    "# Training the best model according to the plots with more depths (15) and min_sample_leafs (500)\n",
    "rf = RandomForestClassifier(random_state=42,\n",
    "                            n_jobs=4,\n",
    "                            n_estimators=50,\n",
    "                            min_samples_leaf=500,\n",
    "                            max_depth=15,\n",
    "                            oob_score=True)\n",
    "rf.fit(trans_xtrain, ytrain)"
   ]
  },
  {
   "cell_type": "code",
   "execution_count": 80,
   "metadata": {
    "ExecuteTime": {
     "end_time": "2019-12-01T07:45:49.692483Z",
     "start_time": "2019-12-01T07:45:44.627696Z"
    }
   },
   "outputs": [
    {
     "name": "stdout",
     "output_type": "stream",
     "text": [
      "Training Accuracy Score: 0.4849003473940346\n",
      "Testing Accuracy Score: 0.4763481286123113\n",
      "OOB Accuracy Score: 0.47935530604853316\n"
     ]
    }
   ],
   "source": [
    "print(f\"Training Accuracy Score: {accuracy_score(ytrain, rf.predict(trans_xtrain))}\")\n",
    "print(f\"Testing Accuracy Score: {accuracy_score(ytest, rf.predict(trans_xtest))}\")\n",
    "print(f\"OOB Accuracy Score: {rf.oob_score_}\")"
   ]
  },
  {
   "cell_type": "code",
   "execution_count": 81,
   "metadata": {
    "ExecuteTime": {
     "end_time": "2019-12-01T07:48:45.214733Z",
     "start_time": "2019-12-01T07:47:12.259401Z"
    }
   },
   "outputs": [
    {
     "data": {
      "text/plain": [
       "RandomForestClassifier(bootstrap=True, class_weight=None, criterion='gini',\n",
       "                       max_depth=15, max_features='auto', max_leaf_nodes=None,\n",
       "                       min_impurity_decrease=0.0, min_impurity_split=None,\n",
       "                       min_samples_leaf=100, min_samples_split=2,\n",
       "                       min_weight_fraction_leaf=0.0, n_estimators=50, n_jobs=4,\n",
       "                       oob_score=True, random_state=42, verbose=0,\n",
       "                       warm_start=False)"
      ]
     },
     "execution_count": 81,
     "metadata": {},
     "output_type": "execute_result"
    }
   ],
   "source": [
    "# Training the best model according to the plots with more depths (15) and min_sample_leafs (500)\n",
    "rf = RandomForestClassifier(random_state=42,\n",
    "                            n_jobs=4,\n",
    "                            n_estimators=50,\n",
    "                            min_samples_leaf=100,\n",
    "                            max_depth=15,\n",
    "                            oob_score=True)\n",
    "rf.fit(trans_xtrain, ytrain)"
   ]
  },
  {
   "cell_type": "code",
   "execution_count": 82,
   "metadata": {
    "ExecuteTime": {
     "end_time": "2019-12-01T07:49:02.062195Z",
     "start_time": "2019-12-01T07:48:54.661968Z"
    }
   },
   "outputs": [
    {
     "name": "stdout",
     "output_type": "stream",
     "text": [
      "Training Accuracy Score: 0.5256400773347073\n",
      "Testing Accuracy Score: 0.5111895567537788\n",
      "OOB Accuracy Score: 0.5140934342017334\n"
     ]
    }
   ],
   "source": [
    "print(f\"Training Accuracy Score: {accuracy_score(ytrain, rf.predict(trans_xtrain))}\")\n",
    "print(f\"Testing Accuracy Score: {accuracy_score(ytest, rf.predict(trans_xtest))}\")\n",
    "print(f\"OOB Accuracy Score: {rf.oob_score_}\")"
   ]
  },
  {
   "cell_type": "code",
   "execution_count": 83,
   "metadata": {
    "ExecuteTime": {
     "end_time": "2019-12-01T07:50:52.934410Z",
     "start_time": "2019-12-01T07:50:51.065361Z"
    }
   },
   "outputs": [
    {
     "name": "stdout",
     "output_type": "stream",
     "text": [
      "              precision    recall  f1-score   support\n",
      "\n",
      "           0       0.55      0.83      0.66     19055\n",
      "           1       0.97      0.98      0.98     22590\n",
      "           2       0.44      0.40      0.42     21825\n",
      "           3       0.65      0.16      0.26     11251\n",
      "           4       0.40      0.52      0.45     17699\n",
      "           5       0.38      0.47      0.42     31027\n",
      "           6       0.37      0.16      0.22     19270\n",
      "           7       0.38      0.38      0.38     12565\n",
      "           8       0.61      0.67      0.64     16495\n",
      "           9       0.43      0.38      0.41     24254\n",
      "\n",
      "    accuracy                           0.51    196031\n",
      "   macro avg       0.52      0.49      0.48    196031\n",
      "weighted avg       0.51      0.51      0.49    196031\n",
      "\n"
     ]
    }
   ],
   "source": [
    "# Testing Classification Report\n",
    "print(classification_report(ytest, rf.predict(trans_xtest)))"
   ]
  }
 ],
 "metadata": {
  "kernelspec": {
   "display_name": "Python 3",
   "language": "python",
   "name": "python3"
  },
  "language_info": {
   "codemirror_mode": {
    "name": "ipython",
    "version": 3
   },
   "file_extension": ".py",
   "mimetype": "text/x-python",
   "name": "python",
   "nbconvert_exporter": "python",
   "pygments_lexer": "ipython3",
   "version": "3.7.4"
  }
 },
 "nbformat": 4,
 "nbformat_minor": 2
}
