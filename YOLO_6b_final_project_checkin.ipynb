{
 "cells": [
  {
   "cell_type": "markdown",
   "metadata": {},
   "source": [
    "## Final Project Check-in\n",
    "\n",
    "## Yolo\n",
    "\n",
    "\n",
    "## Student Names\n",
    "1. Dillon Quan\n",
    "2. Shrikar Thodla\n",
    "3. Mikio Tada"
   ]
  },
  {
   "cell_type": "code",
   "execution_count": 1,
   "metadata": {},
   "outputs": [],
   "source": [
    "# import the necessary libraries\n",
    "import warnings\n",
    "from sklearn.metrics import f1_score, accuracy_score\n",
    "from sklearn.model_selection import RandomizedSearchCV\n",
    "from sklearn.model_selection import StratifiedShuffleSplit\n",
    "from sklearn.ensemble import RandomForestClassifier\n",
    "from sklearn.linear_model import LogisticRegression\n",
    "from sklearn.tree import DecisionTreeClassifier\n",
    "from sklearn.model_selection import train_test_split\n",
    "from sklearn.pipeline import Pipeline\n",
    "from sklearn.compose import ColumnTransformer\n",
    "from sklearn.impute import SimpleImputer\n",
    "from tqdm import tqdm\n",
    "import numpy as np\n",
    "import pandas as pd\n",
    "pd.options.display.max_columns = None\n",
    "warnings.filterwarnings('ignore')"
   ]
  },
  {
   "cell_type": "markdown",
   "metadata": {},
   "source": [
    "## Load Data"
   ]
  },
  {
   "cell_type": "code",
   "execution_count": 3,
   "metadata": {},
   "outputs": [],
   "source": [
    "#reading in the file into pandas dataframe\n",
    "df = pd.read_csv('data/train.csv')\n",
    "\n",
    "# separating the target variable and the predictor variables\n",
    "df_X = df.drop(columns=['hotel_cluster'])\n",
    "df_y = df['hotel_cluster']"
   ]
  },
  {
   "cell_type": "code",
   "execution_count": 4,
   "metadata": {},
   "outputs": [],
   "source": [
    "# using stratified shuffle split to get 1% of the original data while keeping the distribution\n",
    "sss = StratifiedShuffleSplit(n_splits=1, train_size=0.01, random_state=0)\n",
    "for train_idx, test_idx in sss.split(df_X, df_y):\n",
    "    X_train, X_test = df_X.iloc[train_idx], df_X.iloc[test_idx]\n",
    "    y_train, y_test = df_y.iloc[train_idx], df_y.iloc[test_idx]"
   ]
  },
  {
   "cell_type": "code",
   "execution_count": 5,
   "metadata": {},
   "outputs": [],
   "source": [
    "#reset the index\n",
    "sample_x = X_train.reset_index(drop=True)\n",
    "sample_y = y_train.reset_index(drop=True)\n",
    "\n",
    "# How many samples are greater than 2017? seems to be only one sample that has the year of 2557 in this 5% sample\n",
    "#sample_x.loc[(sample_x['srch_ci'] > '2017')] # erroneous year\n",
    "sample_x.loc[58538, 'srch_ci'] = '2014-11-14'\n",
    "sample_x.loc[58538, 'srch_co'] = '2014-11-15'\n",
    "\n",
    "# feature engineering into datetime\n",
    "sample_x['date_time'] = pd.to_datetime(sample_x['date_time'], yearfirst=True)\n",
    "sample_x['srch_ci'] = pd.to_datetime(sample_x['srch_ci'], yearfirst=True, errors='coerce')\n",
    "sample_x['srch_co'] = pd.to_datetime(sample_x['srch_co'], yearfirst=True, errors='coerce')\n",
    "\n",
    "# timedelta for days in advance feature\n",
    "sample_x['advance'] = sample_x['srch_ci'] - sample_x['date_time']\n",
    "sample_x['advance'] = sample_x.advance.dt.days\n",
    "\n",
    "# duration of stays\n",
    "sample_x['duration'] = sample_x['srch_co'] - sample_x['srch_ci']\n",
    "sample_x['duration'] = sample_x.duration.dt.days"
   ]
  },
  {
   "cell_type": "code",
   "execution_count": 6,
   "metadata": {},
   "outputs": [],
   "source": [
    "new_x = sample_x.drop(columns=['hotel_market', 'user_id', 'site_name',\n",
    "                      'posa_continent', 'user_location_region', 'user_location_city',\n",
    "                     'hotel_continent', 'date_time', 'srch_ci', 'srch_co']) "
   ]
  },
  {
   "cell_type": "code",
   "execution_count": 7,
   "metadata": {},
   "outputs": [],
   "source": [
    "# Train test split the 1% data\n",
    "xtrain, xtest, ytrain, ytest = train_test_split(new_x, sample_y, test_size=.2 ,random_state=42)"
   ]
  },
  {
   "cell_type": "code",
   "execution_count": 8,
   "metadata": {},
   "outputs": [],
   "source": [
    "# Building the pipeline\n",
    "def make_pipeline():\n",
    "    \"\"\"This function here makes the pipeline but does not include the clf to prevent data leakage.\"\"\"\n",
    "    \n",
    "    date_features = ['advance', 'duration']\n",
    "    date_transformer = Pipeline(steps=[('imp', SimpleImputer(missing_values=np.nan, strategy='constant', fill_value=0))])\n",
    "\n",
    "    distance = ['orig_destination_distance']\n",
    "    distance_transformer = Pipeline(steps=[('imp', SimpleImputer(missing_values=np.nan, strategy='mean'))])\n",
    "\n",
    "    preprocessor = ColumnTransformer(transformers=[('date', date_transformer, date_features),\n",
    "                                                   ('dist', distance_transformer, distance)],\n",
    "                                    remainder='passthrough')\n",
    "\n",
    "    pipeline = Pipeline(steps=[('preprocess', preprocessor)])\n",
    "    \n",
    "    return pipeline"
   ]
  },
  {
   "cell_type": "code",
   "execution_count": 9,
   "metadata": {},
   "outputs": [],
   "source": [
    "# make the pipeline and transform the data\n",
    "pipeline = make_pipeline()\n",
    "trans_xtrain = pipeline.fit_transform(xtrain)\n",
    "trans_xtest = pipeline.fit_transform(xtest) "
   ]
  },
  {
   "cell_type": "markdown",
   "metadata": {},
   "source": [
    "## Fit the model for Random Forest"
   ]
  },
  {
   "cell_type": "code",
   "execution_count": 23,
   "metadata": {},
   "outputs": [],
   "source": [
    "# RandomForest\n",
    "def make_random_cv_rf(cv, n_iter):\n",
    "    \"\"\"\n",
    "    Steps:\n",
    "    1. Define Estimator\n",
    "    2. Define hyperparameter search space\n",
    "    3. Instantiate RandomizedSearchCV\n",
    "    \"\"\"\n",
    "    \n",
    "    rf = RandomForestClassifier(random_state=42, oob_score=True)\n",
    "    params_grid = {'n_estimators': [100,800, 1200, 2000],\n",
    "                   'max_features': [0.25, 0.5, 0.75, 0.9],\n",
    "                   'min_samples_leaf': [1000, 15000, 30000]}\n",
    "    \n",
    "    clf_random_cv_rf = RandomizedSearchCV(estimator=rf, scoring='f1_weighted',\n",
    "                                       param_distributions=params_grid, n_iter=n_iter, cv=cv)\n",
    "                                         \n",
    "    return clf_random_cv_rf"
   ]
  },
  {
   "cell_type": "code",
   "execution_count": null,
   "metadata": {},
   "outputs": [],
   "source": [
    "# Removed cell that had the keyboard interruption\n",
    "clf_rand_rf = make_random_cv_rf(2, 7) \n",
    "clf_rand_rf.fit(trans_xtrain, ytrain);"
   ]
  },
  {
   "cell_type": "markdown",
   "metadata": {},
   "source": [
    "## Evaluation Metric for Random Forest"
   ]
  },
  {
   "cell_type": "code",
   "execution_count": 12,
   "metadata": {},
   "outputs": [
    {
     "name": "stdout",
     "output_type": "stream",
     "text": [
      "The train set accuracy - 11.36%\n",
      "The train weighted-f1-Score: 0.11359797717687424\n",
      "The test set accuracy - 11.30%\n",
      "The test weighted-f1-Score: 0.11295310654225454\n"
     ]
    }
   ],
   "source": [
    "#RandomForest \n",
    "print(f\"The train set accuracy - {accuracy_score(ytrain, clf_rand_rf.predict(trans_xtrain)):.2%}\")\n",
    "print(f\"The train weighted-f1-Score: {f1_score(ytrain, clf_rand_rf.predict(trans_xtrain), average='micro')}\")\n",
    "      \n",
    "print(f\"The test set accuracy - {accuracy_score(ytest, clf_rand_rf.predict(trans_xtest)):.2%}\")\n",
    "print(f\"The test weighted-f1-Score: {f1_score(ytest, clf_rand_rf.predict(trans_xtest), average='micro')}\")"
   ]
  }
 ],
 "metadata": {
  "kernelspec": {
   "display_name": "Python 3",
   "language": "python",
   "name": "python3"
  },
  "language_info": {
   "codemirror_mode": {
    "name": "ipython",
    "version": 3
   },
   "file_extension": ".py",
   "mimetype": "text/x-python",
   "name": "python",
   "nbconvert_exporter": "python",
   "pygments_lexer": "ipython3",
   "version": "3.7.4"
  }
 },
 "nbformat": 4,
 "nbformat_minor": 2
}
