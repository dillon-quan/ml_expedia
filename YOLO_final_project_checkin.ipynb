{
 "cells": [
  {
   "cell_type": "markdown",
   "metadata": {},
   "source": [
    "## Final Project Check-in\n",
    "\n",
    "## Yolo\n",
    "\n",
    "\n",
    "## Student Names\n",
    "1. Dillon Quan\n",
    "2. Shrikar Thodla\n",
    "3. Mikio Tada"
   ]
  },
  {
   "cell_type": "code",
   "execution_count": null,
   "metadata": {},
   "outputs": [],
   "source": [
    "# import the necessary libraries\n",
    "from sklearn.metrics import f1_score, accuracy_score\n",
    "from sklearn.model_selection import RandomizedSearchCV\n",
    "from sklearn.model_selection import StratifiedShuffleSplit\n",
    "from sklearn.ensemble import RandomForestClassifier\n",
    "from sklearn.model_selection import train_test_split\n",
    "from sklearn.pipeline import Pipeline\n",
    "from sklearn.compose import ColumnTransformer\n",
    "from sklearn.impute import SimpleImputer\n",
    "from tqdm import tqdm\n",
    "import numpy as np\n",
    "import pandas as pd\n",
    "pd.options.display.max_columns = None"
   ]
  },
  {
   "cell_type": "markdown",
   "metadata": {},
   "source": [
    "## Load Data"
   ]
  },
  {
   "cell_type": "code",
   "execution_count": null,
   "metadata": {},
   "outputs": [],
   "source": [
    "#reading in the file into pandas dataframe\n",
    "df = pd.read_csv('data/train.csv')\n",
    "\n",
    "# separating the target variable and the predictor variables\n",
    "df_X = df.drop(columns=['hotel_cluster'])\n",
    "df_y = df['hotel_cluster']"
   ]
  },
  {
   "cell_type": "code",
   "execution_count": null,
   "metadata": {},
   "outputs": [],
   "source": [
    "# using stratified shuffle split to get 5% of the original data while keeping the distribution\n",
    "sss = StratifiedShuffleSplit(n_splits=1, train_size=0.05, random_state=0)\n",
    "for train_idx, test_idx in sss.split(df_X, df_y):\n",
    "    X_train, X_test = df_X.iloc[train_idx], df_X.iloc[test_idx]\n",
    "    y_train, y_test = df_y.iloc[train_idx], df_y.iloc[test_idx]"
   ]
  },
  {
   "cell_type": "code",
   "execution_count": null,
   "metadata": {},
   "outputs": [],
   "source": [
    "#reset the index\n",
    "sample_x = X_train.reset_index(drop=True)\n",
    "sample_y = y_train.reset_index(drop=True)\n",
    "\n",
    "# How many samples are greater than 2017? seems to be only one sample that has the year of 2557 in this 5% sample\n",
    "#sample_x.loc[(sample_x['srch_ci'] > '2017')] # erroneous year\n",
    "sample_x.loc[558005, 'srch_ci'] = '2014-11-14'\n",
    "sample_x.loc[558005, 'srch_co'] = '2014-11-15'\n",
    "\n",
    "# feature engineering into datetime\n",
    "sample_x['date_time'] = pd.to_datetime(sample_x['date_time'], yearfirst=True)\n",
    "sample_x['srch_ci'] = pd.to_datetime(sample_x['srch_ci'], yearfirst=True, errors='coerce')\n",
    "sample_x['srch_co'] = pd.to_datetime(sample_x['srch_co'], yearfirst=True, errors='coerce')\n",
    "\n",
    "# timedelta for days in advance feature\n",
    "sample_x['advance'] = sample_x['srch_ci'] - sample_x['date_time']\n",
    "sample_x['advance'] = sample_x.advance.dt.days\n",
    "\n",
    "# duration of stays\n",
    "sample_x['duration'] = sample_x['srch_co'] - sample_x['srch_ci']\n",
    "sample_x['duration'] = sample_x.duration.dt.days"
   ]
  },
  {
   "cell_type": "code",
   "execution_count": null,
   "metadata": {},
   "outputs": [],
   "source": [
    "new_x = sample_x.drop(columns=['hotel_market', 'user_id', 'site_name',\n",
    "                      'posa_continent', 'user_location_region', 'user_location_city',\n",
    "                     'hotel_continent', 'date_time', 'srch_ci', 'srch_co', 'y', 'year'])"
   ]
  },
  {
   "cell_type": "code",
   "execution_count": null,
   "metadata": {},
   "outputs": [],
   "source": [
    "# Train test split the 5% data\n",
    "xtrain, xtest, ytrain, ytest = train_test_split(new_x, sample_y, test_size=.2 ,random_state=42)"
   ]
  },
  {
   "cell_type": "code",
   "execution_count": null,
   "metadata": {},
   "outputs": [],
   "source": [
    "# Building the pipeline\n",
    "def make_pipeline():\n",
    "    \"\"\"This function here makes the pipeline but does not include the clf to prevent data leakage.\"\"\"\n",
    "    \n",
    "    date_features = ['advance', 'duration']\n",
    "    date_transformer = Pipeline(steps=[('imp', SimpleImputer(missing_values=np.nan, strategy='constant', fill_value=0))])\n",
    "\n",
    "    distance = ['orig_destination_distance']\n",
    "    distance_transformer = Pipeline(steps=[('imp', SimpleImputer(missing_values=np.nan, strategy='mean'))])\n",
    "\n",
    "    preprocessor = ColumnTransformer(transformers=[('date', date_transformer, date_features),\n",
    "                                                   ('dist', distance_transformer, distance)],\n",
    "                                    remainder='passthrough')\n",
    "\n",
    "    pipeline = Pipeline([('preprocess', preprocessor)])\n",
    "    \n",
    "    return pipeline"
   ]
  },
  {
   "cell_type": "code",
   "execution_count": null,
   "metadata": {},
   "outputs": [],
   "source": [
    "# make the pipeline and transform the data\n",
    "pipeline = make_pipeline()\n",
    "trans_xtrain = pipeline.fit_transform(xtrain)"
   ]
  },
  {
   "cell_type": "markdown",
   "metadata": {},
   "source": [
    "## Fit scikit-learn model"
   ]
  },
  {
   "cell_type": "code",
   "execution_count": null,
   "metadata": {},
   "outputs": [],
   "source": [
    "def make_random_cv(cv, n_iter):\n",
    "    \"\"\"\n",
    "    Steps:\n",
    "    1. Define Estimator\n",
    "    2. Define hyperparameter search space\n",
    "    3. Instantiate RandomizedSearchCV\n",
    "    \"\"\"\n",
    "    \n",
    "    rf = RandomForestClassifier(random_state=42)\n",
    "    params_grid = {'n_estimators': [100, 400, 800, 1200, 1600, 2000],\n",
    "                  'max_features': [5, 10, 15, 20],\n",
    "                  'min_samples_leaf': [1000, 5000, 15000, 30000]}\n",
    "    \n",
    "    clf_random_cv = RandomizedSearchCV(estimator=rf, scoring='f1_weighted',\n",
    "                                       param_distributions=params_grid,\n",
    "                                       max_depth=20, n_iter=n_iter, cv=cv, oob_score=True)\n",
    "                                         \n",
    "    return clf_random_cv"
   ]
  },
  {
   "cell_type": "code",
   "execution_count": null,
   "metadata": {},
   "outputs": [],
   "source": [
    "# creating the RandomizedSearchCV and using the best estimator\n",
    "randomize_clf = make_random_cv(5, 10) # 5-fold, 10 iterations\n",
    "randomize_clf.fit(trans_xtrain, ytrain)\n",
    "best_rf = randomize_clf.best_estimator_ # returning the best estimator"
   ]
  },
  {
   "cell_type": "markdown",
   "metadata": {},
   "source": [
    "## Evaluation Metric"
   ]
  },
  {
   "cell_type": "code",
   "execution_count": null,
   "metadata": {},
   "outputs": [],
   "source": [
    "# fitting the best estimator and getting the training scores\n",
    "best_rf.fit(trans_xtrain, ytrain)\n",
    "print(f\"Out-of-Bag Accuracy: {best_rf.best_score_}\")\n",
    "print(f\"Training weighted-f1-Score: {f1_score(ytrain, best_rf.predict(trans_xtrain))}\")"
   ]
  },
  {
   "cell_type": "code",
   "execution_count": null,
   "metadata": {},
   "outputs": [],
   "source": [
    "# transforming the test data and evaluating the model\n",
    "\n",
    "# does this fit the testing data and then transform? \n",
    "trans_xtest = pipeline.fit_transform(xtest) # #What if I want to impute based on the training data to prevent data leakage\n",
    "print(f\"Test Accuracy: {accuracy_score(ytest, best_rf.predict(trans_xtest))}\")\n",
    "print(f\"Training weighted-f1-Score: {f1_score(ytrain, best_rf.predict(trans_xtrain))}\")"
   ]
  }
 ],
 "metadata": {
  "kernelspec": {
   "display_name": "Python 3",
   "language": "python",
   "name": "python3"
  },
  "language_info": {
   "codemirror_mode": {
    "name": "ipython",
    "version": 3
   },
   "file_extension": ".py",
   "mimetype": "text/x-python",
   "name": "python",
   "nbconvert_exporter": "python",
   "pygments_lexer": "ipython3",
   "version": "3.7.4"
  }
 },
 "nbformat": 4,
 "nbformat_minor": 2
}
