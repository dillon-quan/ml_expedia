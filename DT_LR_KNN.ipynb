{
 "cells": [
  {
   "cell_type": "code",
   "execution_count": 1,
   "metadata": {},
   "outputs": [],
   "source": [
    "# import the necessary libraries\n",
    "import matplotlib.pyplot as plt\n",
    "import warnings\n",
    "from rfpimp import *\n",
    "from sklearn.metrics import precision_score\n",
    "from sklearn.metrics import f1_score, accuracy_score\n",
    "from sklearn.model_selection import RandomizedSearchCV\n",
    "from sklearn.model_selection import StratifiedShuffleSplit\n",
    "from sklearn.ensemble import RandomForestClassifier\n",
    "from sklearn.linear_model import LogisticRegression\n",
    "from sklearn.neighbors import KNeighborsClassifier\n",
    "from sklearn.tree import DecisionTreeClassifier\n",
    "from sklearn.model_selection import train_test_split\n",
    "from sklearn.pipeline import Pipeline\n",
    "from sklearn.compose import ColumnTransformer\n",
    "from sklearn.impute import SimpleImputer\n",
    "from tqdm import tqdm\n",
    "import numpy as np\n",
    "import pandas as pd\n",
    "pd.options.display.max_columns = None\n",
    "warnings.filterwarnings('ignore')"
   ]
  },
  {
   "cell_type": "code",
   "execution_count": 2,
   "metadata": {},
   "outputs": [
    {
     "data": {
      "text/plain": [
       "(37670293, 24)"
      ]
     },
     "execution_count": 2,
     "metadata": {},
     "output_type": "execute_result"
    }
   ],
   "source": [
    "#reading the entire data in the file into pandas dataframe\n",
    "df = pd.read_csv('data/train.csv'); df.shape"
   ]
  },
  {
   "cell_type": "code",
   "execution_count": 3,
   "metadata": {},
   "outputs": [
    {
     "data": {
      "text/plain": [
       "(3920622, 24)"
      ]
     },
     "execution_count": 3,
     "metadata": {},
     "output_type": "execute_result"
    }
   ],
   "source": [
    "# collecting rows that are hotel_cluster_0~9. check \n",
    "dfn = df.loc[df['hotel_cluster'].isin(list(range(10)))]; dfn.shape"
   ]
  },
  {
   "cell_type": "code",
   "execution_count": 4,
   "metadata": {},
   "outputs": [
    {
     "data": {
      "text/plain": [
       "date_time                          0\n",
       "site_name                          0\n",
       "posa_continent                     0\n",
       "user_location_country              0\n",
       "user_location_region               0\n",
       "user_location_city                 0\n",
       "orig_destination_distance    1390238\n",
       "user_id                            0\n",
       "is_mobile                          0\n",
       "is_package                         0\n",
       "channel                            0\n",
       "srch_ci                         4781\n",
       "srch_co                         4782\n",
       "srch_adults_cnt                    0\n",
       "srch_children_cnt                  0\n",
       "srch_rm_cnt                        0\n",
       "srch_destination_id                0\n",
       "srch_destination_type_id           0\n",
       "is_booking                         0\n",
       "cnt                                0\n",
       "hotel_continent                    0\n",
       "hotel_country                      0\n",
       "hotel_market                       0\n",
       "hotel_cluster                      0\n",
       "dtype: int64"
      ]
     },
     "execution_count": 4,
     "metadata": {},
     "output_type": "execute_result"
    }
   ],
   "source": [
    "#check which columns have how many null values \n",
    "dfn.isnull().sum()"
   ]
  },
  {
   "cell_type": "code",
   "execution_count": 5,
   "metadata": {},
   "outputs": [],
   "source": [
    "# separating the target variable and the predictor variables\n",
    "df_X = dfn.drop(columns=['hotel_cluster'])\n",
    "df_y = dfn['hotel_cluster']"
   ]
  },
  {
   "cell_type": "markdown",
   "metadata": {},
   "source": [
    "### Using data with 1mil rows to fit model and find a candidate of good model"
   ]
  },
  {
   "cell_type": "code",
   "execution_count": 7,
   "metadata": {},
   "outputs": [],
   "source": [
    "# using stratified shuffle split to get 25% of the filter data while keeping the distribution (~ 1mil samples)\n",
    "sss = StratifiedShuffleSplit(n_splits=1, train_size=0.25, random_state=0)\n",
    "for train_idx, test_idx in sss.split(df_X, df_y):\n",
    "    X_train, X_test = df_X.iloc[train_idx], df_X.iloc[test_idx]\n",
    "    y_train, y_test = df_y.iloc[train_idx], df_y.iloc[test_idx]"
   ]
  },
  {
   "cell_type": "code",
   "execution_count": 8,
   "metadata": {},
   "outputs": [
    {
     "name": "stdout",
     "output_type": "stream",
     "text": [
      "X_train (980155, 23), y_train (980155,)\n",
      " X_test (2940467, 23), y_test (2940467,)\n"
     ]
    }
   ],
   "source": [
    "#check the shape of training and testing data\n",
    "print(f\"X_train {X_train.shape}, y_train {y_train.shape}\\n X_test {X_test.shape}, y_test {y_test.shape}\")"
   ]
  },
  {
   "cell_type": "code",
   "execution_count": 9,
   "metadata": {},
   "outputs": [
    {
     "name": "stdout",
     "output_type": "stream",
     "text": [
      "<class 'pandas.core.frame.DataFrame'>\n",
      "RangeIndex: 980155 entries, 0 to 980154\n",
      "Data columns (total 23 columns):\n",
      "date_time                    980155 non-null object\n",
      "site_name                    980155 non-null int64\n",
      "posa_continent               980155 non-null int64\n",
      "user_location_country        980155 non-null int64\n",
      "user_location_region         980155 non-null int64\n",
      "user_location_city           980155 non-null int64\n",
      "orig_destination_distance    633029 non-null float64\n",
      "user_id                      980155 non-null int64\n",
      "is_mobile                    980155 non-null int64\n",
      "is_package                   980155 non-null int64\n",
      "channel                      980155 non-null int64\n",
      "srch_ci                      978936 non-null object\n",
      "srch_co                      978936 non-null object\n",
      "srch_adults_cnt              980155 non-null int64\n",
      "srch_children_cnt            980155 non-null int64\n",
      "srch_rm_cnt                  980155 non-null int64\n",
      "srch_destination_id          980155 non-null int64\n",
      "srch_destination_type_id     980155 non-null int64\n",
      "is_booking                   980155 non-null int64\n",
      "cnt                          980155 non-null int64\n",
      "hotel_continent              980155 non-null int64\n",
      "hotel_country                980155 non-null int64\n",
      "hotel_market                 980155 non-null int64\n",
      "dtypes: float64(1), int64(19), object(3)\n",
      "memory usage: 172.0+ MB\n"
     ]
    }
   ],
   "source": [
    "#reset the index\n",
    "sample_x = X_train.reset_index(drop=True)\n",
    "sample_y = y_train.reset_index(drop=True)\n",
    "sample_x.info()"
   ]
  },
  {
   "cell_type": "code",
   "execution_count": 10,
   "metadata": {},
   "outputs": [],
   "source": [
    "# feature engineering into datetime\n",
    "sample_x['date_time'] = pd.to_datetime(sample_x['date_time'], yearfirst=True)\n",
    "sample_x['srch_ci'] = pd.to_datetime(sample_x['srch_ci'], yearfirst=True, errors='coerce')\n",
    "sample_x['srch_co'] = pd.to_datetime(sample_x['srch_co'], yearfirst=True, errors='coerce')\n",
    "\n",
    "# timedelta for days in advance feature\n",
    "sample_x['advance'] = sample_x['srch_ci'] - sample_x['date_time']\n",
    "sample_x['advance'] = sample_x.advance.dt.days\n",
    "\n",
    "# duration of stays\n",
    "sample_x['duration'] = sample_x['srch_co'] - sample_x['srch_ci']\n",
    "sample_x['duration'] = sample_x.duration.dt.days"
   ]
  },
  {
   "cell_type": "code",
   "execution_count": 11,
   "metadata": {},
   "outputs": [],
   "source": [
    "new_x = sample_x.drop(columns=['user_id', 'site_name',\n",
    "                               'user_location_region',\n",
    "                               'date_time', 'srch_ci',\n",
    "                               'srch_co'])"
   ]
  },
  {
   "cell_type": "code",
   "execution_count": 12,
   "metadata": {},
   "outputs": [
    {
     "data": {
      "text/plain": [
       "(980155, 19)"
      ]
     },
     "execution_count": 12,
     "metadata": {},
     "output_type": "execute_result"
    }
   ],
   "source": [
    "new_x.shape"
   ]
  },
  {
   "cell_type": "code",
   "execution_count": 13,
   "metadata": {},
   "outputs": [
    {
     "data": {
      "text/plain": [
       "((784124, 19), (196031, 19))"
      ]
     },
     "execution_count": 13,
     "metadata": {},
     "output_type": "execute_result"
    }
   ],
   "source": [
    "# Train test split the 5% data\n",
    "xtrain, xtest, ytrain, ytest = train_test_split(new_x, sample_y, test_size=.2 ,random_state=42)\n",
    "xtrain.shape, xtest.shape"
   ]
  },
  {
   "cell_type": "code",
   "execution_count": 14,
   "metadata": {},
   "outputs": [],
   "source": [
    "# Building the pipeline\n",
    "def make_pipeline():\n",
    "    \"\"\"This function here makes the pipeline but does not include the clf to prevent data leakage.\"\"\"\n",
    "    \n",
    "    date_features = ['advance', 'duration']\n",
    "    date_transformer = Pipeline(steps=[('imp', SimpleImputer(missing_values=np.nan, strategy='constant', fill_value=0))])\n",
    "\n",
    "    distance = ['orig_destination_distance']\n",
    "    distance_transformer = Pipeline(steps=[('imp', SimpleImputer(missing_values=np.nan, strategy='mean'))])\n",
    "\n",
    "    preprocessor = ColumnTransformer(transformers=[('date', date_transformer, date_features),\n",
    "                                                   ('dist', distance_transformer, distance)],\n",
    "                                    remainder='passthrough')\n",
    "\n",
    "    pipeline = Pipeline([('preprocess', preprocessor)])\n",
    "    \n",
    "    return pipeline"
   ]
  },
  {
   "cell_type": "markdown",
   "metadata": {},
   "source": [
    "### AutoML for Decision Tree"
   ]
  },
  {
   "cell_type": "code",
   "execution_count": 15,
   "metadata": {},
   "outputs": [],
   "source": [
    "def make_random_cv(cv, n_iter, n_estimators):\n",
    "    \"\"\"\n",
    "    Steps:\n",
    "    1. Define Estimator\n",
    "    2. Define hyperparameter search space\n",
    "    3. Instantiate RandomizedSearchCV\n",
    "    \"\"\"\n",
    "    \n",
    "    rf = DecisionTreeClassifier(random_state=42, \n",
    "                                max_depth=10)\n",
    "    \n",
    "    params_grid = {'max_features': [2, 5, 10, 16],\n",
    "                  'min_samples_leaf': [100, 500, 1000, 2000]}\n",
    "    \n",
    "    clf_random_cv = RandomizedSearchCV(estimator=rf, scoring='f1_weighted',\n",
    "                                       param_distributions=params_grid,\n",
    "                                       n_iter=n_iter, cv=cv)\n",
    "                                         \n",
    "    return clf_random_cv"
   ]
  },
  {
   "cell_type": "code",
   "execution_count": 16,
   "metadata": {},
   "outputs": [
    {
     "data": {
      "text/plain": [
       "(784124, 19)"
      ]
     },
     "execution_count": 16,
     "metadata": {},
     "output_type": "execute_result"
    }
   ],
   "source": [
    "# make the pipeline and transform the data\n",
    "pipeline = make_pipeline()\n",
    "trans_xtrain = pipeline.fit_transform(xtrain)\n",
    "trans_xtest = pipeline.fit_transform(xtest)\n",
    "trans_xtrain.shape # sanity check of datashape"
   ]
  },
  {
   "cell_type": "code",
   "execution_count": 17,
   "metadata": {},
   "outputs": [
    {
     "data": {
      "text/plain": [
       "{'min_samples_leaf': 100, 'max_features': 16}"
      ]
     },
     "execution_count": 17,
     "metadata": {},
     "output_type": "execute_result"
    }
   ],
   "source": [
    "# creating the RandomizedSearchCV and using the best estimator\n",
    "randomize_clf = make_random_cv(3, 5, 1) # 3-fold, 5 iterations\n",
    "randomize_clf.fit(trans_xtrain, ytrain)\n",
    "best_rf = randomize_clf.best_estimator_ # returning the best estimator\n",
    "randomize_clf.best_params_"
   ]
  },
  {
   "cell_type": "code",
   "execution_count": 18,
   "metadata": {},
   "outputs": [
    {
     "name": "stdout",
     "output_type": "stream",
     "text": [
      "Training weighted-f1-Score: 0.5220213513642131\n"
     ]
    }
   ],
   "source": [
    "# fitting the best estimator and getting the training scores\n",
    "best_rf.fit(trans_xtrain, ytrain)\n",
    "print(f\"Training weighted-f1-Score: {f1_score(ytrain, best_rf.predict(trans_xtrain), average='weighted')}\")"
   ]
  },
  {
   "cell_type": "code",
   "execution_count": 19,
   "metadata": {},
   "outputs": [
    {
     "name": "stdout",
     "output_type": "stream",
     "text": [
      "Test Accuracy: 0.5306609668878902\n",
      "Training weighted-f1-Score: 0.5220213513642131\n"
     ]
    }
   ],
   "source": [
    "# transforming the test data and evaluating the model\n",
    "\n",
    "# does this fit the testing data and then transform? \n",
    "trans_xtest = pipeline.fit_transform(xtest) # #What if I want to impute based on the training data to prevent data leakage\n",
    "print(f\"Test Accuracy: {accuracy_score(ytest, best_rf.predict(trans_xtest))}\")\n",
    "print(f\"Training weighted-f1-Score: {f1_score(ytrain, best_rf.predict(trans_xtrain), average='weighted')}\")"
   ]
  },
  {
   "cell_type": "code",
   "execution_count": 20,
   "metadata": {},
   "outputs": [
    {
     "data": {
      "text/plain": [
       "DecisionTreeClassifier(class_weight=None, criterion='gini', max_depth=None,\n",
       "                       max_features=None, max_leaf_nodes=None,\n",
       "                       min_impurity_decrease=0.0, min_impurity_split=None,\n",
       "                       min_samples_leaf=1, min_samples_split=2,\n",
       "                       min_weight_fraction_leaf=0.0, presort=False,\n",
       "                       random_state=None, splitter='best')"
      ]
     },
     "execution_count": 20,
     "metadata": {},
     "output_type": "execute_result"
    }
   ],
   "source": [
    "# Training the default decision tree model \n",
    "dt = DecisionTreeClassifier()\n",
    "dt.fit(trans_xtrain, ytrain)"
   ]
  },
  {
   "cell_type": "code",
   "execution_count": 21,
   "metadata": {},
   "outputs": [
    {
     "name": "stdout",
     "output_type": "stream",
     "text": [
      "Training Accuracy Score: 0.9953986869423713\n",
      "Testing Accuracy Score: 0.5865653901678816\n"
     ]
    }
   ],
   "source": [
    "# Accuracy scores\n",
    "print(f\"Training Accuracy Score: {accuracy_score(ytrain, dt.predict(trans_xtrain))}\")\n",
    "print(f\"Testing Accuracy Score: {accuracy_score(ytest, dt.predict(trans_xtest))}\")"
   ]
  },
  {
   "cell_type": "code",
   "execution_count": 22,
   "metadata": {},
   "outputs": [],
   "source": [
    "from sklearn.metrics import confusion_matrix, classification_report"
   ]
  },
  {
   "cell_type": "code",
   "execution_count": 23,
   "metadata": {},
   "outputs": [
    {
     "name": "stdout",
     "output_type": "stream",
     "text": [
      "              precision    recall  f1-score   support\n",
      "\n",
      "           0       1.00      1.00      1.00     75918\n",
      "           1       1.00      1.00      1.00     90583\n",
      "           2       0.99      1.00      0.99     86805\n",
      "           3       0.99      1.00      1.00     45062\n",
      "           4       1.00      1.00      1.00     70263\n",
      "           5       0.99      0.99      0.99    124021\n",
      "           6       1.00      0.99      1.00     76828\n",
      "           7       1.00      0.99      1.00     50547\n",
      "           8       1.00      0.99      0.99     66269\n",
      "           9       1.00      0.99      0.99     97828\n",
      "\n",
      "    accuracy                           1.00    784124\n",
      "   macro avg       1.00      1.00      1.00    784124\n",
      "weighted avg       1.00      1.00      1.00    784124\n",
      "\n"
     ]
    }
   ],
   "source": [
    "# Training Classification Report\n",
    "print(classification_report(ytrain, dt.predict(trans_xtrain)))"
   ]
  },
  {
   "cell_type": "code",
   "execution_count": 24,
   "metadata": {},
   "outputs": [
    {
     "name": "stdout",
     "output_type": "stream",
     "text": [
      "              precision    recall  f1-score   support\n",
      "\n",
      "           0       0.73      0.71      0.72     19055\n",
      "           1       0.99      0.99      0.99     22590\n",
      "           2       0.50      0.50      0.50     21825\n",
      "           3       0.48      0.48      0.48     11251\n",
      "           4       0.54      0.54      0.54     17699\n",
      "           5       0.47      0.47      0.47     31027\n",
      "           6       0.46      0.46      0.46     19270\n",
      "           7       0.54      0.55      0.55     12565\n",
      "           8       0.65      0.64      0.65     16495\n",
      "           9       0.49      0.50      0.49     24254\n",
      "\n",
      "    accuracy                           0.59    196031\n",
      "   macro avg       0.59      0.59      0.59    196031\n",
      "weighted avg       0.59      0.59      0.59    196031\n",
      "\n"
     ]
    }
   ],
   "source": [
    "# Testing Classification Report\n",
    "print(classification_report(ytest, dt.predict(trans_xtest)))"
   ]
  },
  {
   "cell_type": "code",
   "execution_count": 25,
   "metadata": {},
   "outputs": [],
   "source": [
    "from matplotlib.legend_handler import HandlerLine2D"
   ]
  },
  {
   "cell_type": "markdown",
   "metadata": {},
   "source": [
    "## Hpyerparameter tuning manually for DecisionTree"
   ]
  },
  {
   "cell_type": "markdown",
   "metadata": {},
   "source": [
    "### max_depth"
   ]
  },
  {
   "cell_type": "code",
   "execution_count": 26,
   "metadata": {},
   "outputs": [
    {
     "data": {
      "image/png": "[encoded data removed]",
      "text/plain": [
       "<Figure size 432x288 with 1 Axes>"
      ]
     },
     "metadata": {
      "needs_background": "light"
     },
     "output_type": "display_data"
    }
   ],
   "source": [
    "max_depths = np.linspace(1, 32, 32, endpoint=True)\n",
    "train_results = []\n",
    "test_results = []\n",
    "for max_depth in max_depths:\n",
    "    dt = DecisionTreeClassifier(max_depth=max_depth)\n",
    "    dt.fit(trans_xtrain, ytrain)\n",
    "    \n",
    "    acc_train = accuracy_score(ytrain, dt.predict(trans_xtrain))\n",
    "    train_results.append(acc_train)\n",
    "    \n",
    "    acc_test = accuracy_score(ytest, dt.predict(trans_xtest))\n",
    "    test_results.append(acc_test)\n",
    "    \n",
    "line1, = plt.plot(max_depths, train_results, \"b\", label= \"Train accuracy\")\n",
    "line2, = plt.plot(max_depths, test_results, \"r\", label= \"Test accuracy\")\n",
    "plt.legend(handler_map={line1: HandlerLine2D(numpoints=2)})\n",
    "plt.ylabel(\"accuracy score\")\n",
    "plt.xlabel(\"Tree depth\")\n",
    "plt.show()"
   ]
  },
  {
   "cell_type": "markdown",
   "metadata": {},
   "source": [
    "### max_features"
   ]
  },
  {
   "cell_type": "code",
   "execution_count": 27,
   "metadata": {},
   "outputs": [
    {
     "data": {
      "image/png": "[encoded data removed]",
      "text/plain": [
       "<Figure size 432x288 with 1 Axes>"
      ]
     },
     "metadata": {
      "needs_background": "light"
     },
     "output_type": "display_data"
    }
   ],
   "source": [
    "max_features = list(range(1,trans_xtrain.shape[1]))\n",
    "train_results = []\n",
    "test_results = []\n",
    "for max_feature in max_features:\n",
    "    dt = DecisionTreeClassifier(max_features=max_feature)\n",
    "    dt.fit(trans_xtrain, ytrain)\n",
    "\n",
    "    acc_train = accuracy_score(ytrain, dt.predict(trans_xtrain))\n",
    "    train_results.append(acc_train)\n",
    "    \n",
    "    acc_test = accuracy_score(ytest, dt.predict(trans_xtest))\n",
    "    test_results.append(acc_test)\n",
    "    \n",
    "line1, = plt.plot(max_features, train_results, \"b\", label= \"Train accuracy\")\n",
    "line2, = plt.plot(max_features, test_results, \"r\", label= \"Test accuracy\")\n",
    "plt.legend(handler_map={line1: HandlerLine2D(numpoints=2)})\n",
    "plt.ylabel(\"accuracy score\")\n",
    "plt.xlabel(\"max features\")\n",
    "plt.show()    \n",
    "    "
   ]
  },
  {
   "cell_type": "code",
   "execution_count": 28,
   "metadata": {},
   "outputs": [
    {
     "data": {
      "text/plain": [
       "DecisionTreeClassifier(class_weight=None, criterion='gini', max_depth=20,\n",
       "                       max_features=17, max_leaf_nodes=None,\n",
       "                       min_impurity_decrease=0.0, min_impurity_split=None,\n",
       "                       min_samples_leaf=1, min_samples_split=2,\n",
       "                       min_weight_fraction_leaf=0.0, presort=False,\n",
       "                       random_state=None, splitter='best')"
      ]
     },
     "execution_count": 28,
     "metadata": {},
     "output_type": "execute_result"
    }
   ],
   "source": [
    "# Training the decision tree model with max_depth and max_feature parameters\n",
    "dt = DecisionTreeClassifier(max_depth=20, max_features=17)\n",
    "dt.fit(trans_xtrain, ytrain)"
   ]
  },
  {
   "cell_type": "code",
   "execution_count": 29,
   "metadata": {},
   "outputs": [
    {
     "name": "stdout",
     "output_type": "stream",
     "text": [
      "Training Accuracy Score: 0.7270635766791987\n",
      "Testing Accuracy Score: 0.6166881768699849\n"
     ]
    }
   ],
   "source": [
    "# Accuracy scores\n",
    "print(f\"Training Accuracy Score: {accuracy_score(ytrain, dt.predict(trans_xtrain))}\")\n",
    "print(f\"Testing Accuracy Score: {accuracy_score(ytest, dt.predict(trans_xtest))}\")"
   ]
  },
  {
   "cell_type": "markdown",
   "metadata": {},
   "source": [
    "## Using all the data (~4mil samples) for models training and testing"
   ]
  },
  {
   "cell_type": "code",
   "execution_count": 30,
   "metadata": {},
   "outputs": [
    {
     "name": "stdout",
     "output_type": "stream",
     "text": [
      "<class 'pandas.core.frame.DataFrame'>\n",
      "RangeIndex: 3920622 entries, 0 to 3920621\n",
      "Data columns (total 23 columns):\n",
      "date_time                    object\n",
      "site_name                    int64\n",
      "posa_continent               int64\n",
      "user_location_country        int64\n",
      "user_location_region         int64\n",
      "user_location_city           int64\n",
      "orig_destination_distance    float64\n",
      "user_id                      int64\n",
      "is_mobile                    int64\n",
      "is_package                   int64\n",
      "channel                      int64\n",
      "srch_ci                      object\n",
      "srch_co                      object\n",
      "srch_adults_cnt              int64\n",
      "srch_children_cnt            int64\n",
      "srch_rm_cnt                  int64\n",
      "srch_destination_id          int64\n",
      "srch_destination_type_id     int64\n",
      "is_booking                   int64\n",
      "cnt                          int64\n",
      "hotel_continent              int64\n",
      "hotel_country                int64\n",
      "hotel_market                 int64\n",
      "dtypes: float64(1), int64(19), object(3)\n",
      "memory usage: 688.0+ MB\n"
     ]
    }
   ],
   "source": [
    "#reset the index\n",
    "sample_x = df_X.reset_index(drop=True)\n",
    "sample_y = df_y.reset_index(drop=True)\n",
    "sample_x.info()\n",
    "\n",
    "# feature engineering into datetime\n",
    "sample_x['date_time'] = pd.to_datetime(sample_x['date_time'], yearfirst=True)\n",
    "sample_x['srch_ci'] = pd.to_datetime(sample_x['srch_ci'], yearfirst=True, errors='coerce')\n",
    "sample_x['srch_co'] = pd.to_datetime(sample_x['srch_co'], yearfirst=True, errors='coerce')\n",
    "\n",
    "# timedelta for days in advance feature\n",
    "sample_x['advance'] = sample_x['srch_ci'] - sample_x['date_time']\n",
    "sample_x['advance'] = sample_x.advance.dt.days\n",
    "\n",
    "# duration of stays\n",
    "sample_x['duration'] = sample_x['srch_co'] - sample_x['srch_ci']\n",
    "sample_x['duration'] = sample_x.duration.dt.days\n",
    "\n",
    "new_x = sample_x.drop(columns=['user_id', 'site_name',\n",
    "                               'user_location_region',\n",
    "                               'date_time', 'srch_ci',\n",
    "                               'srch_co'])"
   ]
  },
  {
   "cell_type": "code",
   "execution_count": 31,
   "metadata": {},
   "outputs": [
    {
     "data": {
      "text/plain": [
       "((3136497, 19), (784125, 19))"
      ]
     },
     "execution_count": 31,
     "metadata": {},
     "output_type": "execute_result"
    }
   ],
   "source": [
    "# Train test split the 5% data\n",
    "xtrain, xtest, ytrain, ytest = train_test_split(new_x, sample_y, test_size=.2 ,random_state=42)\n",
    "xtrain.shape, xtest.shape"
   ]
  },
  {
   "cell_type": "code",
   "execution_count": 32,
   "metadata": {},
   "outputs": [
    {
     "data": {
      "text/plain": [
       "(3136497, 19)"
      ]
     },
     "execution_count": 32,
     "metadata": {},
     "output_type": "execute_result"
    }
   ],
   "source": [
    "# make the pipeline and transform the data\n",
    "pipeline = make_pipeline()\n",
    "trans_xtrain = pipeline.fit_transform(xtrain)\n",
    "trans_xtest = pipeline.fit_transform(xtest)\n",
    "trans_xtrain.shape # sanity check of datashape"
   ]
  },
  {
   "cell_type": "code",
   "execution_count": 33,
   "metadata": {},
   "outputs": [
    {
     "data": {
      "text/plain": [
       "DecisionTreeClassifier(class_weight=None, criterion='gini', max_depth=20,\n",
       "                       max_features=17, max_leaf_nodes=None,\n",
       "                       min_impurity_decrease=0.0, min_impurity_split=None,\n",
       "                       min_samples_leaf=1, min_samples_split=2,\n",
       "                       min_weight_fraction_leaf=0.0, presort=False,\n",
       "                       random_state=None, splitter='best')"
      ]
     },
     "execution_count": 33,
     "metadata": {},
     "output_type": "execute_result"
    }
   ],
   "source": [
    "# Training the decision tree model with max_depth, max_feature,  parameter\n",
    "dt = DecisionTreeClassifier(max_depth=20, max_features=17)\n",
    "dt.fit(trans_xtrain, ytrain)"
   ]
  },
  {
   "cell_type": "code",
   "execution_count": 34,
   "metadata": {},
   "outputs": [
    {
     "name": "stdout",
     "output_type": "stream",
     "text": [
      "Training Accuracy Score: 0.69\n",
      "Testing Accuracy Score: 0.65\n"
     ]
    }
   ],
   "source": [
    "# accuracy\n",
    "print(f\"Training Accuracy Score: {round(accuracy_score(ytrain, dt.predict(trans_xtrain)), 2)}\")\n",
    "print(f\"Testing Accuracy Score: {round(accuracy_score(ytest, dt.predict(trans_xtest)), 2)}\")"
   ]
  },
  {
   "cell_type": "code",
   "execution_count": 35,
   "metadata": {},
   "outputs": [
    {
     "name": "stdout",
     "output_type": "stream",
     "text": [
      "Training weighted-f1-Score: 0.68\n",
      "Testing weighted-f1-Score: 0.64\n"
     ]
    }
   ],
   "source": [
    "# F1-scores\n",
    "print(f\"Training weighted-f1-Score: {round(f1_score(ytrain, dt.predict(trans_xtrain), average='weighted'), 2)}\")\n",
    "print(f\"Testing weighted-f1-Score: {round(f1_score(ytest, dt.predict(trans_xtest), average='weighted'), 2)}\")"
   ]
  },
  {
   "cell_type": "code",
   "execution_count": 36,
   "metadata": {},
   "outputs": [
    {
     "name": "stdout",
     "output_type": "stream",
     "text": [
      "Training Precision Score: 0.6877228759312799\n",
      "Testing Precision Score: 0.6473328601812063\n"
     ]
    }
   ],
   "source": [
    "# precision \n",
    "print(f\"Training Precision Score: {precision_score(ytrain, dt.predict(trans_xtrain), average='weighted')}\")\n",
    "print(f\"Testing Precision Score: {precision_score(ytest, dt.predict(trans_xtest), average='weighted')}\")"
   ]
  },
  {
   "cell_type": "markdown",
   "metadata": {},
   "source": [
    "## Piplelines for LR and KNN"
   ]
  },
  {
   "cell_type": "code",
   "execution_count": 37,
   "metadata": {},
   "outputs": [],
   "source": [
    "def make_pipelines():\n",
    "    \"\"\"Create a pipeline for each of the following algorithms:\n",
    "    1. Logistic Regression\n",
    "    2. k-nearest neighbors (KNN) \n",
    "    3. Naive Bayes (Guassian)\n",
    "    4. Support Vector Machines (SVM)\n",
    "    5. Random Forest™ \n",
    "    \n",
    "    If appropriate, apply StandardScaler before the algorithm.   \n",
    "    Use default hyperparameters.\n",
    "    If an algorithm takes random_state then random_state=42 \n",
    "    \n",
    "    Return a list of all the pipelines.\n",
    "    \"\"\" \n",
    "    pipe_log = Pipeline([('clf', LogisticRegression(multi_class='multinomial', solver='lbfgs' ))])\n",
    "    pipe_knn = Pipeline([('clf', KNeighborsClassifier())])\n",
    "    \n",
    "\n",
    "    pipelines = [pipe_log, pipe_knn]\n",
    "    \n",
    "    return pipelines"
   ]
  },
  {
   "cell_type": "code",
   "execution_count": 38,
   "metadata": {},
   "outputs": [
    {
     "data": {
      "text/plain": [
       "[Pipeline(memory=None,\n",
       "          steps=[('clf',\n",
       "                  LogisticRegression(C=1.0, class_weight=None, dual=False,\n",
       "                                     fit_intercept=True, intercept_scaling=1,\n",
       "                                     l1_ratio=None, max_iter=100,\n",
       "                                     multi_class='multinomial', n_jobs=None,\n",
       "                                     penalty='l2', random_state=None,\n",
       "                                     solver='lbfgs', tol=0.0001, verbose=0,\n",
       "                                     warm_start=False))],\n",
       "          verbose=False), Pipeline(memory=None,\n",
       "          steps=[('clf',\n",
       "                  KNeighborsClassifier(algorithm='auto', leaf_size=30,\n",
       "                                       metric='minkowski', metric_params=None,\n",
       "                                       n_jobs=None, n_neighbors=5, p=2,\n",
       "                                       weights='uniform'))],\n",
       "          verbose=False)]"
      ]
     },
     "execution_count": 38,
     "metadata": {},
     "output_type": "execute_result"
    }
   ],
   "source": [
    "pipelines = make_pipelines(); pipelines"
   ]
  },
  {
   "cell_type": "code",
   "execution_count": 41,
   "metadata": {},
   "outputs": [],
   "source": [
    "#precision score\n",
    "def sort_models(pipelines, X_data, y_data, metric=accuracy_score, average=\"weighted\"):\n",
    "#     scores_sorted = {}\n",
    "\n",
    "    score = []\n",
    "    \n",
    "    for pipe in pipelines:\n",
    "        name = pipe.steps[-1][1].__class__.__name__.split('.')[-1]\n",
    "        pipe.fit(X_data, y_data)\n",
    "        y_train_pred = pipe.predict(X_data)\n",
    "        accuracy = round(metric(y_data, y_train_pred, average=average), 2)\n",
    "        score.append((name, accuracy))\n",
    "\n",
    "    for model in score:\n",
    "        print(f\"test socre with {model[0]} is {model[1]}\")\n",
    "        \n",
    "    return score"
   ]
  },
  {
   "cell_type": "code",
   "execution_count": 42,
   "metadata": {},
   "outputs": [
    {
     "name": "stdout",
     "output_type": "stream",
     "text": [
      "test socre with LogisticRegression is 0.13\n",
      "test socre with KNeighborsClassifier is 0.62\n"
     ]
    }
   ],
   "source": [
    "sort_models(pipelines, trans_xtest, ytest, metric=precision_score)"
   ]
  },
  {
   "cell_type": "code",
   "execution_count": 44,
   "metadata": {},
   "outputs": [],
   "source": [
    "#accuracy score\n",
    "def sort_models(pipelines, X_data, y_data, metric=accuracy_score):\n",
    "#     scores_sorted = {}\n",
    "\n",
    "    score = []\n",
    "    \n",
    "    for pipe in pipelines:\n",
    "        name = pipe.steps[-1][1].__class__.__name__.split('.')[-1]\n",
    "        pipe.fit(X_data, y_data)\n",
    "        y_train_pred = pipe.predict(X_data)\n",
    "        accuracy = round(metric(y_data, y_train_pred), 2)\n",
    "        score.append((name, accuracy))\n",
    "\n",
    "    for model in score:\n",
    "        print(f\"test socre with {model[0]} is {model[1]}\")\n",
    "        \n",
    "    return score"
   ]
  },
  {
   "cell_type": "code",
   "execution_count": 45,
   "metadata": {},
   "outputs": [
    {
     "name": "stdout",
     "output_type": "stream",
     "text": [
      "test socre with LogisticRegression is 0.19\n",
      "test socre with KNeighborsClassifier is 0.62\n"
     ]
    },
    {
     "data": {
      "text/plain": [
       "[('LogisticRegression', 0.19), ('KNeighborsClassifier', 0.62)]"
      ]
     },
     "execution_count": 45,
     "metadata": {},
     "output_type": "execute_result"
    }
   ],
   "source": [
    "sort_models(pipelines, trans_xtest, ytest, metric=accuracy_score)"
   ]
  },
  {
   "cell_type": "code",
   "execution_count": null,
   "metadata": {},
   "outputs": [],
   "source": [
    "sort_models(pipelines, trans_xtest, ytest, metric=f1_score)"
   ]
  }
 ],
 "metadata": {
  "kernelspec": {
   "display_name": "Python 3",
   "language": "python",
   "name": "python3"
  },
  "language_info": {
   "codemirror_mode": {
    "name": "ipython",
    "version": 3
   },
   "file_extension": ".py",
   "mimetype": "text/x-python",
   "name": "python",
   "nbconvert_exporter": "python",
   "pygments_lexer": "ipython3",
   "version": "3.7.3"
  }
 },
 "nbformat": 4,
 "nbformat_minor": 2
}
