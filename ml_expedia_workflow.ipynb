{
 "cells": [
  {
   "cell_type": "code",
   "execution_count": 1,
   "metadata": {
    "ExecuteTime": {
     "end_time": "2019-11-24T08:46:37.168448Z",
     "start_time": "2019-11-24T08:46:27.427524Z"
    }
   },
   "outputs": [],
   "source": [
    "# import the necessary libraries\n",
    "from sklearn.model_selection import RandomizedSearchCV\n",
    "from sklearn.model_selection import StratifiedShuffleSplit\n",
    "from sklearn.ensemble import RandomForestClassifier\n",
    "from sklearn.model_selection import train_test_split\n",
    "from sklearn.pipeline import Pipeline\n",
    "from sklearn.compose import ColumnTransformer\n",
    "from sklearn.impute import SimpleImputer\n",
    "from tqdm import tqdm\n",
    "import numpy as np\n",
    "import pandas as pd\n",
    "pd.options.display.max_columns = None"
   ]
  },
  {
   "cell_type": "code",
   "execution_count": 5,
   "metadata": {
    "ExecuteTime": {
     "end_time": "2019-11-22T22:32:12.110209Z",
     "start_time": "2019-11-22T22:28:14.187961Z"
    }
   },
   "outputs": [],
   "source": [
    "#reading in the file into pandas dataframe\n",
    "df = pd.read_csv('data/train.csv')"
   ]
  },
  {
   "cell_type": "code",
   "execution_count": 6,
   "metadata": {
    "ExecuteTime": {
     "end_time": "2019-11-22T22:32:29.636452Z",
     "start_time": "2019-11-22T22:32:29.194741Z"
    }
   },
   "outputs": [
    {
     "data": {
      "text/html": [
       "<div>\n",
       "<style scoped>\n",
       "    .dataframe tbody tr th:only-of-type {\n",
       "        vertical-align: middle;\n",
       "    }\n",
       "\n",
       "    .dataframe tbody tr th {\n",
       "        vertical-align: top;\n",
       "    }\n",
       "\n",
       "    .dataframe thead th {\n",
       "        text-align: right;\n",
       "    }\n",
       "</style>\n",
       "<table border=\"1\" class=\"dataframe\">\n",
       "  <thead>\n",
       "    <tr style=\"text-align: right;\">\n",
       "      <th></th>\n",
       "      <th>date_time</th>\n",
       "      <th>site_name</th>\n",
       "      <th>posa_continent</th>\n",
       "      <th>user_location_country</th>\n",
       "      <th>user_location_region</th>\n",
       "      <th>user_location_city</th>\n",
       "      <th>orig_destination_distance</th>\n",
       "      <th>user_id</th>\n",
       "      <th>is_mobile</th>\n",
       "      <th>is_package</th>\n",
       "      <th>...</th>\n",
       "      <th>srch_children_cnt</th>\n",
       "      <th>srch_rm_cnt</th>\n",
       "      <th>srch_destination_id</th>\n",
       "      <th>srch_destination_type_id</th>\n",
       "      <th>is_booking</th>\n",
       "      <th>cnt</th>\n",
       "      <th>hotel_continent</th>\n",
       "      <th>hotel_country</th>\n",
       "      <th>hotel_market</th>\n",
       "      <th>hotel_cluster</th>\n",
       "    </tr>\n",
       "  </thead>\n",
       "  <tbody>\n",
       "    <tr>\n",
       "      <td>0</td>\n",
       "      <td>2014-08-11 07:46:59</td>\n",
       "      <td>2</td>\n",
       "      <td>3</td>\n",
       "      <td>66</td>\n",
       "      <td>348</td>\n",
       "      <td>48862</td>\n",
       "      <td>2234.2641</td>\n",
       "      <td>12</td>\n",
       "      <td>0</td>\n",
       "      <td>1</td>\n",
       "      <td>...</td>\n",
       "      <td>0</td>\n",
       "      <td>1</td>\n",
       "      <td>8250</td>\n",
       "      <td>1</td>\n",
       "      <td>0</td>\n",
       "      <td>3</td>\n",
       "      <td>2</td>\n",
       "      <td>50</td>\n",
       "      <td>628</td>\n",
       "      <td>1</td>\n",
       "    </tr>\n",
       "    <tr>\n",
       "      <td>1</td>\n",
       "      <td>2014-08-11 08:22:12</td>\n",
       "      <td>2</td>\n",
       "      <td>3</td>\n",
       "      <td>66</td>\n",
       "      <td>348</td>\n",
       "      <td>48862</td>\n",
       "      <td>2234.2641</td>\n",
       "      <td>12</td>\n",
       "      <td>0</td>\n",
       "      <td>1</td>\n",
       "      <td>...</td>\n",
       "      <td>0</td>\n",
       "      <td>1</td>\n",
       "      <td>8250</td>\n",
       "      <td>1</td>\n",
       "      <td>1</td>\n",
       "      <td>1</td>\n",
       "      <td>2</td>\n",
       "      <td>50</td>\n",
       "      <td>628</td>\n",
       "      <td>1</td>\n",
       "    </tr>\n",
       "    <tr>\n",
       "      <td>2</td>\n",
       "      <td>2014-08-11 08:24:33</td>\n",
       "      <td>2</td>\n",
       "      <td>3</td>\n",
       "      <td>66</td>\n",
       "      <td>348</td>\n",
       "      <td>48862</td>\n",
       "      <td>2234.2641</td>\n",
       "      <td>12</td>\n",
       "      <td>0</td>\n",
       "      <td>0</td>\n",
       "      <td>...</td>\n",
       "      <td>0</td>\n",
       "      <td>1</td>\n",
       "      <td>8250</td>\n",
       "      <td>1</td>\n",
       "      <td>0</td>\n",
       "      <td>1</td>\n",
       "      <td>2</td>\n",
       "      <td>50</td>\n",
       "      <td>628</td>\n",
       "      <td>1</td>\n",
       "    </tr>\n",
       "    <tr>\n",
       "      <td>3</td>\n",
       "      <td>2014-08-09 18:05:16</td>\n",
       "      <td>2</td>\n",
       "      <td>3</td>\n",
       "      <td>66</td>\n",
       "      <td>442</td>\n",
       "      <td>35390</td>\n",
       "      <td>913.1932</td>\n",
       "      <td>93</td>\n",
       "      <td>0</td>\n",
       "      <td>0</td>\n",
       "      <td>...</td>\n",
       "      <td>0</td>\n",
       "      <td>1</td>\n",
       "      <td>14984</td>\n",
       "      <td>1</td>\n",
       "      <td>0</td>\n",
       "      <td>1</td>\n",
       "      <td>2</td>\n",
       "      <td>50</td>\n",
       "      <td>1457</td>\n",
       "      <td>80</td>\n",
       "    </tr>\n",
       "    <tr>\n",
       "      <td>4</td>\n",
       "      <td>2014-08-09 18:08:18</td>\n",
       "      <td>2</td>\n",
       "      <td>3</td>\n",
       "      <td>66</td>\n",
       "      <td>442</td>\n",
       "      <td>35390</td>\n",
       "      <td>913.6259</td>\n",
       "      <td>93</td>\n",
       "      <td>0</td>\n",
       "      <td>0</td>\n",
       "      <td>...</td>\n",
       "      <td>0</td>\n",
       "      <td>1</td>\n",
       "      <td>14984</td>\n",
       "      <td>1</td>\n",
       "      <td>0</td>\n",
       "      <td>1</td>\n",
       "      <td>2</td>\n",
       "      <td>50</td>\n",
       "      <td>1457</td>\n",
       "      <td>21</td>\n",
       "    </tr>\n",
       "  </tbody>\n",
       "</table>\n",
       "<p>5 rows × 24 columns</p>\n",
       "</div>"
      ],
      "text/plain": [
       "             date_time  site_name  posa_continent  user_location_country  \\\n",
       "0  2014-08-11 07:46:59          2               3                     66   \n",
       "1  2014-08-11 08:22:12          2               3                     66   \n",
       "2  2014-08-11 08:24:33          2               3                     66   \n",
       "3  2014-08-09 18:05:16          2               3                     66   \n",
       "4  2014-08-09 18:08:18          2               3                     66   \n",
       "\n",
       "   user_location_region  user_location_city  orig_destination_distance  \\\n",
       "0                   348               48862                  2234.2641   \n",
       "1                   348               48862                  2234.2641   \n",
       "2                   348               48862                  2234.2641   \n",
       "3                   442               35390                   913.1932   \n",
       "4                   442               35390                   913.6259   \n",
       "\n",
       "   user_id  is_mobile  is_package  ...  srch_children_cnt srch_rm_cnt  \\\n",
       "0       12          0           1  ...                  0           1   \n",
       "1       12          0           1  ...                  0           1   \n",
       "2       12          0           0  ...                  0           1   \n",
       "3       93          0           0  ...                  0           1   \n",
       "4       93          0           0  ...                  0           1   \n",
       "\n",
       "  srch_destination_id  srch_destination_type_id  is_booking  cnt  \\\n",
       "0                8250                         1           0    3   \n",
       "1                8250                         1           1    1   \n",
       "2                8250                         1           0    1   \n",
       "3               14984                         1           0    1   \n",
       "4               14984                         1           0    1   \n",
       "\n",
       "   hotel_continent  hotel_country  hotel_market  hotel_cluster  \n",
       "0                2             50           628              1  \n",
       "1                2             50           628              1  \n",
       "2                2             50           628              1  \n",
       "3                2             50          1457             80  \n",
       "4                2             50          1457             21  \n",
       "\n",
       "[5 rows x 24 columns]"
      ]
     },
     "execution_count": 6,
     "metadata": {},
     "output_type": "execute_result"
    }
   ],
   "source": [
    "df.head()"
   ]
  },
  {
   "cell_type": "code",
   "execution_count": 10,
   "metadata": {
    "ExecuteTime": {
     "end_time": "2019-11-22T22:33:18.109561Z",
     "start_time": "2019-11-22T22:33:17.285516Z"
    }
   },
   "outputs": [
    {
     "data": {
      "text/plain": [
       "100"
      ]
     },
     "execution_count": 10,
     "metadata": {},
     "output_type": "execute_result"
    }
   ],
   "source": [
    "# total of 100 hotel clusters\n",
    "df.hotel_cluster.nunique()"
   ]
  },
  {
   "cell_type": "code",
   "execution_count": 39,
   "metadata": {
    "ExecuteTime": {
     "end_time": "2019-11-22T22:46:40.599210Z",
     "start_time": "2019-11-22T22:45:54.127242Z"
    }
   },
   "outputs": [],
   "source": [
    "# separating the target variable and the predictor variables\n",
    "df_X = df.drop(columns=['hotel_cluster'])\n",
    "df_y = df['hotel_cluster']"
   ]
  },
  {
   "cell_type": "code",
   "execution_count": 45,
   "metadata": {
    "ExecuteTime": {
     "end_time": "2019-11-22T23:02:57.919076Z",
     "start_time": "2019-11-22T23:02:57.901873Z"
    }
   },
   "outputs": [],
   "source": [
    "sss = StratifiedShuffleSplit(n_splits=1, train_size=0.05, random_state=0)"
   ]
  },
  {
   "cell_type": "code",
   "execution_count": 52,
   "metadata": {
    "ExecuteTime": {
     "end_time": "2019-11-22T23:14:31.951874Z",
     "start_time": "2019-11-22T23:09:56.887209Z"
    }
   },
   "outputs": [],
   "source": [
    "# using stratified shuffle split to get 5% of the original data while keeping the distribution\n",
    "sss = StratifiedShuffleSplit(n_splits=1, train_size=0.05, random_state=0)\n",
    "for train_idx, test_idx in sss.split(df_X, df_y):\n",
    "    X_train, X_test = df_X.iloc[train_idx], df_X.iloc[test_idx]\n",
    "    y_train, y_test = df_y.iloc[train_idx], df_y.iloc[test_idx]\n",
    "    break"
   ]
  },
  {
   "cell_type": "code",
   "execution_count": 53,
   "metadata": {
    "ExecuteTime": {
     "end_time": "2019-11-22T23:15:00.261999Z",
     "start_time": "2019-11-22T23:15:00.101234Z"
    }
   },
   "outputs": [
    {
     "data": {
      "text/plain": [
       "(1883514, 23)"
      ]
     },
     "execution_count": 53,
     "metadata": {},
     "output_type": "execute_result"
    }
   ],
   "source": [
    "# 5% of the original is about 1.8 mil samples\n",
    "X_train.shape"
   ]
  },
  {
   "cell_type": "code",
   "execution_count": 183,
   "metadata": {
    "ExecuteTime": {
     "end_time": "2019-11-24T04:18:26.115653Z",
     "start_time": "2019-11-24T04:18:17.269965Z"
    },
    "scrolled": true
   },
   "outputs": [
    {
     "name": "stdout",
     "output_type": "stream",
     "text": [
      "0: 1.0084873274103618\n",
      "1: 1.2017431248188226\n",
      "2: 1.1534822677187428\n",
      "3: 0.5979249424214527\n",
      "4: 0.9339988978048478\n",
      "5: 1.6463907356143888\n",
      "6: 1.0204330841183022\n",
      "7: 0.6701304051894491\n",
      "8: 0.87883604794018\n",
      "9: 1.296300425693677\n",
      "10: 1.0744809966902291\n",
      "11: 0.9304948091705185\n",
      "12: 0.6875977561090599\n",
      "13: 0.8918967419408615\n",
      "14: 0.5104820033193276\n",
      "15: 0.8604661287359692\n",
      "16: 1.2685331778792193\n",
      "17: 0.9273623663004363\n",
      "18: 1.447507159490187\n",
      "19: 0.750989905039198\n",
      "20: 0.8091790132698775\n",
      "21: 1.4603023922306921\n",
      "22: 0.7703154847800441\n",
      "23: 0.6881817708814482\n",
      "24: 0.43567502020160187\n",
      "25: 1.408537446496283\n",
      "26: 1.0219727594273258\n",
      "27: 0.27884050768935087\n",
      "28: 1.3459416813466745\n",
      "29: 1.0843030633167579\n",
      "30: 1.2988488537913707\n",
      "31: 0.683775113962519\n",
      "32: 0.7705278537881853\n",
      "33: 1.0818077274710993\n",
      "34: 0.8272303789618766\n",
      "35: 0.36930970515748757\n",
      "36: 1.1319268133924145\n",
      "37: 1.3168471272313347\n",
      "38: 0.714727896899094\n",
      "39: 0.9111692294296724\n",
      "40: 1.1513585776373312\n",
      "41: 2.0513253418875568\n",
      "42: 1.4642843111333392\n",
      "43: 0.6731566635554607\n",
      "44: 0.7836416400409022\n",
      "45: 0.6408234820659682\n",
      "46: 1.4176693138463532\n",
      "47: 1.1635167033534128\n",
      "48: 2.0016840862345595\n",
      "49: 0.6374255779357095\n",
      "50: 1.300494713604465\n",
      "51: 1.0009482276213504\n",
      "52: 0.8870653470056502\n",
      "53: 0.3578948709698999\n",
      "54: 0.6656175637664493\n",
      "55: 1.1282634480019793\n",
      "56: 1.0476163171603716\n",
      "57: 0.8297257148075353\n",
      "58: 1.282868085928748\n",
      "59: 1.5139255667863365\n",
      "60: 0.578493178176536\n",
      "61: 1.0560048929819477\n",
      "62: 1.377213017795461\n",
      "63: 0.7940477214398193\n",
      "64: 1.870811684967566\n",
      "65: 1.7811388712799587\n",
      "66: 0.726036546582611\n",
      "67: 0.679421549295625\n",
      "68: 1.3373938287689924\n",
      "69: 0.9073996795351668\n",
      "70: 1.4483035432707163\n",
      "71: 0.5735555987372538\n",
      "72: 1.214379080803222\n",
      "73: 0.8913127271684733\n",
      "74: 0.1283770654213348\n",
      "75: 0.4385950940635429\n",
      "76: 0.8488920177922755\n",
      "77: 1.0758613952431466\n",
      "78: 0.9964353861983506\n",
      "79: 0.7618738167064327\n",
      "80: 0.5845987871605945\n",
      "81: 0.9301762556583067\n",
      "82: 1.3372876442649217\n",
      "83: 1.4179347751065297\n",
      "84: 0.7386725025670103\n",
      "85: 0.9748268396199868\n",
      "86: 0.554973310524902\n",
      "87: 0.691261121499495\n",
      "88: 0.2861141462181858\n",
      "89: 0.6465574452857796\n",
      "90: 1.070658354543688\n",
      "91: 2.770672264713721\n",
      "92: 0.648628043115156\n",
      "93: 0.5688834805581482\n",
      "94: 0.775199971967291\n",
      "95: 1.351888013574627\n",
      "96: 0.982100478148822\n",
      "97: 1.2727274657900074\n",
      "98: 1.5640446527076517\n",
      "99: 1.1809840542730239\n"
     ]
    }
   ],
   "source": [
    "# Checking the distributions of eah target label\n",
    "for idx in range(0, 100):\n",
    "    print(f\"{idx}: {100*(X_train.loc[(X_train['y'] == idx)].shape[0]/len(X_train))}\")"
   ]
  },
  {
   "cell_type": "markdown",
   "metadata": {},
   "source": [
    "### Missing Values"
   ]
  },
  {
   "cell_type": "code",
   "execution_count": 243,
   "metadata": {
    "ExecuteTime": {
     "end_time": "2019-11-24T05:33:10.138459Z",
     "start_time": "2019-11-24T05:33:10.072788Z"
    }
   },
   "outputs": [
    {
     "data": {
      "text/plain": [
       "(1883514, 25)"
      ]
     },
     "execution_count": 243,
     "metadata": {},
     "output_type": "execute_result"
    }
   ],
   "source": [
    "X_train.shape"
   ]
  },
  {
   "cell_type": "code",
   "execution_count": 244,
   "metadata": {
    "ExecuteTime": {
     "end_time": "2019-11-24T05:33:18.261066Z",
     "start_time": "2019-11-24T05:33:13.944022Z"
    }
   },
   "outputs": [
    {
     "name": "stderr",
     "output_type": "stream",
     "text": [
      "  4%|▍         | 1/25 [00:00<00:06,  3.84it/s]"
     ]
    },
    {
     "name": "stdout",
     "output_type": "stream",
     "text": [
      "Column0 has 0 NaN values\n",
      "Column1 has 0 NaN values\n",
      "Column2 has 0 NaN values\n",
      "Column3 has 0 NaN values\n",
      "Column4 has 0 NaN values\n",
      "Column5 has 0 NaN values\n"
     ]
    },
    {
     "name": "stderr",
     "output_type": "stream",
     "text": [
      "\r",
      " 28%|██▊       | 7/25 [00:03<00:06,  3.00it/s]"
     ]
    },
    {
     "name": "stdout",
     "output_type": "stream",
     "text": [
      "Column6 has 675772 NaN values\n",
      "Column7 has 0 NaN values\n",
      "Column8 has 0 NaN values\n",
      "Column9 has 0 NaN values\n",
      "Column10 has 0 NaN values\n"
     ]
    },
    {
     "name": "stderr",
     "output_type": "stream",
     "text": [
      "\r",
      " 48%|████▊     | 12/25 [00:03<00:03,  3.87it/s]"
     ]
    },
    {
     "name": "stdout",
     "output_type": "stream",
     "text": [
      "Column11 has 2398 NaN values\n"
     ]
    },
    {
     "name": "stderr",
     "output_type": "stream",
     "text": [
      "100%|██████████| 25/25 [00:04<00:00,  6.07it/s]"
     ]
    },
    {
     "name": "stdout",
     "output_type": "stream",
     "text": [
      "Column12 has 2398 NaN values\n",
      "Column13 has 0 NaN values\n",
      "Column14 has 0 NaN values\n",
      "Column15 has 0 NaN values\n",
      "Column16 has 0 NaN values\n",
      "Column17 has 0 NaN values\n",
      "Column18 has 0 NaN values\n",
      "Column19 has 0 NaN values\n",
      "Column20 has 0 NaN values\n",
      "Column21 has 0 NaN values\n",
      "Column22 has 0 NaN values\n",
      "Column23 has 0 NaN values\n",
      "Column24 has 0 NaN values\n"
     ]
    },
    {
     "name": "stderr",
     "output_type": "stream",
     "text": [
      "\n"
     ]
    }
   ],
   "source": [
    "# trying to determine which columns have missing values\n",
    "for idx in tqdm(range(X_train.shape[1])):\n",
    "    print(f\"Column{idx} has {X_train[X_train.iloc[:,idx].isna()].shape[0]} NaN values\")"
   ]
  },
  {
   "cell_type": "markdown",
   "metadata": {},
   "source": [
    "### Date time Feature Engineering"
   ]
  },
  {
   "cell_type": "code",
   "execution_count": 377,
   "metadata": {
    "ExecuteTime": {
     "end_time": "2019-11-24T07:41:11.574387Z",
     "start_time": "2019-11-24T07:41:07.587986Z"
    }
   },
   "outputs": [
    {
     "name": "stdout",
     "output_type": "stream",
     "text": [
      "<class 'pandas.core.frame.DataFrame'>\n",
      "RangeIndex: 1883514 entries, 0 to 1883513\n",
      "Data columns (total 25 columns):\n",
      "date_time                    datetime64[ns]\n",
      "site_name                    int64\n",
      "posa_continent               int64\n",
      "user_location_country        int64\n",
      "user_location_region         int64\n",
      "user_location_city           int64\n",
      "orig_destination_distance    float64\n",
      "user_id                      int64\n",
      "is_mobile                    int64\n",
      "is_package                   int64\n",
      "channel                      int64\n",
      "srch_ci                      object\n",
      "srch_co                      object\n",
      "srch_adults_cnt              int64\n",
      "srch_children_cnt            int64\n",
      "srch_rm_cnt                  int64\n",
      "srch_destination_id          int64\n",
      "srch_destination_type_id     int64\n",
      "is_booking                   int64\n",
      "cnt                          int64\n",
      "hotel_continent              int64\n",
      "hotel_country                int64\n",
      "hotel_market                 int64\n",
      "y                            int64\n",
      "year                         int64\n",
      "dtypes: datetime64[ns](1), float64(1), int64(21), object(2)\n",
      "memory usage: 359.3+ MB\n"
     ]
    }
   ],
   "source": [
    "#reset the index\n",
    "sample_x = X_train.reset_index(drop=True)\n",
    "sample_y = y_train.reset_index(drop=True)\n",
    "sample_x.info()"
   ]
  },
  {
   "cell_type": "code",
   "execution_count": 378,
   "metadata": {
    "ExecuteTime": {
     "end_time": "2019-11-24T07:41:17.292705Z",
     "start_time": "2019-11-24T07:41:17.252707Z"
    },
    "scrolled": true
   },
   "outputs": [
    {
     "data": {
      "text/html": [
       "<div>\n",
       "<style scoped>\n",
       "    .dataframe tbody tr th:only-of-type {\n",
       "        vertical-align: middle;\n",
       "    }\n",
       "\n",
       "    .dataframe tbody tr th {\n",
       "        vertical-align: top;\n",
       "    }\n",
       "\n",
       "    .dataframe thead th {\n",
       "        text-align: right;\n",
       "    }\n",
       "</style>\n",
       "<table border=\"1\" class=\"dataframe\">\n",
       "  <thead>\n",
       "    <tr style=\"text-align: right;\">\n",
       "      <th></th>\n",
       "      <th>date_time</th>\n",
       "      <th>site_name</th>\n",
       "      <th>posa_continent</th>\n",
       "      <th>user_location_country</th>\n",
       "      <th>user_location_region</th>\n",
       "      <th>user_location_city</th>\n",
       "      <th>orig_destination_distance</th>\n",
       "      <th>user_id</th>\n",
       "      <th>is_mobile</th>\n",
       "      <th>is_package</th>\n",
       "      <th>channel</th>\n",
       "      <th>srch_ci</th>\n",
       "      <th>srch_co</th>\n",
       "      <th>srch_adults_cnt</th>\n",
       "      <th>srch_children_cnt</th>\n",
       "      <th>srch_rm_cnt</th>\n",
       "      <th>srch_destination_id</th>\n",
       "      <th>srch_destination_type_id</th>\n",
       "      <th>is_booking</th>\n",
       "      <th>cnt</th>\n",
       "      <th>hotel_continent</th>\n",
       "      <th>hotel_country</th>\n",
       "      <th>hotel_market</th>\n",
       "      <th>y</th>\n",
       "      <th>year</th>\n",
       "    </tr>\n",
       "  </thead>\n",
       "  <tbody>\n",
       "    <tr>\n",
       "      <td>0</td>\n",
       "      <td>2014-07-12 15:20:18</td>\n",
       "      <td>2</td>\n",
       "      <td>3</td>\n",
       "      <td>66</td>\n",
       "      <td>348</td>\n",
       "      <td>15528</td>\n",
       "      <td>1222.8908</td>\n",
       "      <td>1076811</td>\n",
       "      <td>0</td>\n",
       "      <td>1</td>\n",
       "      <td>3</td>\n",
       "      <td>2014-08-07</td>\n",
       "      <td>2014-08-10</td>\n",
       "      <td>1</td>\n",
       "      <td>1</td>\n",
       "      <td>1</td>\n",
       "      <td>28514</td>\n",
       "      <td>6</td>\n",
       "      <td>0</td>\n",
       "      <td>1</td>\n",
       "      <td>2</td>\n",
       "      <td>50</td>\n",
       "      <td>1457</td>\n",
       "      <td>2</td>\n",
       "      <td>2014</td>\n",
       "    </tr>\n",
       "    <tr>\n",
       "      <td>1</td>\n",
       "      <td>2014-07-20 16:44:53</td>\n",
       "      <td>11</td>\n",
       "      <td>3</td>\n",
       "      <td>205</td>\n",
       "      <td>354</td>\n",
       "      <td>53713</td>\n",
       "      <td>357.8904</td>\n",
       "      <td>395445</td>\n",
       "      <td>0</td>\n",
       "      <td>0</td>\n",
       "      <td>9</td>\n",
       "      <td>2014-08-29</td>\n",
       "      <td>2014-09-03</td>\n",
       "      <td>1</td>\n",
       "      <td>0</td>\n",
       "      <td>1</td>\n",
       "      <td>8267</td>\n",
       "      <td>1</td>\n",
       "      <td>0</td>\n",
       "      <td>1</td>\n",
       "      <td>2</td>\n",
       "      <td>50</td>\n",
       "      <td>675</td>\n",
       "      <td>21</td>\n",
       "      <td>2014</td>\n",
       "    </tr>\n",
       "    <tr>\n",
       "      <td>2</td>\n",
       "      <td>2014-05-08 11:39:39</td>\n",
       "      <td>2</td>\n",
       "      <td>3</td>\n",
       "      <td>66</td>\n",
       "      <td>220</td>\n",
       "      <td>49675</td>\n",
       "      <td>8842.4676</td>\n",
       "      <td>1101058</td>\n",
       "      <td>0</td>\n",
       "      <td>0</td>\n",
       "      <td>9</td>\n",
       "      <td>2015-01-04</td>\n",
       "      <td>2015-01-07</td>\n",
       "      <td>1</td>\n",
       "      <td>0</td>\n",
       "      <td>1</td>\n",
       "      <td>8227</td>\n",
       "      <td>1</td>\n",
       "      <td>1</td>\n",
       "      <td>1</td>\n",
       "      <td>3</td>\n",
       "      <td>104</td>\n",
       "      <td>67</td>\n",
       "      <td>81</td>\n",
       "      <td>2014</td>\n",
       "    </tr>\n",
       "    <tr>\n",
       "      <td>3</td>\n",
       "      <td>2013-07-13 15:50:49</td>\n",
       "      <td>22</td>\n",
       "      <td>2</td>\n",
       "      <td>0</td>\n",
       "      <td>203</td>\n",
       "      <td>54226</td>\n",
       "      <td>NaN</td>\n",
       "      <td>689933</td>\n",
       "      <td>0</td>\n",
       "      <td>0</td>\n",
       "      <td>9</td>\n",
       "      <td>2013-07-27</td>\n",
       "      <td>2013-07-28</td>\n",
       "      <td>1</td>\n",
       "      <td>0</td>\n",
       "      <td>1</td>\n",
       "      <td>12401</td>\n",
       "      <td>5</td>\n",
       "      <td>0</td>\n",
       "      <td>5</td>\n",
       "      <td>3</td>\n",
       "      <td>104</td>\n",
       "      <td>67</td>\n",
       "      <td>57</td>\n",
       "      <td>2013</td>\n",
       "    </tr>\n",
       "    <tr>\n",
       "      <td>4</td>\n",
       "      <td>2013-12-29 15:40:15</td>\n",
       "      <td>13</td>\n",
       "      <td>1</td>\n",
       "      <td>46</td>\n",
       "      <td>171</td>\n",
       "      <td>54827</td>\n",
       "      <td>NaN</td>\n",
       "      <td>251860</td>\n",
       "      <td>0</td>\n",
       "      <td>0</td>\n",
       "      <td>1</td>\n",
       "      <td>2014-10-22</td>\n",
       "      <td>2014-10-26</td>\n",
       "      <td>2</td>\n",
       "      <td>0</td>\n",
       "      <td>1</td>\n",
       "      <td>22532</td>\n",
       "      <td>6</td>\n",
       "      <td>0</td>\n",
       "      <td>1</td>\n",
       "      <td>0</td>\n",
       "      <td>63</td>\n",
       "      <td>1023</td>\n",
       "      <td>9</td>\n",
       "      <td>2013</td>\n",
       "    </tr>\n",
       "  </tbody>\n",
       "</table>\n",
       "</div>"
      ],
      "text/plain": [
       "            date_time  site_name  posa_continent  user_location_country  \\\n",
       "0 2014-07-12 15:20:18          2               3                     66   \n",
       "1 2014-07-20 16:44:53         11               3                    205   \n",
       "2 2014-05-08 11:39:39          2               3                     66   \n",
       "3 2013-07-13 15:50:49         22               2                      0   \n",
       "4 2013-12-29 15:40:15         13               1                     46   \n",
       "\n",
       "   user_location_region  user_location_city  orig_destination_distance  \\\n",
       "0                   348               15528                  1222.8908   \n",
       "1                   354               53713                   357.8904   \n",
       "2                   220               49675                  8842.4676   \n",
       "3                   203               54226                        NaN   \n",
       "4                   171               54827                        NaN   \n",
       "\n",
       "   user_id  is_mobile  is_package  channel     srch_ci     srch_co  \\\n",
       "0  1076811          0           1        3  2014-08-07  2014-08-10   \n",
       "1   395445          0           0        9  2014-08-29  2014-09-03   \n",
       "2  1101058          0           0        9  2015-01-04  2015-01-07   \n",
       "3   689933          0           0        9  2013-07-27  2013-07-28   \n",
       "4   251860          0           0        1  2014-10-22  2014-10-26   \n",
       "\n",
       "   srch_adults_cnt  srch_children_cnt  srch_rm_cnt  srch_destination_id  \\\n",
       "0                1                  1            1                28514   \n",
       "1                1                  0            1                 8267   \n",
       "2                1                  0            1                 8227   \n",
       "3                1                  0            1                12401   \n",
       "4                2                  0            1                22532   \n",
       "\n",
       "   srch_destination_type_id  is_booking  cnt  hotel_continent  hotel_country  \\\n",
       "0                         6           0    1                2             50   \n",
       "1                         1           0    1                2             50   \n",
       "2                         1           1    1                3            104   \n",
       "3                         5           0    5                3            104   \n",
       "4                         6           0    1                0             63   \n",
       "\n",
       "   hotel_market   y  year  \n",
       "0          1457   2  2014  \n",
       "1           675  21  2014  \n",
       "2            67  81  2014  \n",
       "3            67  57  2013  \n",
       "4          1023   9  2013  "
      ]
     },
     "execution_count": 378,
     "metadata": {},
     "output_type": "execute_result"
    }
   ],
   "source": [
    "sample_x.head()"
   ]
  },
  {
   "cell_type": "code",
   "execution_count": 379,
   "metadata": {
    "ExecuteTime": {
     "end_time": "2019-11-24T07:41:45.268190Z",
     "start_time": "2019-11-24T07:41:42.136120Z"
    }
   },
   "outputs": [],
   "source": [
    "# How many samples are greater than 2017? seems to be only one sample that has the year of 2557 in this 5% sample\n",
    "#sample_x.loc[(sample_x['srch_ci'] > '2017')] # erroneous year\n",
    "sample_x.loc[558005, 'srch_ci'] = '2014-11-14'\n",
    "sample_x.loc[558005, 'srch_co'] = '2014-11-15'\n",
    "\n",
    "# feature engineering into datetime\n",
    "sample_x['date_time'] = pd.to_datetime(sample_x['date_time'], yearfirst=True)\n",
    "sample_x['srch_ci'] = pd.to_datetime(sample_x['srch_ci'], yearfirst=True, errors='coerce')\n",
    "sample_x['srch_co'] = pd.to_datetime(sample_x['srch_co'], yearfirst=True, errors='coerce')\n",
    "\n",
    "# timedelta for days in advance feature\n",
    "sample_x['advance'] = sample_x['srch_ci'] - sample_x['date_time']\n",
    "sample_x['advance'] = sample_x.advance.dt.days\n",
    "\n",
    "# duration of stays\n",
    "sample_x['duration'] = sample_x['srch_co'] - sample_x['srch_ci']\n",
    "sample_x['duration'] = sample_x.duration.dt.days"
   ]
  },
  {
   "cell_type": "code",
   "execution_count": 380,
   "metadata": {
    "ExecuteTime": {
     "end_time": "2019-11-24T07:41:56.098658Z",
     "start_time": "2019-11-24T07:41:56.060450Z"
    }
   },
   "outputs": [
    {
     "data": {
      "text/html": [
       "<div>\n",
       "<style scoped>\n",
       "    .dataframe tbody tr th:only-of-type {\n",
       "        vertical-align: middle;\n",
       "    }\n",
       "\n",
       "    .dataframe tbody tr th {\n",
       "        vertical-align: top;\n",
       "    }\n",
       "\n",
       "    .dataframe thead th {\n",
       "        text-align: right;\n",
       "    }\n",
       "</style>\n",
       "<table border=\"1\" class=\"dataframe\">\n",
       "  <thead>\n",
       "    <tr style=\"text-align: right;\">\n",
       "      <th></th>\n",
       "      <th>date_time</th>\n",
       "      <th>site_name</th>\n",
       "      <th>posa_continent</th>\n",
       "      <th>user_location_country</th>\n",
       "      <th>user_location_region</th>\n",
       "      <th>user_location_city</th>\n",
       "      <th>orig_destination_distance</th>\n",
       "      <th>user_id</th>\n",
       "      <th>is_mobile</th>\n",
       "      <th>is_package</th>\n",
       "      <th>channel</th>\n",
       "      <th>srch_ci</th>\n",
       "      <th>srch_co</th>\n",
       "      <th>srch_adults_cnt</th>\n",
       "      <th>srch_children_cnt</th>\n",
       "      <th>srch_rm_cnt</th>\n",
       "      <th>srch_destination_id</th>\n",
       "      <th>srch_destination_type_id</th>\n",
       "      <th>is_booking</th>\n",
       "      <th>cnt</th>\n",
       "      <th>hotel_continent</th>\n",
       "      <th>hotel_country</th>\n",
       "      <th>hotel_market</th>\n",
       "      <th>y</th>\n",
       "      <th>year</th>\n",
       "      <th>advance</th>\n",
       "      <th>duration</th>\n",
       "    </tr>\n",
       "  </thead>\n",
       "  <tbody>\n",
       "    <tr>\n",
       "      <td>0</td>\n",
       "      <td>2014-07-12 15:20:18</td>\n",
       "      <td>2</td>\n",
       "      <td>3</td>\n",
       "      <td>66</td>\n",
       "      <td>348</td>\n",
       "      <td>15528</td>\n",
       "      <td>1222.8908</td>\n",
       "      <td>1076811</td>\n",
       "      <td>0</td>\n",
       "      <td>1</td>\n",
       "      <td>3</td>\n",
       "      <td>2014-08-07</td>\n",
       "      <td>2014-08-10</td>\n",
       "      <td>1</td>\n",
       "      <td>1</td>\n",
       "      <td>1</td>\n",
       "      <td>28514</td>\n",
       "      <td>6</td>\n",
       "      <td>0</td>\n",
       "      <td>1</td>\n",
       "      <td>2</td>\n",
       "      <td>50</td>\n",
       "      <td>1457</td>\n",
       "      <td>2</td>\n",
       "      <td>2014</td>\n",
       "      <td>25.0</td>\n",
       "      <td>3.0</td>\n",
       "    </tr>\n",
       "    <tr>\n",
       "      <td>1</td>\n",
       "      <td>2014-07-20 16:44:53</td>\n",
       "      <td>11</td>\n",
       "      <td>3</td>\n",
       "      <td>205</td>\n",
       "      <td>354</td>\n",
       "      <td>53713</td>\n",
       "      <td>357.8904</td>\n",
       "      <td>395445</td>\n",
       "      <td>0</td>\n",
       "      <td>0</td>\n",
       "      <td>9</td>\n",
       "      <td>2014-08-29</td>\n",
       "      <td>2014-09-03</td>\n",
       "      <td>1</td>\n",
       "      <td>0</td>\n",
       "      <td>1</td>\n",
       "      <td>8267</td>\n",
       "      <td>1</td>\n",
       "      <td>0</td>\n",
       "      <td>1</td>\n",
       "      <td>2</td>\n",
       "      <td>50</td>\n",
       "      <td>675</td>\n",
       "      <td>21</td>\n",
       "      <td>2014</td>\n",
       "      <td>39.0</td>\n",
       "      <td>5.0</td>\n",
       "    </tr>\n",
       "    <tr>\n",
       "      <td>2</td>\n",
       "      <td>2014-05-08 11:39:39</td>\n",
       "      <td>2</td>\n",
       "      <td>3</td>\n",
       "      <td>66</td>\n",
       "      <td>220</td>\n",
       "      <td>49675</td>\n",
       "      <td>8842.4676</td>\n",
       "      <td>1101058</td>\n",
       "      <td>0</td>\n",
       "      <td>0</td>\n",
       "      <td>9</td>\n",
       "      <td>2015-01-04</td>\n",
       "      <td>2015-01-07</td>\n",
       "      <td>1</td>\n",
       "      <td>0</td>\n",
       "      <td>1</td>\n",
       "      <td>8227</td>\n",
       "      <td>1</td>\n",
       "      <td>1</td>\n",
       "      <td>1</td>\n",
       "      <td>3</td>\n",
       "      <td>104</td>\n",
       "      <td>67</td>\n",
       "      <td>81</td>\n",
       "      <td>2014</td>\n",
       "      <td>240.0</td>\n",
       "      <td>3.0</td>\n",
       "    </tr>\n",
       "    <tr>\n",
       "      <td>3</td>\n",
       "      <td>2013-07-13 15:50:49</td>\n",
       "      <td>22</td>\n",
       "      <td>2</td>\n",
       "      <td>0</td>\n",
       "      <td>203</td>\n",
       "      <td>54226</td>\n",
       "      <td>NaN</td>\n",
       "      <td>689933</td>\n",
       "      <td>0</td>\n",
       "      <td>0</td>\n",
       "      <td>9</td>\n",
       "      <td>2013-07-27</td>\n",
       "      <td>2013-07-28</td>\n",
       "      <td>1</td>\n",
       "      <td>0</td>\n",
       "      <td>1</td>\n",
       "      <td>12401</td>\n",
       "      <td>5</td>\n",
       "      <td>0</td>\n",
       "      <td>5</td>\n",
       "      <td>3</td>\n",
       "      <td>104</td>\n",
       "      <td>67</td>\n",
       "      <td>57</td>\n",
       "      <td>2013</td>\n",
       "      <td>13.0</td>\n",
       "      <td>1.0</td>\n",
       "    </tr>\n",
       "    <tr>\n",
       "      <td>4</td>\n",
       "      <td>2013-12-29 15:40:15</td>\n",
       "      <td>13</td>\n",
       "      <td>1</td>\n",
       "      <td>46</td>\n",
       "      <td>171</td>\n",
       "      <td>54827</td>\n",
       "      <td>NaN</td>\n",
       "      <td>251860</td>\n",
       "      <td>0</td>\n",
       "      <td>0</td>\n",
       "      <td>1</td>\n",
       "      <td>2014-10-22</td>\n",
       "      <td>2014-10-26</td>\n",
       "      <td>2</td>\n",
       "      <td>0</td>\n",
       "      <td>1</td>\n",
       "      <td>22532</td>\n",
       "      <td>6</td>\n",
       "      <td>0</td>\n",
       "      <td>1</td>\n",
       "      <td>0</td>\n",
       "      <td>63</td>\n",
       "      <td>1023</td>\n",
       "      <td>9</td>\n",
       "      <td>2013</td>\n",
       "      <td>296.0</td>\n",
       "      <td>4.0</td>\n",
       "    </tr>\n",
       "  </tbody>\n",
       "</table>\n",
       "</div>"
      ],
      "text/plain": [
       "            date_time  site_name  posa_continent  user_location_country  \\\n",
       "0 2014-07-12 15:20:18          2               3                     66   \n",
       "1 2014-07-20 16:44:53         11               3                    205   \n",
       "2 2014-05-08 11:39:39          2               3                     66   \n",
       "3 2013-07-13 15:50:49         22               2                      0   \n",
       "4 2013-12-29 15:40:15         13               1                     46   \n",
       "\n",
       "   user_location_region  user_location_city  orig_destination_distance  \\\n",
       "0                   348               15528                  1222.8908   \n",
       "1                   354               53713                   357.8904   \n",
       "2                   220               49675                  8842.4676   \n",
       "3                   203               54226                        NaN   \n",
       "4                   171               54827                        NaN   \n",
       "\n",
       "   user_id  is_mobile  is_package  channel    srch_ci    srch_co  \\\n",
       "0  1076811          0           1        3 2014-08-07 2014-08-10   \n",
       "1   395445          0           0        9 2014-08-29 2014-09-03   \n",
       "2  1101058          0           0        9 2015-01-04 2015-01-07   \n",
       "3   689933          0           0        9 2013-07-27 2013-07-28   \n",
       "4   251860          0           0        1 2014-10-22 2014-10-26   \n",
       "\n",
       "   srch_adults_cnt  srch_children_cnt  srch_rm_cnt  srch_destination_id  \\\n",
       "0                1                  1            1                28514   \n",
       "1                1                  0            1                 8267   \n",
       "2                1                  0            1                 8227   \n",
       "3                1                  0            1                12401   \n",
       "4                2                  0            1                22532   \n",
       "\n",
       "   srch_destination_type_id  is_booking  cnt  hotel_continent  hotel_country  \\\n",
       "0                         6           0    1                2             50   \n",
       "1                         1           0    1                2             50   \n",
       "2                         1           1    1                3            104   \n",
       "3                         5           0    5                3            104   \n",
       "4                         6           0    1                0             63   \n",
       "\n",
       "   hotel_market   y  year  advance  duration  \n",
       "0          1457   2  2014     25.0       3.0  \n",
       "1           675  21  2014     39.0       5.0  \n",
       "2            67  81  2014    240.0       3.0  \n",
       "3            67  57  2013     13.0       1.0  \n",
       "4          1023   9  2013    296.0       4.0  "
      ]
     },
     "execution_count": 380,
     "metadata": {},
     "output_type": "execute_result"
    }
   ],
   "source": [
    "sample_x.head()"
   ]
  },
  {
   "cell_type": "code",
   "execution_count": 381,
   "metadata": {
    "ExecuteTime": {
     "end_time": "2019-11-24T07:42:08.248510Z",
     "start_time": "2019-11-24T07:42:08.112152Z"
    }
   },
   "outputs": [
    {
     "name": "stdout",
     "output_type": "stream",
     "text": [
      "<class 'pandas.core.frame.DataFrame'>\n",
      "RangeIndex: 1883514 entries, 0 to 1883513\n",
      "Data columns (total 27 columns):\n",
      "date_time                    datetime64[ns]\n",
      "site_name                    int64\n",
      "posa_continent               int64\n",
      "user_location_country        int64\n",
      "user_location_region         int64\n",
      "user_location_city           int64\n",
      "orig_destination_distance    float64\n",
      "user_id                      int64\n",
      "is_mobile                    int64\n",
      "is_package                   int64\n",
      "channel                      int64\n",
      "srch_ci                      datetime64[ns]\n",
      "srch_co                      datetime64[ns]\n",
      "srch_adults_cnt              int64\n",
      "srch_children_cnt            int64\n",
      "srch_rm_cnt                  int64\n",
      "srch_destination_id          int64\n",
      "srch_destination_type_id     int64\n",
      "is_booking                   int64\n",
      "cnt                          int64\n",
      "hotel_continent              int64\n",
      "hotel_country                int64\n",
      "hotel_market                 int64\n",
      "y                            int64\n",
      "year                         int64\n",
      "advance                      float64\n",
      "duration                     float64\n",
      "dtypes: datetime64[ns](3), float64(3), int64(21)\n",
      "memory usage: 388.0 MB\n"
     ]
    }
   ],
   "source": [
    "sample_x.info()"
   ]
  },
  {
   "cell_type": "code",
   "execution_count": 382,
   "metadata": {
    "ExecuteTime": {
     "end_time": "2019-11-24T07:45:49.600931Z",
     "start_time": "2019-11-24T07:45:49.411654Z"
    }
   },
   "outputs": [],
   "source": [
    "new_x = sample_x.drop(columns=['hotel_market', 'user_id', 'site_name',\n",
    "                      'posa_continent', 'user_location_region', 'user_location_city',\n",
    "                     'hotel_continent', 'date_time', 'srch_ci', 'srch_co', 'y', 'year'])"
   ]
  },
  {
   "cell_type": "code",
   "execution_count": 385,
   "metadata": {
    "ExecuteTime": {
     "end_time": "2019-11-24T07:46:09.648356Z",
     "start_time": "2019-11-24T07:46:09.611324Z"
    },
    "scrolled": false
   },
   "outputs": [
    {
     "data": {
      "text/html": [
       "<div>\n",
       "<style scoped>\n",
       "    .dataframe tbody tr th:only-of-type {\n",
       "        vertical-align: middle;\n",
       "    }\n",
       "\n",
       "    .dataframe tbody tr th {\n",
       "        vertical-align: top;\n",
       "    }\n",
       "\n",
       "    .dataframe thead th {\n",
       "        text-align: right;\n",
       "    }\n",
       "</style>\n",
       "<table border=\"1\" class=\"dataframe\">\n",
       "  <thead>\n",
       "    <tr style=\"text-align: right;\">\n",
       "      <th></th>\n",
       "      <th>user_location_country</th>\n",
       "      <th>orig_destination_distance</th>\n",
       "      <th>is_mobile</th>\n",
       "      <th>is_package</th>\n",
       "      <th>channel</th>\n",
       "      <th>srch_adults_cnt</th>\n",
       "      <th>srch_children_cnt</th>\n",
       "      <th>srch_rm_cnt</th>\n",
       "      <th>srch_destination_id</th>\n",
       "      <th>srch_destination_type_id</th>\n",
       "      <th>is_booking</th>\n",
       "      <th>cnt</th>\n",
       "      <th>hotel_country</th>\n",
       "      <th>advance</th>\n",
       "      <th>duration</th>\n",
       "    </tr>\n",
       "  </thead>\n",
       "  <tbody>\n",
       "    <tr>\n",
       "      <td>0</td>\n",
       "      <td>66</td>\n",
       "      <td>1222.8908</td>\n",
       "      <td>0</td>\n",
       "      <td>1</td>\n",
       "      <td>3</td>\n",
       "      <td>1</td>\n",
       "      <td>1</td>\n",
       "      <td>1</td>\n",
       "      <td>28514</td>\n",
       "      <td>6</td>\n",
       "      <td>0</td>\n",
       "      <td>1</td>\n",
       "      <td>50</td>\n",
       "      <td>25.0</td>\n",
       "      <td>3.0</td>\n",
       "    </tr>\n",
       "    <tr>\n",
       "      <td>1</td>\n",
       "      <td>205</td>\n",
       "      <td>357.8904</td>\n",
       "      <td>0</td>\n",
       "      <td>0</td>\n",
       "      <td>9</td>\n",
       "      <td>1</td>\n",
       "      <td>0</td>\n",
       "      <td>1</td>\n",
       "      <td>8267</td>\n",
       "      <td>1</td>\n",
       "      <td>0</td>\n",
       "      <td>1</td>\n",
       "      <td>50</td>\n",
       "      <td>39.0</td>\n",
       "      <td>5.0</td>\n",
       "    </tr>\n",
       "    <tr>\n",
       "      <td>2</td>\n",
       "      <td>66</td>\n",
       "      <td>8842.4676</td>\n",
       "      <td>0</td>\n",
       "      <td>0</td>\n",
       "      <td>9</td>\n",
       "      <td>1</td>\n",
       "      <td>0</td>\n",
       "      <td>1</td>\n",
       "      <td>8227</td>\n",
       "      <td>1</td>\n",
       "      <td>1</td>\n",
       "      <td>1</td>\n",
       "      <td>104</td>\n",
       "      <td>240.0</td>\n",
       "      <td>3.0</td>\n",
       "    </tr>\n",
       "    <tr>\n",
       "      <td>3</td>\n",
       "      <td>0</td>\n",
       "      <td>NaN</td>\n",
       "      <td>0</td>\n",
       "      <td>0</td>\n",
       "      <td>9</td>\n",
       "      <td>1</td>\n",
       "      <td>0</td>\n",
       "      <td>1</td>\n",
       "      <td>12401</td>\n",
       "      <td>5</td>\n",
       "      <td>0</td>\n",
       "      <td>5</td>\n",
       "      <td>104</td>\n",
       "      <td>13.0</td>\n",
       "      <td>1.0</td>\n",
       "    </tr>\n",
       "    <tr>\n",
       "      <td>4</td>\n",
       "      <td>46</td>\n",
       "      <td>NaN</td>\n",
       "      <td>0</td>\n",
       "      <td>0</td>\n",
       "      <td>1</td>\n",
       "      <td>2</td>\n",
       "      <td>0</td>\n",
       "      <td>1</td>\n",
       "      <td>22532</td>\n",
       "      <td>6</td>\n",
       "      <td>0</td>\n",
       "      <td>1</td>\n",
       "      <td>63</td>\n",
       "      <td>296.0</td>\n",
       "      <td>4.0</td>\n",
       "    </tr>\n",
       "    <tr>\n",
       "      <td>...</td>\n",
       "      <td>...</td>\n",
       "      <td>...</td>\n",
       "      <td>...</td>\n",
       "      <td>...</td>\n",
       "      <td>...</td>\n",
       "      <td>...</td>\n",
       "      <td>...</td>\n",
       "      <td>...</td>\n",
       "      <td>...</td>\n",
       "      <td>...</td>\n",
       "      <td>...</td>\n",
       "      <td>...</td>\n",
       "      <td>...</td>\n",
       "      <td>...</td>\n",
       "      <td>...</td>\n",
       "    </tr>\n",
       "    <tr>\n",
       "      <td>1883509</td>\n",
       "      <td>205</td>\n",
       "      <td>5396.6495</td>\n",
       "      <td>0</td>\n",
       "      <td>0</td>\n",
       "      <td>5</td>\n",
       "      <td>4</td>\n",
       "      <td>0</td>\n",
       "      <td>2</td>\n",
       "      <td>8785</td>\n",
       "      <td>1</td>\n",
       "      <td>1</td>\n",
       "      <td>1</td>\n",
       "      <td>105</td>\n",
       "      <td>263.0</td>\n",
       "      <td>1.0</td>\n",
       "    </tr>\n",
       "    <tr>\n",
       "      <td>1883510</td>\n",
       "      <td>66</td>\n",
       "      <td>NaN</td>\n",
       "      <td>1</td>\n",
       "      <td>0</td>\n",
       "      <td>9</td>\n",
       "      <td>2</td>\n",
       "      <td>1</td>\n",
       "      <td>1</td>\n",
       "      <td>9145</td>\n",
       "      <td>1</td>\n",
       "      <td>0</td>\n",
       "      <td>2</td>\n",
       "      <td>50</td>\n",
       "      <td>24.0</td>\n",
       "      <td>2.0</td>\n",
       "    </tr>\n",
       "    <tr>\n",
       "      <td>1883511</td>\n",
       "      <td>69</td>\n",
       "      <td>NaN</td>\n",
       "      <td>0</td>\n",
       "      <td>0</td>\n",
       "      <td>9</td>\n",
       "      <td>1</td>\n",
       "      <td>1</td>\n",
       "      <td>1</td>\n",
       "      <td>12598</td>\n",
       "      <td>5</td>\n",
       "      <td>1</td>\n",
       "      <td>1</td>\n",
       "      <td>151</td>\n",
       "      <td>9.0</td>\n",
       "      <td>3.0</td>\n",
       "    </tr>\n",
       "    <tr>\n",
       "      <td>1883512</td>\n",
       "      <td>69</td>\n",
       "      <td>NaN</td>\n",
       "      <td>0</td>\n",
       "      <td>0</td>\n",
       "      <td>2</td>\n",
       "      <td>2</td>\n",
       "      <td>0</td>\n",
       "      <td>1</td>\n",
       "      <td>8407</td>\n",
       "      <td>6</td>\n",
       "      <td>0</td>\n",
       "      <td>1</td>\n",
       "      <td>144</td>\n",
       "      <td>154.0</td>\n",
       "      <td>5.0</td>\n",
       "    </tr>\n",
       "    <tr>\n",
       "      <td>1883513</td>\n",
       "      <td>66</td>\n",
       "      <td>991.0405</td>\n",
       "      <td>0</td>\n",
       "      <td>1</td>\n",
       "      <td>1</td>\n",
       "      <td>2</td>\n",
       "      <td>0</td>\n",
       "      <td>1</td>\n",
       "      <td>8791</td>\n",
       "      <td>1</td>\n",
       "      <td>0</td>\n",
       "      <td>16</td>\n",
       "      <td>8</td>\n",
       "      <td>49.0</td>\n",
       "      <td>3.0</td>\n",
       "    </tr>\n",
       "  </tbody>\n",
       "</table>\n",
       "<p>1883514 rows × 15 columns</p>\n",
       "</div>"
      ],
      "text/plain": [
       "         user_location_country  orig_destination_distance  is_mobile  \\\n",
       "0                           66                  1222.8908          0   \n",
       "1                          205                   357.8904          0   \n",
       "2                           66                  8842.4676          0   \n",
       "3                            0                        NaN          0   \n",
       "4                           46                        NaN          0   \n",
       "...                        ...                        ...        ...   \n",
       "1883509                    205                  5396.6495          0   \n",
       "1883510                     66                        NaN          1   \n",
       "1883511                     69                        NaN          0   \n",
       "1883512                     69                        NaN          0   \n",
       "1883513                     66                   991.0405          0   \n",
       "\n",
       "         is_package  channel  srch_adults_cnt  srch_children_cnt  srch_rm_cnt  \\\n",
       "0                 1        3                1                  1            1   \n",
       "1                 0        9                1                  0            1   \n",
       "2                 0        9                1                  0            1   \n",
       "3                 0        9                1                  0            1   \n",
       "4                 0        1                2                  0            1   \n",
       "...             ...      ...              ...                ...          ...   \n",
       "1883509           0        5                4                  0            2   \n",
       "1883510           0        9                2                  1            1   \n",
       "1883511           0        9                1                  1            1   \n",
       "1883512           0        2                2                  0            1   \n",
       "1883513           1        1                2                  0            1   \n",
       "\n",
       "         srch_destination_id  srch_destination_type_id  is_booking  cnt  \\\n",
       "0                      28514                         6           0    1   \n",
       "1                       8267                         1           0    1   \n",
       "2                       8227                         1           1    1   \n",
       "3                      12401                         5           0    5   \n",
       "4                      22532                         6           0    1   \n",
       "...                      ...                       ...         ...  ...   \n",
       "1883509                 8785                         1           1    1   \n",
       "1883510                 9145                         1           0    2   \n",
       "1883511                12598                         5           1    1   \n",
       "1883512                 8407                         6           0    1   \n",
       "1883513                 8791                         1           0   16   \n",
       "\n",
       "         hotel_country  advance  duration  \n",
       "0                   50     25.0       3.0  \n",
       "1                   50     39.0       5.0  \n",
       "2                  104    240.0       3.0  \n",
       "3                  104     13.0       1.0  \n",
       "4                   63    296.0       4.0  \n",
       "...                ...      ...       ...  \n",
       "1883509            105    263.0       1.0  \n",
       "1883510             50     24.0       2.0  \n",
       "1883511            151      9.0       3.0  \n",
       "1883512            144    154.0       5.0  \n",
       "1883513              8     49.0       3.0  \n",
       "\n",
       "[1883514 rows x 15 columns]"
      ]
     },
     "execution_count": 385,
     "metadata": {},
     "output_type": "execute_result"
    }
   ],
   "source": [
    "new_x"
   ]
  },
  {
   "cell_type": "code",
   "execution_count": 389,
   "metadata": {
    "ExecuteTime": {
     "end_time": "2019-11-24T07:48:51.442378Z",
     "start_time": "2019-11-24T07:48:50.570071Z"
    }
   },
   "outputs": [],
   "source": [
    "# Train test split the 5% data\n",
    "xtrain, xtest, ytrain, ytest = train_test_split(new_x, sample_y, test_size=.2 ,random_state=42)"
   ]
  },
  {
   "cell_type": "code",
   "execution_count": 391,
   "metadata": {
    "ExecuteTime": {
     "end_time": "2019-11-24T07:49:11.154467Z",
     "start_time": "2019-11-24T07:49:11.146525Z"
    }
   },
   "outputs": [
    {
     "data": {
      "text/plain": [
       "((1506811, 15), (376703, 15))"
      ]
     },
     "execution_count": 391,
     "metadata": {},
     "output_type": "execute_result"
    }
   ],
   "source": [
    "xtrain.shape, xtest.shape"
   ]
  },
  {
   "cell_type": "code",
   "execution_count": 395,
   "metadata": {
    "ExecuteTime": {
     "end_time": "2019-11-24T08:11:03.946652Z",
     "start_time": "2019-11-24T08:11:03.926527Z"
    }
   },
   "outputs": [],
   "source": [
    "# Building the pipeline\n",
    "def make_pipeline(clf=None):\n",
    "    \"\"\"This function here makes the pipeline but does not include the clf to prevent data leakage.\"\"\"\n",
    "    \n",
    "    date_features = ['advance', 'duration']\n",
    "    date_transformer = Pipeline(steps=[('imp', SimpleImputer(missing_values=np.nan, strategy='constant', fill_value=0))])\n",
    "\n",
    "    distance = ['orig_destination_distance']\n",
    "    distance_transformer = Pipeline(steps=[('imp', SimpleImputer(missing_values=np.nan, strategy='mean'))])\n",
    "\n",
    "    preprocessor = ColumnTransformer(transformers=[('date', date_transformer, date_features),\n",
    "                                                   ('dist', distance_transformer, distance)],\n",
    "                                    remainder='passthrough')\n",
    "\n",
    "    pipeline = Pipeline([('preprocess', preprocessor)])\n",
    "    \n",
    "    return pipeline"
   ]
  },
  {
   "cell_type": "code",
   "execution_count": 404,
   "metadata": {
    "ExecuteTime": {
     "end_time": "2019-11-24T08:18:44.807166Z",
     "start_time": "2019-11-24T08:18:44.768992Z"
    }
   },
   "outputs": [],
   "source": [
    "def make_random_cv(cv, n_iter):\n",
    "    \"\"\"\n",
    "    Steps:\n",
    "    1. Define Estimator\n",
    "    2. Define hyperparameter search space\n",
    "    3. Instantiate RandomizedSearchCV\n",
    "    \"\"\"\n",
    "    \n",
    "    # YOUR CODE HERE\n",
    "    rf = RandomForestClassifier(random_state=42)\n",
    "    params_grid = {'n_estimators': [10, 100, 200, 400, 800, 1200],\n",
    "                  'max_features': [2, 4, 6, 8],\n",
    "                  'min_samples_leaf': [5, 10, 15, 20, 25]}\n",
    "    \n",
    "    clf_random_cv = RandomizedSearchCV(estimator=rf, scoring='f1_weighted', param_distributions=params_grid, n_iter=n_iter, cv=cv)\n",
    "    \n",
    "    return clf_random_cv"
   ]
  },
  {
   "cell_type": "code",
   "execution_count": 409,
   "metadata": {
    "ExecuteTime": {
     "end_time": "2019-11-24T08:27:25.873766Z",
     "start_time": "2019-11-24T08:27:25.864660Z"
    }
   },
   "outputs": [
    {
     "data": {
      "text/plain": [
       "(1506811, 15)"
      ]
     },
     "execution_count": 409,
     "metadata": {},
     "output_type": "execute_result"
    }
   ],
   "source": [
    "# make the pipeline and transform the data\n",
    "pipeline = make_pipeline()\n",
    "trans_xtrain = pipeline.fit_transform(xtrain)\n",
    "trans_xtrain.shape # sanity check of datashape"
   ]
  },
  {
   "cell_type": "code",
   "execution_count": null,
   "metadata": {
    "ExecuteTime": {
     "start_time": "2019-11-24T08:27:42.391Z"
    },
    "scrolled": true
   },
   "outputs": [],
   "source": [
    "# creating the RandomizedSearchCV\n",
    "randomize_clf = make_random_cv(5, 10)\n",
    "randomize_clf.fit(trans_xtrain, ytrain)"
   ]
  },
  {
   "cell_type": "markdown",
   "metadata": {},
   "source": [
    "# Sandbox"
   ]
  },
  {
   "cell_type": "markdown",
   "metadata": {
    "ExecuteTime": {
     "end_time": "2019-11-24T06:02:37.859934Z",
     "start_time": "2019-11-24T06:02:37.143587Z"
    }
   },
   "source": [
    "# TOY SET\n",
    "# taking about 6 samples to test where one sample has a messed up date\n",
    "samples = X_train.head()\n",
    "samples = samples.append(X_train[X_train['srch_ci'] == '2557-11-14'])\n",
    "samples['year'] = samples.date_time.dt.year\n",
    "\n",
    "# loop to find the wrong years\n",
    "bad = []\n",
    "for idx, row in samples.iterrows():\n",
    "    t = []\n",
    "    if row['srch_ci'].split('-')[0] not in ['2013', '2014', '2015']:\n",
    "        t = samples.loc[idx, 'srch_ci'].split('-')\n",
    "        t[0] = str(samples.loc[idx, 'year'])\n",
    "        samples.loc[idx, 'srch_ci'] = '-'.join(t)"
   ]
  },
  {
   "cell_type": "markdown",
   "metadata": {
    "ExecuteTime": {
     "end_time": "2019-11-24T06:20:25.473650Z",
     "start_time": "2019-11-24T06:13:11.736339Z"
    }
   },
   "source": [
    "# ACTUAL SAMPLE SET\n",
    "#bad = []\n",
    "# This cell fixes the OutOfBound Error where the year was like 2557\n",
    "#X_train_idx['date_time'] = pd.to_datetime(X_train_idx['date_time'])\n",
    "#X_train_idx['year'] = X_train_idx.date_time.dt.year\n",
    "\n",
    "for idx, row in tqdm(X_train_idx.iterrows()):\n",
    "    try:\n",
    "        if (row['srch_ci'].split('-')[0]) not in ['2013', '2014', '2015']:\n",
    "            # checkin column\n",
    "            t = X_train_idx.loc[idx, 'srch_ci'].split('-')\n",
    "            t[0] = str(X_train_idx.loc[idx, 'year'])\n",
    "            X_train_idx.loc[idx, 'srch_ci'] = '-'.join(t)\n",
    "\n",
    "            # checkout column\n",
    "            t = X_train_idx.loc[idx, 'srch_co'].split('-')\n",
    "            t[0] = str(X_train_idx.loc[idx, 'year'])\n",
    "            X_train_idx.loc[idx, 'srch_co'] = '-'.join(t)\n",
    "            t = []\n",
    "    except:\n",
    "        continue\n",
    "        #bad.append(idx)\n",
    "# The ids was just to locate the NaN date rows for EDA\n",
    "#ids = np.asarray(bad)"
   ]
  },
  {
   "cell_type": "code",
   "execution_count": 237,
   "metadata": {
    "ExecuteTime": {
     "end_time": "2019-11-24T05:07:41.899694Z",
     "start_time": "2019-11-24T05:07:41.890174Z"
    },
    "scrolled": true
   },
   "outputs": [
    {
     "data": {
      "text/plain": [
       "(2553,)"
      ]
     },
     "execution_count": 237,
     "metadata": {},
     "output_type": "execute_result"
    }
   ],
   "source": [
    "ids.shape"
   ]
  },
  {
   "cell_type": "code",
   "execution_count": 282,
   "metadata": {
    "ExecuteTime": {
     "end_time": "2019-11-24T06:23:48.055794Z",
     "start_time": "2019-11-24T06:23:44.919586Z"
    }
   },
   "outputs": [],
   "source": [
    "# Imputing the missing dates to 0 so that we can cover to datetime in pandas to feature engineer\n",
    "imp = SimpleImputer(missing_values=0, strategy='constant', fill_value='0')\n",
    "X_train_idx['srch_ci'] = imp.fit_transform(X_train_idx[['srch_ci']]).ravel()\n",
    "X_train_idx['srch_co'] = imp.fit_transform(X_train_idx[['srch_co']]).ravel()"
   ]
  },
  {
   "cell_type": "markdown",
   "metadata": {
    "ExecuteTime": {
     "end_time": "2019-11-23T21:23:37.185363Z",
     "start_time": "2019-11-23T21:23:37.177286Z"
    },
    "scrolled": true
   },
   "source": [
    "for idx, row in samples.iterrows():\n",
    "    try:\n",
    "        samples.loc[idx, 'advance'] = row['srch_ci'] - row['date_time']\n",
    "    except:\n",
    "        samples['srch_ci'].dt.strftime('%m%d')\n",
    "        row['date_time'].dt.year\n",
    "        samples.loc[idx, 'advance'] = row['srch_ci'] - row['date_time']\n",
    "    "
   ]
  },
  {
   "cell_type": "markdown",
   "metadata": {
    "ExecuteTime": {
     "end_time": "2019-11-23T21:31:15.172811Z",
     "start_time": "2019-11-23T21:31:14.986058Z"
    }
   },
   "source": [
    "samples['srch_ci'].dt.strftime('%m%d')"
   ]
  },
  {
   "cell_type": "code",
   "execution_count": 293,
   "metadata": {
    "ExecuteTime": {
     "end_time": "2019-11-24T06:30:46.046080Z",
     "start_time": "2019-11-24T06:30:44.549195Z"
    }
   },
   "outputs": [],
   "source": [
    "# feature engineering into datetime\n",
    "X_train_idx['date_time'] = pd.to_datetime(X_train_idx['date_time'], format='%d-%m-%Y', errors='coerce')\n",
    "X_train_idx['srch_ci'] = pd.to_datetime(X_train_idx['srch_ci'], format='%d-%m-%Y', errors='coerce')\n",
    "X_train_idx['srch_co'] = pd.to_datetime(X_train_idx['srch_co'], format='%d-%m-%Y', errors='coerce')\n",
    "\n",
    "# timedelta for days in advance feature\n",
    "#X_train['advance'] = X_train['srch_ci'] - X_train['date_time']\n",
    "#X_train['advance'] = X_train.advance.dt.days\n",
    "\n",
    "# duration of stays\n",
    "#X_train['duration'] = X_train['srch_co'] - X_train['srch_ci']\n",
    "#X_train['duration'] = X_train.duration.dt.days"
   ]
  },
  {
   "cell_type": "code",
   "execution_count": 167,
   "metadata": {
    "ExecuteTime": {
     "end_time": "2019-11-23T08:02:41.322996Z",
     "start_time": "2019-11-23T08:02:41.180980Z"
    }
   },
   "outputs": [
    {
     "name": "stderr",
     "output_type": "stream",
     "text": [
      "/Users/dillonquan/opt/anaconda3/lib/python3.7/site-packages/ipykernel_launcher.py:1: SettingWithCopyWarning: \n",
      "A value is trying to be set on a copy of a slice from a DataFrame.\n",
      "Try using .loc[row_indexer,col_indexer] = value instead\n",
      "\n",
      "See the caveats in the documentation: http://pandas.pydata.org/pandas-docs/stable/user_guide/indexing.html#returning-a-view-versus-a-copy\n",
      "  \"\"\"Entry point for launching an IPython kernel.\n"
     ]
    }
   ],
   "source": [
    "X_train['year'] = X_train['date_time'].dt.year\n",
    "#X_train[X_train['srch_ci'] == '2557-11-14']"
   ]
  },
  {
   "cell_type": "code",
   "execution_count": 150,
   "metadata": {
    "ExecuteTime": {
     "end_time": "2019-11-23T07:51:26.182068Z",
     "start_time": "2019-11-23T07:51:25.995520Z"
    }
   },
   "outputs": [],
   "source": [
    "train_filter = X_train.drop(columns=['hotel_market', 'user_id', 'site_name',\n",
    "                      'posa_continent', 'user_location_region', 'user_location_city',\n",
    "                     'hotel_continent', 'date_time', 'srch_ci', 'srch_co'])"
   ]
  },
  {
   "cell_type": "code",
   "execution_count": 172,
   "metadata": {
    "ExecuteTime": {
     "end_time": "2019-11-23T08:11:05.901196Z",
     "start_time": "2019-11-23T08:11:05.875874Z"
    }
   },
   "outputs": [
    {
     "data": {
      "text/html": [
       "<div>\n",
       "<style scoped>\n",
       "    .dataframe tbody tr th:only-of-type {\n",
       "        vertical-align: middle;\n",
       "    }\n",
       "\n",
       "    .dataframe tbody tr th {\n",
       "        vertical-align: top;\n",
       "    }\n",
       "\n",
       "    .dataframe thead th {\n",
       "        text-align: right;\n",
       "    }\n",
       "</style>\n",
       "<table border=\"1\" class=\"dataframe\">\n",
       "  <thead>\n",
       "    <tr style=\"text-align: right;\">\n",
       "      <th></th>\n",
       "      <th>user_location_country</th>\n",
       "      <th>orig_destination_distance</th>\n",
       "      <th>is_mobile</th>\n",
       "      <th>is_package</th>\n",
       "      <th>channel</th>\n",
       "      <th>srch_adults_cnt</th>\n",
       "      <th>srch_children_cnt</th>\n",
       "      <th>srch_rm_cnt</th>\n",
       "      <th>srch_destination_id</th>\n",
       "      <th>srch_destination_type_id</th>\n",
       "      <th>is_booking</th>\n",
       "      <th>cnt</th>\n",
       "      <th>hotel_country</th>\n",
       "      <th>y</th>\n",
       "    </tr>\n",
       "  </thead>\n",
       "  <tbody>\n",
       "    <tr>\n",
       "      <td>34015300</td>\n",
       "      <td>66</td>\n",
       "      <td>1222.8908</td>\n",
       "      <td>0</td>\n",
       "      <td>1</td>\n",
       "      <td>3</td>\n",
       "      <td>1</td>\n",
       "      <td>1</td>\n",
       "      <td>1</td>\n",
       "      <td>28514</td>\n",
       "      <td>6</td>\n",
       "      <td>0</td>\n",
       "      <td>1</td>\n",
       "      <td>50</td>\n",
       "      <td>2</td>\n",
       "    </tr>\n",
       "    <tr>\n",
       "      <td>4796822</td>\n",
       "      <td>205</td>\n",
       "      <td>357.8904</td>\n",
       "      <td>0</td>\n",
       "      <td>0</td>\n",
       "      <td>9</td>\n",
       "      <td>1</td>\n",
       "      <td>0</td>\n",
       "      <td>1</td>\n",
       "      <td>8267</td>\n",
       "      <td>1</td>\n",
       "      <td>0</td>\n",
       "      <td>1</td>\n",
       "      <td>50</td>\n",
       "      <td>21</td>\n",
       "    </tr>\n",
       "    <tr>\n",
       "      <td>21461168</td>\n",
       "      <td>66</td>\n",
       "      <td>8842.4676</td>\n",
       "      <td>0</td>\n",
       "      <td>0</td>\n",
       "      <td>9</td>\n",
       "      <td>1</td>\n",
       "      <td>0</td>\n",
       "      <td>1</td>\n",
       "      <td>8227</td>\n",
       "      <td>1</td>\n",
       "      <td>1</td>\n",
       "      <td>1</td>\n",
       "      <td>104</td>\n",
       "      <td>81</td>\n",
       "    </tr>\n",
       "    <tr>\n",
       "      <td>15605930</td>\n",
       "      <td>0</td>\n",
       "      <td>NaN</td>\n",
       "      <td>0</td>\n",
       "      <td>0</td>\n",
       "      <td>9</td>\n",
       "      <td>1</td>\n",
       "      <td>0</td>\n",
       "      <td>1</td>\n",
       "      <td>12401</td>\n",
       "      <td>5</td>\n",
       "      <td>0</td>\n",
       "      <td>5</td>\n",
       "      <td>104</td>\n",
       "      <td>57</td>\n",
       "    </tr>\n",
       "    <tr>\n",
       "      <td>8290644</td>\n",
       "      <td>46</td>\n",
       "      <td>NaN</td>\n",
       "      <td>0</td>\n",
       "      <td>0</td>\n",
       "      <td>1</td>\n",
       "      <td>2</td>\n",
       "      <td>0</td>\n",
       "      <td>1</td>\n",
       "      <td>22532</td>\n",
       "      <td>6</td>\n",
       "      <td>0</td>\n",
       "      <td>1</td>\n",
       "      <td>63</td>\n",
       "      <td>9</td>\n",
       "    </tr>\n",
       "    <tr>\n",
       "      <td>...</td>\n",
       "      <td>...</td>\n",
       "      <td>...</td>\n",
       "      <td>...</td>\n",
       "      <td>...</td>\n",
       "      <td>...</td>\n",
       "      <td>...</td>\n",
       "      <td>...</td>\n",
       "      <td>...</td>\n",
       "      <td>...</td>\n",
       "      <td>...</td>\n",
       "      <td>...</td>\n",
       "      <td>...</td>\n",
       "      <td>...</td>\n",
       "      <td>...</td>\n",
       "    </tr>\n",
       "    <tr>\n",
       "      <td>10628064</td>\n",
       "      <td>205</td>\n",
       "      <td>5396.6495</td>\n",
       "      <td>0</td>\n",
       "      <td>0</td>\n",
       "      <td>5</td>\n",
       "      <td>4</td>\n",
       "      <td>0</td>\n",
       "      <td>2</td>\n",
       "      <td>8785</td>\n",
       "      <td>1</td>\n",
       "      <td>1</td>\n",
       "      <td>1</td>\n",
       "      <td>105</td>\n",
       "      <td>64</td>\n",
       "    </tr>\n",
       "    <tr>\n",
       "      <td>10593935</td>\n",
       "      <td>66</td>\n",
       "      <td>NaN</td>\n",
       "      <td>1</td>\n",
       "      <td>0</td>\n",
       "      <td>9</td>\n",
       "      <td>2</td>\n",
       "      <td>1</td>\n",
       "      <td>1</td>\n",
       "      <td>9145</td>\n",
       "      <td>1</td>\n",
       "      <td>0</td>\n",
       "      <td>2</td>\n",
       "      <td>50</td>\n",
       "      <td>4</td>\n",
       "    </tr>\n",
       "    <tr>\n",
       "      <td>16739344</td>\n",
       "      <td>69</td>\n",
       "      <td>NaN</td>\n",
       "      <td>0</td>\n",
       "      <td>0</td>\n",
       "      <td>9</td>\n",
       "      <td>1</td>\n",
       "      <td>1</td>\n",
       "      <td>1</td>\n",
       "      <td>12598</td>\n",
       "      <td>5</td>\n",
       "      <td>1</td>\n",
       "      <td>1</td>\n",
       "      <td>151</td>\n",
       "      <td>78</td>\n",
       "    </tr>\n",
       "    <tr>\n",
       "      <td>13776549</td>\n",
       "      <td>69</td>\n",
       "      <td>NaN</td>\n",
       "      <td>0</td>\n",
       "      <td>0</td>\n",
       "      <td>2</td>\n",
       "      <td>2</td>\n",
       "      <td>0</td>\n",
       "      <td>1</td>\n",
       "      <td>8407</td>\n",
       "      <td>6</td>\n",
       "      <td>0</td>\n",
       "      <td>1</td>\n",
       "      <td>144</td>\n",
       "      <td>2</td>\n",
       "    </tr>\n",
       "    <tr>\n",
       "      <td>16452494</td>\n",
       "      <td>66</td>\n",
       "      <td>991.0405</td>\n",
       "      <td>0</td>\n",
       "      <td>1</td>\n",
       "      <td>1</td>\n",
       "      <td>2</td>\n",
       "      <td>0</td>\n",
       "      <td>1</td>\n",
       "      <td>8791</td>\n",
       "      <td>1</td>\n",
       "      <td>0</td>\n",
       "      <td>16</td>\n",
       "      <td>8</td>\n",
       "      <td>66</td>\n",
       "    </tr>\n",
       "  </tbody>\n",
       "</table>\n",
       "<p>1883514 rows × 14 columns</p>\n",
       "</div>"
      ],
      "text/plain": [
       "          user_location_country  orig_destination_distance  is_mobile  \\\n",
       "34015300                     66                  1222.8908          0   \n",
       "4796822                     205                   357.8904          0   \n",
       "21461168                     66                  8842.4676          0   \n",
       "15605930                      0                        NaN          0   \n",
       "8290644                      46                        NaN          0   \n",
       "...                         ...                        ...        ...   \n",
       "10628064                    205                  5396.6495          0   \n",
       "10593935                     66                        NaN          1   \n",
       "16739344                     69                        NaN          0   \n",
       "13776549                     69                        NaN          0   \n",
       "16452494                     66                   991.0405          0   \n",
       "\n",
       "          is_package  channel  srch_adults_cnt  srch_children_cnt  \\\n",
       "34015300           1        3                1                  1   \n",
       "4796822            0        9                1                  0   \n",
       "21461168           0        9                1                  0   \n",
       "15605930           0        9                1                  0   \n",
       "8290644            0        1                2                  0   \n",
       "...              ...      ...              ...                ...   \n",
       "10628064           0        5                4                  0   \n",
       "10593935           0        9                2                  1   \n",
       "16739344           0        9                1                  1   \n",
       "13776549           0        2                2                  0   \n",
       "16452494           1        1                2                  0   \n",
       "\n",
       "          srch_rm_cnt  srch_destination_id  srch_destination_type_id  \\\n",
       "34015300            1                28514                         6   \n",
       "4796822             1                 8267                         1   \n",
       "21461168            1                 8227                         1   \n",
       "15605930            1                12401                         5   \n",
       "8290644             1                22532                         6   \n",
       "...               ...                  ...                       ...   \n",
       "10628064            2                 8785                         1   \n",
       "10593935            1                 9145                         1   \n",
       "16739344            1                12598                         5   \n",
       "13776549            1                 8407                         6   \n",
       "16452494            1                 8791                         1   \n",
       "\n",
       "          is_booking  cnt  hotel_country   y  \n",
       "34015300           0    1             50   2  \n",
       "4796822            0    1             50  21  \n",
       "21461168           1    1            104  81  \n",
       "15605930           0    5            104  57  \n",
       "8290644            0    1             63   9  \n",
       "...              ...  ...            ...  ..  \n",
       "10628064           1    1            105  64  \n",
       "10593935           0    2             50   4  \n",
       "16739344           1    1            151  78  \n",
       "13776549           0    1            144   2  \n",
       "16452494           0   16              8  66  \n",
       "\n",
       "[1883514 rows x 14 columns]"
      ]
     },
     "execution_count": 172,
     "metadata": {},
     "output_type": "execute_result"
    }
   ],
   "source": [
    "train_filter"
   ]
  },
  {
   "cell_type": "code",
   "execution_count": 171,
   "metadata": {
    "ExecuteTime": {
     "end_time": "2019-11-23T08:10:51.121973Z",
     "start_time": "2019-11-23T08:10:49.592133Z"
    }
   },
   "outputs": [
    {
     "name": "stdout",
     "output_type": "stream",
     "text": [
      "Column0 has 0 NaN values\n",
      "Column1 has 675772 NaN values\n",
      "Column2 has 0 NaN values\n",
      "Column3 has 0 NaN values\n",
      "Column4 has 0 NaN values\n",
      "Column5 has 0 NaN values\n",
      "Column6 has 0 NaN values\n",
      "Column7 has 0 NaN values\n",
      "Column8 has 0 NaN values\n",
      "Column9 has 0 NaN values\n",
      "Column10 has 0 NaN values\n",
      "Column11 has 0 NaN values\n",
      "Column12 has 0 NaN values\n",
      "Column13 has 0 NaN values\n"
     ]
    }
   ],
   "source": [
    "# trying to determine which columns have missing values\n",
    "for idx in range(train_filter.shape[1]):\n",
    "    print(f\"Column{idx} has {train_filter[train_filter.iloc[:,idx].isna()].shape[0]} NaN values\")"
   ]
  },
  {
   "cell_type": "markdown",
   "metadata": {},
   "source": [
    "### Holidays is TBD not sure how to set a datetime column without the years"
   ]
  },
  {
   "cell_type": "code",
   "execution_count": 147,
   "metadata": {
    "ExecuteTime": {
     "end_time": "2019-11-23T07:39:49.064199Z",
     "start_time": "2019-11-23T07:39:49.043245Z"
    },
    "scrolled": true
   },
   "outputs": [
    {
     "name": "stderr",
     "output_type": "stream",
     "text": [
      "/Users/dillonquan/opt/anaconda3/lib/python3.7/site-packages/ipykernel_launcher.py:1: SettingWithCopyWarning: \n",
      "A value is trying to be set on a copy of a slice from a DataFrame.\n",
      "Try using .loc[row_indexer,col_indexer] = value instead\n",
      "\n",
      "See the caveats in the documentation: http://pandas.pydata.org/pandas-docs/stable/user_guide/indexing.html#returning-a-view-versus-a-copy\n",
      "  \"\"\"Entry point for launching an IPython kernel.\n",
      "/Users/dillonquan/opt/anaconda3/lib/python3.7/site-packages/ipykernel_launcher.py:4: SettingWithCopyWarning: \n",
      "A value is trying to be set on a copy of a slice from a DataFrame.\n",
      "Try using .loc[row_indexer,col_indexer] = value instead\n",
      "\n",
      "See the caveats in the documentation: http://pandas.pydata.org/pandas-docs/stable/user_guide/indexing.html#returning-a-view-versus-a-copy\n",
      "  after removing the cwd from sys.path.\n"
     ]
    }
   ],
   "source": [
    "samples['checkin'] = samples['srch_ci'].dt.strftime('%m%d')\n",
    "#samples.checkin\n",
    "#pd.to_datetime(df_sub['year'].astype(str)  + df_sub['Months'], format='%Y%B'\n",
    "samples['checkin'] = pd.to_datetime(samples['checkin'], format='%m%d')"
   ]
  },
  {
   "cell_type": "code",
   "execution_count": null,
   "metadata": {},
   "outputs": [],
   "source": []
  },
  {
   "cell_type": "code",
   "execution_count": null,
   "metadata": {},
   "outputs": [],
   "source": []
  },
  {
   "cell_type": "code",
   "execution_count": null,
   "metadata": {},
   "outputs": [],
   "source": []
  },
  {
   "cell_type": "code",
   "execution_count": null,
   "metadata": {},
   "outputs": [],
   "source": []
  },
  {
   "cell_type": "code",
   "execution_count": null,
   "metadata": {},
   "outputs": [],
   "source": []
  },
  {
   "cell_type": "code",
   "execution_count": null,
   "metadata": {},
   "outputs": [],
   "source": []
  },
  {
   "cell_type": "code",
   "execution_count": null,
   "metadata": {},
   "outputs": [],
   "source": []
  },
  {
   "cell_type": "markdown",
   "metadata": {
    "ExecuteTime": {
     "end_time": "2019-11-22T23:58:02.281361Z",
     "start_time": "2019-11-22T23:57:09.869229Z"
    }
   },
   "source": [
    "# redo this cell Nick's lesson\n",
    "### Always assume that you cannot read in the data or even do EDA on the data. How can you access it?\n",
    "import random\n",
    "with open('data/train.csv', 'r') as f_handle:\n",
    "    lst = []\n",
    "    for x in range(38000000):\n",
    "        ln = f_handle.readline()\n",
    "        if x % 100000 == 0: print(x)\n",
    "        if ln is None: break\n",
    "        if random.random() < .1:\n",
    "            lst.append( ln.split(',')[-1].replace('\\n', ''))"
   ]
  },
  {
   "cell_type": "code",
   "execution_count": null,
   "metadata": {},
   "outputs": [],
   "source": []
  }
 ],
 "metadata": {
  "kernelspec": {
   "display_name": "Python 3",
   "language": "python",
   "name": "python3"
  },
  "language_info": {
   "codemirror_mode": {
    "name": "ipython",
    "version": 3
   },
   "file_extension": ".py",
   "mimetype": "text/x-python",
   "name": "python",
   "nbconvert_exporter": "python",
   "pygments_lexer": "ipython3",
   "version": "3.7.4"
  }
 },
 "nbformat": 4,
 "nbformat_minor": 2
}
